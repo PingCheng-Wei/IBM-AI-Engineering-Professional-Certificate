{
 "cells": [
  {
   "cell_type": "markdown",
   "metadata": {},
   "source": [
    "<a href=\"https://www.skills.network/\"><img src=\"https://cf-courses-data.s3.us.cloud-object-storage.appdomain.cloud/IBM-DL0120ENedX/labs/Template%20for%20Instructional%20Hands-on%20Labs/images/IDSNlogo.png\" width=\"400px\" align=\"center\"></a>\n",
    "\n",
    "<h1 align=\"center\"><font size=\"5\">RECURRENT NETWORKS and LSTM IN DEEP LEARNING</font></h1>\n"
   ]
  },
  {
   "cell_type": "markdown",
   "metadata": {},
   "source": [
    "<h2>Applying Recurrent Neural Networks/LSTM for Language Modeling</h2>\n",
    "Hello and welcome to this part. In this notebook, we will go over the topic of Language Modelling, and create a Recurrent Neural Network model based on the Long Short-Term Memory unit to train and benchmark on the Penn Treebank dataset. By the end of this notebook, you should be able to understand how TensorFlow builds and executes a RNN model for Language Modelling.\n"
   ]
  },
  {
   "cell_type": "markdown",
   "metadata": {},
   "source": [
    "<h2>The Objective</h2>\n",
    "By now, you should have an understanding of how Recurrent Networks work -- a specialized model to process sequential data by keeping track of the \"state\" or context. In this notebook, we go over a TensorFlow code snippet for creating a model focused on <b>Language Modelling</b> -- a very relevant task that is the cornerstone of many different linguistic problems such as <b>Speech Recognition, Machine Translation and Image Captioning</b>. For this, we will be using the Penn Treebank dataset, which is an often-used dataset for benchmarking Language Modelling models.\n"
   ]
  },
  {
   "cell_type": "markdown",
   "metadata": {},
   "source": [
    "<h2>Table of Contents</h2>\n",
    "<ol>\n",
    "    <li><a href=\"#language_modelling\">What exactly is Language Modelling?</a></li>\n",
    "    <li><a href=\"#treebank_dataset\">The Penn Treebank dataset</a></li>\n",
    "    <li><a href=\"#word_embedding\">Word Embedding</a></li>\n",
    "    <li><a href=\"#building_lstm_model\">Building the LSTM model for Language Modeling</a></li>\n",
    "    <li><a href=\"#ltsm\">LTSM</a></li>\n",
    "</ol>\n",
    "<p></p>\n",
    "</div>\n",
    "<br>\n"
   ]
  },
  {
   "cell_type": "markdown",
   "metadata": {
    "button": false,
    "deletable": true,
    "new_sheet": false,
    "run_control": {
     "read_only": false
    }
   },
   "source": [
    "* * *\n"
   ]
  },
  {
   "cell_type": "markdown",
   "metadata": {},
   "source": [
    "<a id=\"language_modelling\"></a>\n",
    "\n",
    "<h2>What exactly is Language Modelling?</h2>\n",
    "Language Modelling, to put it simply, <b>is the task of assigning probabilities to sequences of words</b>. This means that, given a context of one or a sequence of words in the language the model was trained on, the model should provide the next most probable words or sequence of words that follows from the given sequence of words the sentence. Language Modelling is one of the most important tasks in Natural Language Processing.\n",
    "\n",
    "<img src=\"https://ibm.box.com/shared/static/1d1i5gub6wljby2vani2vzxp0xsph702.png\" width=\"1080\">\n",
    "<center><i>Example of a sentence being predicted</i></center>\n",
    "<br><br>\n",
    "In this example, one can see the predictions for the next word of a sentence, given the context \"This is an\". As you can see, this boils down to a sequential data analysis task -- you are given a word or a sequence of words (the input data), and, given the context (the state), you need to find out what is the next word (the prediction). This kind of analysis is very important for language-related tasks such as <b>Speech Recognition, Machine Translation, Image Captioning, Text Correction</b> and many other very relevant problems. \n",
    "\n",
    "<img src=\"https://ibm.box.com/shared/static/az39idf9ipfdpc5ugifpgxnydelhyf3i.png\" width=\"1080\">\n",
    "<center><i>The above example is a schema of an RNN in execution</i></center>\n",
    "<br><br>\n",
    "As the above image shows, Recurrent Network models fit this problem like a glove. Alongside LSTM and its capacity to maintain the model's state for over one thousand time steps, we have all the tools we need to undertake this problem. The goal for this notebook is to create a model that can reach <b>low levels of perplexity</b> on our desired dataset.\n",
    "\n",
    "For Language Modelling problems, <b>perplexity</b> is the way to gauge efficiency. Perplexity is simply a measure of how well a probabilistic model is able to predict its sample. A higher-level way to explain this would be saying that <b>low perplexity means a higher degree of trust in the predictions the model makes</b>. Therefore, the lower perplexity is, the better.\n"
   ]
  },
  {
   "cell_type": "markdown",
   "metadata": {},
   "source": [
    "<a id=\"treebank_dataset\"></a>\n",
    "\n",
    "<h2>The Penn Treebank dataset</h2>\n",
    "Historically, datasets big enough for Natural Language Processing are hard to come by. This is in part due to the necessity of the sentences to be broken down and tagged with a certain degree of correctness -- or else the models trained on it won't be able to be correct at all. This means that we need a <b>large amount of data, annotated by or at least corrected by humans</b>. This is, of course, not an easy task at all.\n",
    "\n",
    "The Penn Treebank, or PTB for short, is a dataset maintained by the University of Pennsylvania. It is <i>huge</i> -- there are over <b>four million and eight hundred thousand</b> annotated words in it, all corrected by humans. It is composed of many different sources, from abstracts of Department of Energy papers to texts from the Library of America. Since it is verifiably correct and of such a huge size, the Penn Treebank is commonly used as a benchmark dataset for Language Modelling.\n",
    "\n",
    "The dataset is divided in different kinds of annotations, such as Piece-of-Speech, Syntactic and Semantic skeletons. For this example, we will simply use a sample of clean, non-annotated words (with the exception of one tag --<code><unk></code>\n",
    ", which is used for rare words such as uncommon proper nouns) for our model. This means that we just want to predict what the next words would be, not what they mean in context or their classes on a given sentence.\n",
    "\n",
    "<center>Example of text from the dataset we are going to use, <b>ptb.train</b></center>\n",
    "<br><br>\n",
    "\n",
    "<div class=\"alert alert-block alert-info\" style=\"margin-top: 20px\">\n",
    "    <center>the percentage of lung cancer deaths among the workers at the west <code>&lt;unk&gt;</code> mass. paper factory appears to be the highest for any asbestos workers studied in western industrialized countries he said \n",
    " the plant which is owned by <code>&lt;unk&gt;</code> & <code>&lt;unk&gt;</code> co. was under contract with <code>&lt;unk&gt;</code> to make the cigarette filters \n",
    " the finding probably will support those who argue that the U.S. should regulate the class of asbestos including <code>&lt;unk&gt;</code> more <code>&lt;unk&gt;</code> than the common kind of asbestos <code>&lt;unk&gt;</code> found in most schools and other buildings dr. <code>&lt;unk&gt;</code> said</center>\n",
    "</div>\n"
   ]
  },
  {
   "cell_type": "markdown",
   "metadata": {
    "button": false,
    "deletable": true,
    "new_sheet": false,
    "run_control": {
     "read_only": false
    }
   },
   "source": [
    "<a id=\"word_embedding\"></a>\n",
    "\n",
    "<h2>Word Embeddings</h2><br/>\n",
    "\n",
    "For better processing, in this example, we will make use of <a href=\"https://www.tensorflow.org/tutorials/word2vec/\"><b>word embeddings</b></a>, which is <b>a way of representing sentence structures or words as n-dimensional vectors (where n is a reasonably high number, such as 200 or 500) of real numbers</b>. Basically, we will assign each word a randomly-initialized vector, and input those into the network to be processed. After a number of iterations, these vectors are expected to assume values that help the network to correctly predict what it needs to -- in our case, the probable next word in the sentence. This is shown to be a very effective task in Natural Language Processing, and is a commonplace practice.\n",
    "<br><br>\n",
    "<font size=\"4\"><strong>\n",
    "$$Vec(\"Example\") = [0.02, 0.00, 0.00, 0.92, 0.30, \\ldots]$$\n",
    "</strong></font>\n",
    "<br>\n",
    "Word Embedding tends to group up similarly used words <i>reasonably</i> close together in the vectorial space. For example, if we use T-SNE (a dimensional reduction visualization algorithm) to flatten the dimensions of our vectors into a 2-dimensional space and plot these words in a 2-dimensional space, we might see something like this:\n",
    "\n",
    "<img src=\"https://ibm.box.com/shared/static/bqhc5dg879gcoabzhxra1w8rkg3od1cu.png\" width=\"800\">\n",
    "<center><i>T-SNE Mockup with clusters marked for easier visualization</i></center>\n",
    "<br><br>\n",
    "As you can see, words that are frequently used together, in place of each other, or in the same places as them tend to be grouped together -- being closer together the higher they are correlated. For example, \"None\" is pretty semantically close to \"Zero\", while a phrase that uses \"Italy\", you could probably also fit \"Germany\" in it, with little damage to the sentence structure. The vectorial \"closeness\" for similar words like this is a great indicator of a well-built model.\n",
    "\n",
    "<hr>\n",
    " \n"
   ]
  },
  {
   "cell_type": "markdown",
   "metadata": {
    "button": false,
    "deletable": true,
    "new_sheet": false,
    "run_control": {
     "read_only": false
    }
   },
   "source": [
    "We need to import the necessary modules for our code. We need <b><code>numpy</code></b> and <b><code>tensorflow</code></b>, obviously. Additionally, we can import directly the <b><code>tensorflow.models.rnn</code></b> model, which includes the function for building RNNs, and <b><code>tensorflow.models.rnn.ptb.reader</code></b> which is the helper module for getting the input data from the dataset we just downloaded.\n",
    "\n",
    "If you want to learn more take a look at <https://github.com/tensorflow/models/blob/master/tutorials/rnn/ptb/reader.py>\n"
   ]
  },
  {
   "cell_type": "code",
   "execution_count": 1,
   "metadata": {
    "tags": []
   },
   "outputs": [
    {
     "name": "stdout",
     "output_type": "stream",
     "text": [
      "Requirement already satisfied: tensorflow==2.2.0rc0 in /home/jupyterlab/conda/envs/python/lib/python3.6/site-packages (2.2.0rc0)\n",
      "Requirement already satisfied: tensorflow-estimator<2.2.0,>=2.1.0 in /home/jupyterlab/conda/envs/python/lib/python3.6/site-packages (from tensorflow==2.2.0rc0) (2.1.0)\n",
      "Requirement already satisfied: opt-einsum>=2.3.2 in /home/jupyterlab/conda/envs/python/lib/python3.6/site-packages (from tensorflow==2.2.0rc0) (3.3.0)\n",
      "Requirement already satisfied: scipy==1.4.1; python_version >= \"3\" in /home/jupyterlab/conda/envs/python/lib/python3.6/site-packages (from tensorflow==2.2.0rc0) (1.4.1)\n",
      "Requirement already satisfied: numpy<2.0,>=1.16.0 in /home/jupyterlab/conda/envs/python/lib/python3.6/site-packages (from tensorflow==2.2.0rc0) (1.19.4)\n",
      "Requirement already satisfied: keras-preprocessing>=1.1.0 in /home/jupyterlab/conda/envs/python/lib/python3.6/site-packages (from tensorflow==2.2.0rc0) (1.1.2)\n",
      "Requirement already satisfied: google-pasta>=0.1.8 in /home/jupyterlab/conda/envs/python/lib/python3.6/site-packages (from tensorflow==2.2.0rc0) (0.2.0)\n",
      "Requirement already satisfied: protobuf>=3.8.0 in /home/jupyterlab/conda/envs/python/lib/python3.6/site-packages (from tensorflow==2.2.0rc0) (3.14.0)\n",
      "Requirement already satisfied: six>=1.12.0 in /home/jupyterlab/conda/envs/python/lib/python3.6/site-packages (from tensorflow==2.2.0rc0) (1.15.0)\n",
      "Requirement already satisfied: tensorboard<2.2.0,>=2.1.0 in /home/jupyterlab/conda/envs/python/lib/python3.6/site-packages (from tensorflow==2.2.0rc0) (2.1.1)\n",
      "Requirement already satisfied: astunparse==1.6.3 in /home/jupyterlab/conda/envs/python/lib/python3.6/site-packages (from tensorflow==2.2.0rc0) (1.6.3)\n",
      "Requirement already satisfied: wrapt>=1.11.1 in /home/jupyterlab/conda/envs/python/lib/python3.6/site-packages (from tensorflow==2.2.0rc0) (1.12.1)\n",
      "Requirement already satisfied: h5py<2.11.0,>=2.10.0 in /home/jupyterlab/conda/envs/python/lib/python3.6/site-packages (from tensorflow==2.2.0rc0) (2.10.0)\n",
      "Requirement already satisfied: termcolor>=1.1.0 in /home/jupyterlab/conda/envs/python/lib/python3.6/site-packages (from tensorflow==2.2.0rc0) (1.1.0)\n",
      "Requirement already satisfied: gast==0.3.3 in /home/jupyterlab/conda/envs/python/lib/python3.6/site-packages (from tensorflow==2.2.0rc0) (0.3.3)\n",
      "Requirement already satisfied: absl-py>=0.7.0 in /home/jupyterlab/conda/envs/python/lib/python3.6/site-packages (from tensorflow==2.2.0rc0) (0.11.0)\n",
      "Requirement already satisfied: grpcio>=1.8.6 in /home/jupyterlab/conda/envs/python/lib/python3.6/site-packages (from tensorflow==2.2.0rc0) (1.34.0)\n",
      "Requirement already satisfied: wheel>=0.26; python_version >= \"3\" in /home/jupyterlab/conda/envs/python/lib/python3.6/site-packages (from tensorflow==2.2.0rc0) (0.36.1)\n",
      "Requirement already satisfied: werkzeug>=0.11.15 in /home/jupyterlab/conda/envs/python/lib/python3.6/site-packages (from tensorboard<2.2.0,>=2.1.0->tensorflow==2.2.0rc0) (1.0.1)\n",
      "Requirement already satisfied: markdown>=2.6.8 in /home/jupyterlab/conda/envs/python/lib/python3.6/site-packages (from tensorboard<2.2.0,>=2.1.0->tensorflow==2.2.0rc0) (3.3.3)\n",
      "Requirement already satisfied: requests<3,>=2.21.0 in /home/jupyterlab/conda/envs/python/lib/python3.6/site-packages (from tensorboard<2.2.0,>=2.1.0->tensorflow==2.2.0rc0) (2.25.0)\n",
      "Requirement already satisfied: setuptools>=41.0.0 in /home/jupyterlab/conda/envs/python/lib/python3.6/site-packages (from tensorboard<2.2.0,>=2.1.0->tensorflow==2.2.0rc0) (49.6.0.post20201009)\n",
      "Requirement already satisfied: google-auth<2,>=1.6.3 in /home/jupyterlab/conda/envs/python/lib/python3.6/site-packages (from tensorboard<2.2.0,>=2.1.0->tensorflow==2.2.0rc0) (1.24.0)\n",
      "Requirement already satisfied: google-auth-oauthlib<0.5,>=0.4.1 in /home/jupyterlab/conda/envs/python/lib/python3.6/site-packages (from tensorboard<2.2.0,>=2.1.0->tensorflow==2.2.0rc0) (0.4.2)\n",
      "Requirement already satisfied: importlib-metadata; python_version < \"3.8\" in /home/jupyterlab/conda/envs/python/lib/python3.6/site-packages (from markdown>=2.6.8->tensorboard<2.2.0,>=2.1.0->tensorflow==2.2.0rc0) (3.1.1)\n",
      "Requirement already satisfied: chardet<4,>=3.0.2 in /home/jupyterlab/conda/envs/python/lib/python3.6/site-packages (from requests<3,>=2.21.0->tensorboard<2.2.0,>=2.1.0->tensorflow==2.2.0rc0) (3.0.4)\n",
      "Requirement already satisfied: urllib3<1.27,>=1.21.1 in /home/jupyterlab/conda/envs/python/lib/python3.6/site-packages (from requests<3,>=2.21.0->tensorboard<2.2.0,>=2.1.0->tensorflow==2.2.0rc0) (1.26.2)\n",
      "Requirement already satisfied: certifi>=2017.4.17 in /home/jupyterlab/conda/envs/python/lib/python3.6/site-packages (from requests<3,>=2.21.0->tensorboard<2.2.0,>=2.1.0->tensorflow==2.2.0rc0) (2020.12.5)\n",
      "Requirement already satisfied: idna<3,>=2.5 in /home/jupyterlab/conda/envs/python/lib/python3.6/site-packages (from requests<3,>=2.21.0->tensorboard<2.2.0,>=2.1.0->tensorflow==2.2.0rc0) (2.10)\n",
      "Requirement already satisfied: rsa<5,>=3.1.4; python_version >= \"3.6\" in /home/jupyterlab/conda/envs/python/lib/python3.6/site-packages (from google-auth<2,>=1.6.3->tensorboard<2.2.0,>=2.1.0->tensorflow==2.2.0rc0) (4.6)\n",
      "Requirement already satisfied: cachetools<5.0,>=2.0.0 in /home/jupyterlab/conda/envs/python/lib/python3.6/site-packages (from google-auth<2,>=1.6.3->tensorboard<2.2.0,>=2.1.0->tensorflow==2.2.0rc0) (4.2.0)\n",
      "Requirement already satisfied: pyasn1-modules>=0.2.1 in /home/jupyterlab/conda/envs/python/lib/python3.6/site-packages (from google-auth<2,>=1.6.3->tensorboard<2.2.0,>=2.1.0->tensorflow==2.2.0rc0) (0.2.8)\n",
      "Requirement already satisfied: requests-oauthlib>=0.7.0 in /home/jupyterlab/conda/envs/python/lib/python3.6/site-packages (from google-auth-oauthlib<0.5,>=0.4.1->tensorboard<2.2.0,>=2.1.0->tensorflow==2.2.0rc0) (1.3.0)\n",
      "Requirement already satisfied: zipp>=0.5 in /home/jupyterlab/conda/envs/python/lib/python3.6/site-packages (from importlib-metadata; python_version < \"3.8\"->markdown>=2.6.8->tensorboard<2.2.0,>=2.1.0->tensorflow==2.2.0rc0) (3.4.0)\n",
      "Requirement already satisfied: pyasn1>=0.1.3 in /home/jupyterlab/conda/envs/python/lib/python3.6/site-packages (from rsa<5,>=3.1.4; python_version >= \"3.6\"->google-auth<2,>=1.6.3->tensorboard<2.2.0,>=2.1.0->tensorflow==2.2.0rc0) (0.4.8)\n",
      "Requirement already satisfied: oauthlib>=3.0.0 in /home/jupyterlab/conda/envs/python/lib/python3.6/site-packages (from requests-oauthlib>=0.7.0->google-auth-oauthlib<0.5,>=0.4.1->tensorboard<2.2.0,>=2.1.0->tensorflow==2.2.0rc0) (3.1.0)\n",
      "Requirement already satisfied: numpy in /home/jupyterlab/conda/envs/python/lib/python3.6/site-packages (1.19.4)\n"
     ]
    }
   ],
   "source": [
    "!pip install tensorflow==2.2.0rc0\n",
    "!pip install numpy\n"
   ]
  },
  {
   "cell_type": "code",
   "execution_count": 2,
   "metadata": {},
   "outputs": [],
   "source": [
    "import time\n",
    "import numpy as np\n",
    "import tensorflow as tf\n",
    "if not tf.__version__ == '2.2.0-rc0':\n",
    "    print(tf.__version__)\n",
    "    raise ValueError('please upgrade to TensorFlow 2.2.0-rc0, or restart your Kernel (Kernel->Restart & Clear Output)')"
   ]
  },
  {
   "cell_type": "markdown",
   "metadata": {},
   "source": [
    "IMPORTANT! => Please restart the kernel by clicking on \"Kernel\"->\"Restart and Clear Outout\" and wait until all output disapears. Then your changes are beeing picked up\n"
   ]
  },
  {
   "cell_type": "code",
   "execution_count": 3,
   "metadata": {
    "button": false,
    "deletable": true,
    "new_sheet": false,
    "run_control": {
     "read_only": false
    },
    "tags": []
   },
   "outputs": [],
   "source": [
    "!mkdir data\n",
    "!mkdir data/ptb\n",
    "!wget -q -O data/ptb/reader.py https://cf-courses-data.s3.us.cloud-object-storage.appdomain.cloud/IBMDeveloperSkillsNetwork-DL0120EN-SkillsNetwork/labs/Week3/data/ptb/reader.py\n",
    "!cp data/ptb/reader.py . \n",
    "\n"
   ]
  },
  {
   "cell_type": "code",
   "execution_count": 4,
   "metadata": {
    "tags": []
   },
   "outputs": [],
   "source": [
    "import reader"
   ]
  },
  {
   "cell_type": "markdown",
   "metadata": {
    "button": false,
    "deletable": true,
    "new_sheet": false,
    "run_control": {
     "read_only": false
    }
   },
   "source": [
    "<a id=\"building_lstm_model\"></a>\n",
    "\n",
    "<h2>Building the LSTM model for Language Modeling</h2>\n",
    "Now that we know exactly what we are doing, we can start building our model using TensorFlow. The very first thing we need to do is download and extract the <code>simple-examples</code> dataset, which can be done by executing the code cell below.\n"
   ]
  },
  {
   "cell_type": "code",
   "execution_count": 5,
   "metadata": {
    "button": false,
    "deletable": true,
    "new_sheet": false,
    "run_control": {
     "read_only": false
    },
    "tags": []
   },
   "outputs": [
    {
     "name": "stdout",
     "output_type": "stream",
     "text": [
      "--2020-12-13 22:15:37--  http://www.fit.vutbr.cz/~imikolov/rnnlm/simple-examples.tgz\n",
      "Resolving www.fit.vutbr.cz (www.fit.vutbr.cz)... 147.229.9.23, 2001:67c:1220:809::93e5:917\n",
      "Connecting to www.fit.vutbr.cz (www.fit.vutbr.cz)|147.229.9.23|:80... connected.\n",
      "HTTP request sent, awaiting response... 200 OK\n",
      "Length: 34869662 (33M) [application/x-gtar]\n",
      "Saving to: ‘simple-examples.tgz’\n",
      "\n",
      "simple-examples.tgz 100%[===================>]  33.25M  4.25MB/s    in 9.1s    \n",
      "\n",
      "2020-12-13 22:15:47 (3.66 MB/s) - ‘simple-examples.tgz’ saved [34869662/34869662]\n",
      "\n"
     ]
    }
   ],
   "source": [
    "!wget http://www.fit.vutbr.cz/~imikolov/rnnlm/simple-examples.tgz \n",
    "!tar xzf simple-examples.tgz -C data/"
   ]
  },
  {
   "cell_type": "markdown",
   "metadata": {
    "button": false,
    "deletable": true,
    "new_sheet": false,
    "run_control": {
     "read_only": false
    }
   },
   "source": [
    "Additionally, for the sake of making it easy to play around with the model's hyperparameters, we can declare them beforehand. Feel free to change these -- you will see a difference in performance each time you change those!  \n"
   ]
  },
  {
   "cell_type": "code",
   "execution_count": 6,
   "metadata": {
    "button": false,
    "deletable": true,
    "new_sheet": false,
    "run_control": {
     "read_only": false
    }
   },
   "outputs": [],
   "source": [
    "#Initial weight scale\n",
    "init_scale = 0.1\n",
    "#Initial learning rate\n",
    "learning_rate = 1.0\n",
    "#Maximum permissible norm for the gradient (For gradient clipping -- another measure against Exploding Gradients)\n",
    "max_grad_norm = 5\n",
    "#The number of layers in our model\n",
    "num_layers = 2\n",
    "#The total number of recurrence steps, also known as the number of layers when our RNN is \"unfolded\"\n",
    "num_steps = 20\n",
    "#The number of processing units (neurons) in the hidden layers\n",
    "hidden_size_l1 = 256\n",
    "hidden_size_l2 = 128\n",
    "#The maximum number of epochs trained with the initial learning rate\n",
    "max_epoch_decay_lr = 4\n",
    "#The total number of epochs in training\n",
    "max_epoch = 15\n",
    "#The probability for keeping data in the Dropout Layer (This is an optimization, but is outside our scope for this notebook!)\n",
    "#At 1, we ignore the Dropout Layer wrapping.\n",
    "keep_prob = 1\n",
    "#The decay for the learning rate\n",
    "decay = 0.5\n",
    "#The size for each batch of data\n",
    "batch_size = 30\n",
    "#The size of our vocabulary\n",
    "vocab_size = 10000\n",
    "embeding_vector_size= 200\n",
    "#Training flag to separate training from testing\n",
    "is_training = 1\n",
    "#Data directory for our dataset\n",
    "data_dir = \"data/simple-examples/data/\""
   ]
  },
  {
   "cell_type": "markdown",
   "metadata": {
    "button": false,
    "new_sheet": false,
    "run_control": {
     "read_only": false
    }
   },
   "source": [
    "Some clarifications for LSTM architecture based on the arguments:\n",
    "\n",
    "Network structure:\n",
    "\n",
    "<ul>\n",
    "    <li>In this network, the number of LSTM cells are 2. To give the model more expressive power, we can add multiple layers of LSTMs to process the data. The output of the first layer will become the input of the second and so on.\n",
    "    </li>\n",
    "    <li>The recurrence steps is 20, that is, when our RNN is \"Unfolded\", the recurrence step is 20.</li>   \n",
    "    <li>the structure is like:\n",
    "        <ul>\n",
    "            <li>200 input units -> [200x200] Weight -> 200 Hidden units (first layer) -> [200x200] Weight matrix  -> 200 Hidden units (second layer) ->  [200] weight Matrix -> 200 unit output</li>\n",
    "        </ul>\n",
    "    </li>\n",
    "</ul>\n",
    "<br>\n",
    "\n",
    "Input layer: \n",
    "\n",
    "<ul>\n",
    "    <li>The network has 200 input units.</li>\n",
    "    <li>Suppose each word is represented by an embedding vector of dimensionality e=200. The input layer of each cell will have 200 linear units. These e=200 linear units are connected to each of the h=200 LSTM units in the hidden layer (assuming there is only one hidden layer, though our case has 2 layers).\n",
    "    </li>\n",
    "    <li>The input shape is [batch_size, num_steps], that is [30x20]. It will turn into [30x20x200] after embedding, and then 20x[30x200]\n",
    "    </li>\n",
    "</ul>\n",
    "<br>\n",
    "\n",
    "Hidden layer:\n",
    "\n",
    "<ul>\n",
    "    <li>Each LSTM has 200 hidden units which is equivalent to the dimensionality of the embedding words and output.</li>\n",
    "</ul>\n",
    "<br>\n"
   ]
  },
  {
   "cell_type": "markdown",
   "metadata": {
    "button": false,
    "deletable": true,
    "new_sheet": false,
    "run_control": {
     "read_only": false
    }
   },
   "source": [
    "There is a lot to be done and a ton of information to process at the same time, so go over this code slowly. It may seem complex at first, but if you try to apply what you just learned about language modelling to the code you see, you should be able to understand it.\n",
    "\n",
    "This code is adapted from the <a href=\"https://github.com/tensorflow/models\">PTBModel</a> example bundled with the TensorFlow source code.\n",
    "\n",
    "<h3>Training data</h3>\n",
    "The story starts from data:\n",
    "<ul>\n",
    "    <li>Train data is a list of words, of size 929589, represented by numbers, e.g. [9971, 9972, 9974, 9975,...]</li>\n",
    "    <li>We read data as mini-batch of size b=30. Assume the size of each sentence is 20 words (num_steps = 20). Then it will take $$floor(\\frac{N}{b \\times h})+1=1548$$ iterations for the learner to go through all sentences once. Where N is the size of the list of words, b is batch size, and h is size of each sentence. So, the number of iterators is 1548\n",
    "    </li>\n",
    "    <li>Each batch data is read from train dataset of size 600, and shape of [30x20]</li>\n",
    "</ul>\n"
   ]
  },
  {
   "cell_type": "code",
   "execution_count": 7,
   "metadata": {
    "button": false,
    "deletable": true,
    "new_sheet": false,
    "run_control": {
     "read_only": false
    }
   },
   "outputs": [],
   "source": [
    "# Reads the data and separates it into training data, validation data and testing data\n",
    "raw_data = reader.ptb_raw_data(data_dir)\n",
    "train_data, valid_data, test_data, vocab, word_to_id = raw_data"
   ]
  },
  {
   "cell_type": "code",
   "execution_count": 8,
   "metadata": {},
   "outputs": [
    {
     "data": {
      "text/plain": [
       "929589"
      ]
     },
     "execution_count": 8,
     "metadata": {},
     "output_type": "execute_result"
    }
   ],
   "source": [
    "len(train_data)"
   ]
  },
  {
   "cell_type": "code",
   "execution_count": 9,
   "metadata": {
    "tags": []
   },
   "outputs": [
    {
     "name": "stdout",
     "output_type": "stream",
     "text": [
      "['aer', 'banknote', 'berlitz', 'calloway', 'centrust', 'cluett', 'fromstein', 'gitano', 'guterman', 'hydro-quebec', 'ipo', 'kia', 'memotec', 'mlx', 'nahb', 'punts', 'rake', 'regatta', 'rubens', 'sim', 'snack-food', 'ssangyong', 'swapo', 'wachter', '<eos>', 'pierre', '<unk>', 'N', 'years', 'old', 'will', 'join', 'the', 'board', 'as', 'a', 'nonexecutive', 'director', 'nov.', 'N', '<eos>', 'mr.', '<unk>', 'is', 'chairman', 'of', '<unk>', 'n.v.', 'the', 'dutch', 'publishing', 'group', '<eos>', 'rudolph', '<unk>', 'N', 'years', 'old', 'and', 'former', 'chairman', 'of', 'consolidated', 'gold', 'fields', 'plc', 'was', 'named', 'a', 'nonexecutive', 'director', 'of', 'this', 'british', 'industrial', 'conglomerate', '<eos>', 'a', 'form', 'of', 'asbestos', 'once', 'used', 'to', 'make', 'kent', 'cigarette', 'filters', 'has', 'caused', 'a', 'high', 'percentage', 'of', 'cancer', 'deaths', 'among', 'a', 'group', 'of']\n"
     ]
    }
   ],
   "source": [
    "def id_to_word(id_list):\n",
    "    line = []\n",
    "    for w in id_list:\n",
    "        for word, wid in word_to_id.items():\n",
    "            if wid == w:\n",
    "                line.append(word)\n",
    "    return line            \n",
    "                \n",
    "\n",
    "print(id_to_word(train_data[0:100]))"
   ]
  },
  {
   "cell_type": "markdown",
   "metadata": {
    "button": false,
    "deletable": true,
    "new_sheet": false,
    "run_control": {
     "read_only": false
    }
   },
   "source": [
    "Lets just read one mini-batch now and feed our network:\n"
   ]
  },
  {
   "cell_type": "code",
   "execution_count": 10,
   "metadata": {
    "button": false,
    "deletable": true,
    "new_sheet": false,
    "run_control": {
     "read_only": false
    }
   },
   "outputs": [],
   "source": [
    "itera = reader.ptb_iterator(train_data, batch_size, num_steps)\n",
    "first_touple = itera.__next__()\n",
    "_input_data = first_touple[0]\n",
    "_targets = first_touple[1]"
   ]
  },
  {
   "cell_type": "code",
   "execution_count": 11,
   "metadata": {
    "button": false,
    "deletable": true,
    "new_sheet": false,
    "run_control": {
     "read_only": false
    }
   },
   "outputs": [
    {
     "data": {
      "text/plain": [
       "(30, 20)"
      ]
     },
     "execution_count": 11,
     "metadata": {},
     "output_type": "execute_result"
    }
   ],
   "source": [
    "_input_data.shape"
   ]
  },
  {
   "cell_type": "code",
   "execution_count": 12,
   "metadata": {},
   "outputs": [
    {
     "data": {
      "text/plain": [
       "(30, 20)"
      ]
     },
     "execution_count": 12,
     "metadata": {},
     "output_type": "execute_result"
    }
   ],
   "source": [
    "_targets.shape"
   ]
  },
  {
   "cell_type": "markdown",
   "metadata": {
    "button": false,
    "deletable": true,
    "new_sheet": false,
    "run_control": {
     "read_only": false
    }
   },
   "source": [
    "Lets look at 3 sentences of our input x:\n"
   ]
  },
  {
   "cell_type": "code",
   "execution_count": 13,
   "metadata": {
    "button": false,
    "deletable": true,
    "new_sheet": false,
    "run_control": {
     "read_only": false
    }
   },
   "outputs": [
    {
     "data": {
      "text/plain": [
       "array([[9970, 9971, 9972, 9974, 9975, 9976, 9980, 9981, 9982, 9983, 9984,\n",
       "        9986, 9987, 9988, 9989, 9991, 9992, 9993, 9994, 9995],\n",
       "       [2654,    6,  334, 2886,    4,    1,  233,  711,  834,   11,  130,\n",
       "         123,    7,  514,    2,   63,   10,  514,    8,  605],\n",
       "       [   0, 1071,    4,    0,  185,   24,  368,   20,   31, 3109,  954,\n",
       "          12,    3,   21,    2, 2915,    2,   12,    3,   21]],\n",
       "      dtype=int32)"
      ]
     },
     "execution_count": 13,
     "metadata": {},
     "output_type": "execute_result"
    }
   ],
   "source": [
    "_input_data[0:3]"
   ]
  },
  {
   "cell_type": "code",
   "execution_count": 14,
   "metadata": {},
   "outputs": [
    {
     "name": "stdout",
     "output_type": "stream",
     "text": [
      "['aer', 'banknote', 'berlitz', 'calloway', 'centrust', 'cluett', 'fromstein', 'gitano', 'guterman', 'hydro-quebec', 'ipo', 'kia', 'memotec', 'mlx', 'nahb', 'punts', 'rake', 'regatta', 'rubens', 'sim']\n"
     ]
    }
   ],
   "source": [
    "print(id_to_word(_input_data[0,:]))"
   ]
  },
  {
   "cell_type": "markdown",
   "metadata": {
    "button": false,
    "deletable": true,
    "new_sheet": false,
    "run_control": {
     "read_only": false
    }
   },
   "source": [
    "<h3>Embeddings</h3>\n",
    "We have to convert the words in our dataset to vectors of numbers. The traditional approach is to use one-hot encoding method that is usually used for converting categorical values to numerical values. However, One-hot encoded vectors are high-dimensional, sparse and in a big dataset, computationally inefficient. So, we use word2vec approach. It is, in fact, a layer in our LSTM network, where the word IDs will be represented as a dense representation before feeding to the LSTM. \n",
    "\n",
    "The embedded vectors also get updated during the training process of the deep neural network.\n",
    "We create the embeddings for our input data. <b>embedding_vocab</b> is matrix of [10000x200] for all 10000 unique words.\n"
   ]
  },
  {
   "cell_type": "markdown",
   "metadata": {
    "button": false,
    "deletable": true,
    "new_sheet": false,
    "run_control": {
     "read_only": false
    }
   },
   "source": [
    "<b>embedding_lookup()</b> finds the embedded values for our batch of 30x20 words. It  goes to each row of <code>input_data</code>, and for each word in the row/sentence, finds the correspond vector in <code>embedding_dic<code>. <br>\n",
    "It creates a [30x20x200] tensor, so, the first element of <b>inputs</b> (the first sentence), is a matrix of 20x200, which each row of it, is vector representing a word in the sentence.\n"
   ]
  },
  {
   "cell_type": "code",
   "execution_count": 15,
   "metadata": {},
   "outputs": [],
   "source": [
    "embedding_layer = tf.keras.layers.Embedding(vocab_size, embeding_vector_size,batch_input_shape=(batch_size, num_steps),trainable=True,name=\"embedding_vocab\")  "
   ]
  },
  {
   "cell_type": "code",
   "execution_count": 16,
   "metadata": {},
   "outputs": [
    {
     "data": {
      "text/plain": [
       "<tf.Tensor: shape=(30, 20, 200), dtype=float32, numpy=\n",
       "array([[[-4.1528273e-02,  2.8421763e-02, -4.2661428e-02, ...,\n",
       "         -1.2156144e-03,  1.2289215e-02, -3.3197783e-02],\n",
       "        [ 3.2402430e-02,  3.5246722e-03,  2.6572075e-02, ...,\n",
       "          7.7743754e-03, -1.3270952e-02,  2.9895391e-02],\n",
       "        [ 2.5457367e-03,  4.2804789e-02,  4.5876350e-02, ...,\n",
       "         -4.9260676e-02, -4.9469709e-02, -1.5139580e-03],\n",
       "        ...,\n",
       "        [ 3.6528800e-02,  1.5717153e-02, -4.3813586e-03, ...,\n",
       "         -2.3782063e-02,  2.7116191e-02,  1.8585313e-02],\n",
       "        [ 4.0964257e-02, -3.2074109e-02, -2.7275527e-02, ...,\n",
       "          5.9564114e-03,  1.1820208e-02,  3.6922805e-03],\n",
       "        [ 4.3021489e-02,  2.0907070e-02, -4.2190921e-02, ...,\n",
       "         -3.2081917e-02,  4.2223904e-02, -1.0715593e-02]],\n",
       "\n",
       "       [[-9.5405579e-03, -2.6587332e-02, -1.9222891e-02, ...,\n",
       "          7.0752725e-03,  2.9327396e-02,  1.4204945e-02],\n",
       "        [-5.7978258e-03, -1.8472720e-02, -1.9708479e-02, ...,\n",
       "         -7.4304827e-03, -1.0638643e-02,  9.0460777e-03],\n",
       "        [-1.2482405e-03, -4.8233546e-02, -3.3508182e-02, ...,\n",
       "         -3.6267526e-03,  7.0993192e-03,  3.1651508e-02],\n",
       "        ...,\n",
       "        [ 2.2858296e-02, -4.9674045e-02,  5.4735057e-03, ...,\n",
       "         -2.3184085e-02,  1.8324185e-02, -4.0078521e-02],\n",
       "        [ 7.9968944e-03,  1.5205827e-02,  3.2374371e-02, ...,\n",
       "         -7.6569617e-05,  1.0355018e-02,  3.9451871e-02],\n",
       "        [-1.4130164e-02,  1.3012920e-02,  3.5866607e-02, ...,\n",
       "         -4.6927761e-02,  1.6410697e-02, -2.8175546e-02]],\n",
       "\n",
       "       [[-4.7186114e-02,  4.7711302e-02, -2.6022209e-02, ...,\n",
       "          3.4015868e-02,  4.4196311e-02, -1.5817165e-02],\n",
       "        [-4.1819751e-02,  2.0191822e-02, -1.2889244e-02, ...,\n",
       "          4.2624999e-02,  1.4906321e-02,  4.6829831e-02],\n",
       "        [ 4.2594623e-02, -4.2372908e-02, -9.9766254e-03, ...,\n",
       "          1.6658340e-02,  4.5186765e-03,  2.0243097e-02],\n",
       "        ...,\n",
       "        [ 4.5746174e-02, -3.6804117e-02, -3.6347795e-02, ...,\n",
       "          1.8681217e-02,  6.8992972e-03, -2.3860801e-02],\n",
       "        [ 2.8982308e-02,  3.7563648e-02,  4.0122878e-02, ...,\n",
       "          2.6658047e-02, -1.4913462e-02, -3.2883801e-02],\n",
       "        [ 2.2210848e-02, -2.5480200e-02, -4.5620441e-02, ...,\n",
       "          9.8383315e-03,  4.3055240e-02, -8.3000883e-03]],\n",
       "\n",
       "       ...,\n",
       "\n",
       "       [[ 5.3614751e-03, -9.4500668e-03, -2.1419335e-02, ...,\n",
       "         -4.9763571e-02,  1.7187599e-02, -4.2844187e-02],\n",
       "        [ 3.1471252e-04,  3.7417661e-02,  1.1238337e-02, ...,\n",
       "          3.7839103e-02, -3.8672484e-02, -3.9366543e-02],\n",
       "        [ 4.3879416e-02,  2.3459006e-02,  1.1670936e-02, ...,\n",
       "          6.3534975e-03,  3.6125891e-03,  3.5117380e-03],\n",
       "        ...,\n",
       "        [ 4.8309993e-02,  1.8841635e-02, -3.4574091e-02, ...,\n",
       "         -8.0215111e-03, -1.3311803e-02,  1.9044172e-02],\n",
       "        [ 7.3985010e-04,  2.3280535e-02, -4.8179556e-02, ...,\n",
       "          2.9329408e-02,  4.0965345e-02,  4.1302372e-02],\n",
       "        [-4.1220091e-02,  4.6856347e-02, -3.5754360e-02, ...,\n",
       "         -8.6248145e-03, -2.7051998e-02, -3.2187760e-02]],\n",
       "\n",
       "       [[-4.9298059e-02, -5.1517598e-03, -1.7570782e-02, ...,\n",
       "          4.5462344e-02, -1.9909656e-02, -1.8248782e-03],\n",
       "        [ 3.5204772e-02,  2.0973329e-02, -3.5966266e-02, ...,\n",
       "         -4.0767778e-02, -4.4541895e-02,  2.9323462e-02],\n",
       "        [ 4.2594623e-02, -4.2372908e-02, -9.9766254e-03, ...,\n",
       "          1.6658340e-02,  4.5186765e-03,  2.0243097e-02],\n",
       "        ...,\n",
       "        [ 4.8873555e-02,  1.4447346e-03, -2.0546839e-04, ...,\n",
       "         -2.5708152e-02,  9.9657401e-03,  3.4828234e-02],\n",
       "        [-5.7978258e-03, -1.8472720e-02, -1.9708479e-02, ...,\n",
       "         -7.4304827e-03, -1.0638643e-02,  9.0460777e-03],\n",
       "        [-2.4291171e-02, -3.5451770e-02,  4.6624694e-02, ...,\n",
       "         -1.4463376e-02,  3.1523589e-02,  4.1702036e-02]],\n",
       "\n",
       "       [[ 4.6902288e-02,  2.1867286e-02,  1.7321993e-02, ...,\n",
       "          7.6236352e-03,  1.0495998e-02, -8.7039545e-04],\n",
       "        [-1.7454576e-02, -1.3877522e-02, -2.2620713e-02, ...,\n",
       "          1.9780371e-02,  3.7952568e-02,  2.5229577e-02],\n",
       "        [-3.7121903e-02, -1.2665987e-03,  1.2282468e-02, ...,\n",
       "          4.7331039e-02,  4.3678116e-02, -3.7904989e-02],\n",
       "        ...,\n",
       "        [-2.9095555e-02, -4.9103014e-03, -3.5916794e-02, ...,\n",
       "          2.3359392e-02, -3.0269338e-02,  2.3063336e-02],\n",
       "        [ 4.4239987e-02,  3.8161054e-03, -4.4340730e-02, ...,\n",
       "         -9.6278414e-03,  4.6979263e-04,  8.0641620e-03],\n",
       "        [-7.7112690e-03,  1.7852571e-02,  1.1791002e-02, ...,\n",
       "          3.6857951e-02, -1.2239885e-02,  3.5669651e-02]]], dtype=float32)>"
      ]
     },
     "execution_count": 16,
     "metadata": {},
     "output_type": "execute_result"
    }
   ],
   "source": [
    "# Define where to get the data for our embeddings from\n",
    "inputs = embedding_layer(_input_data)\n",
    "inputs"
   ]
  },
  {
   "cell_type": "markdown",
   "metadata": {},
   "source": [
    "<h3>Constructing Recurrent Neural Networks</h3>\n"
   ]
  },
  {
   "cell_type": "markdown",
   "metadata": {
    "button": false,
    "deletable": true,
    "new_sheet": false,
    "run_control": {
     "read_only": false
    }
   },
   "source": [
    "In this step, we create the stacked LSTM using <b>tf.keras.layers.StackedRNNCells</b>, which is a 2 layer LSTM network:\n"
   ]
  },
  {
   "cell_type": "code",
   "execution_count": 17,
   "metadata": {},
   "outputs": [],
   "source": [
    "lstm_cell_l1 = tf.keras.layers.LSTMCell(hidden_size_l1)\n",
    "lstm_cell_l2 = tf.keras.layers.LSTMCell(hidden_size_l2)"
   ]
  },
  {
   "cell_type": "code",
   "execution_count": 18,
   "metadata": {
    "button": false,
    "deletable": true,
    "new_sheet": false,
    "run_control": {
     "read_only": false
    }
   },
   "outputs": [],
   "source": [
    "stacked_lstm = tf.keras.layers.StackedRNNCells([lstm_cell_l1, lstm_cell_l2])"
   ]
  },
  {
   "cell_type": "markdown",
   "metadata": {},
   "source": [
    "<b>tf.keras.layers.RNN</b> creates a recurrent neural network using <b>stacked_lstm</b>. \n",
    "\n",
    "The input should be a Tensor of shape: [batch_size, max_time, embedding_vector_size], in our case it would be (30, 20, 200)\n"
   ]
  },
  {
   "cell_type": "code",
   "execution_count": 19,
   "metadata": {},
   "outputs": [],
   "source": [
    "layer  =  tf.keras.layers.RNN(stacked_lstm,[batch_size, num_steps],return_state=False,stateful=True,trainable=True)"
   ]
  },
  {
   "cell_type": "markdown",
   "metadata": {
    "button": false,
    "deletable": true,
    "new_sheet": false,
    "run_control": {
     "read_only": false
    }
   },
   "source": [
    "Also, we initialize the states of the nework:\n",
    "\n",
    "<h4>_initial_state</h4>\n",
    "\n",
    "For each LSTM, there are 2 state matrices, c_state and m_state.  c_state and m_state represent \"Memory State\" and \"Cell State\". Each hidden layer, has a vector of size 30, which keeps the states. so, for 200 hidden units in each LSTM, we have a matrix of size [30x200]\n"
   ]
  },
  {
   "cell_type": "code",
   "execution_count": 20,
   "metadata": {},
   "outputs": [],
   "source": [
    "init_state = tf.Variable(tf.zeros([batch_size,embeding_vector_size]),trainable=False)"
   ]
  },
  {
   "cell_type": "code",
   "execution_count": 21,
   "metadata": {},
   "outputs": [],
   "source": [
    "layer.inital_state = init_state"
   ]
  },
  {
   "cell_type": "code",
   "execution_count": 22,
   "metadata": {},
   "outputs": [
    {
     "data": {
      "text/plain": [
       "<tf.Variable 'Variable:0' shape=(30, 200) dtype=float32, numpy=\n",
       "array([[0., 0., 0., ..., 0., 0., 0.],\n",
       "       [0., 0., 0., ..., 0., 0., 0.],\n",
       "       [0., 0., 0., ..., 0., 0., 0.],\n",
       "       ...,\n",
       "       [0., 0., 0., ..., 0., 0., 0.],\n",
       "       [0., 0., 0., ..., 0., 0., 0.],\n",
       "       [0., 0., 0., ..., 0., 0., 0.]], dtype=float32)>"
      ]
     },
     "execution_count": 22,
     "metadata": {},
     "output_type": "execute_result"
    }
   ],
   "source": [
    "layer.inital_state"
   ]
  },
  {
   "cell_type": "markdown",
   "metadata": {},
   "source": [
    "so, lets look at the outputs. The output of the stackedLSTM comes from 128 hidden_layer, and in each time step(=20), one of them get activated. we use the linear activation to map the 128 hidden layer to a [30X20 matrix]\n"
   ]
  },
  {
   "cell_type": "code",
   "execution_count": 23,
   "metadata": {},
   "outputs": [],
   "source": [
    "outputs = layer(inputs)"
   ]
  },
  {
   "cell_type": "code",
   "execution_count": 24,
   "metadata": {},
   "outputs": [
    {
     "data": {
      "text/plain": [
       "<tf.Tensor: shape=(30, 20, 128), dtype=float32, numpy=\n",
       "array([[[ 5.6277710e-04, -7.7104266e-04, -1.7802811e-05, ...,\n",
       "         -4.1166825e-07,  4.1457926e-04, -1.5283677e-03],\n",
       "        [ 4.9832289e-04, -2.0037701e-03,  4.7756033e-04, ...,\n",
       "         -1.5243093e-03,  7.1851542e-04, -2.9747698e-03],\n",
       "        [ 1.4427961e-03, -1.6577261e-03,  7.7732699e-04, ...,\n",
       "         -2.8111285e-03,  5.5006653e-04, -4.4344068e-03],\n",
       "        ...,\n",
       "        [ 1.4541318e-03, -6.4094001e-03, -3.2823936e-03, ...,\n",
       "          9.3438698e-04,  4.0980713e-03,  4.8390692e-03],\n",
       "        [ 8.5679843e-04, -4.5511033e-03, -3.0226214e-03, ...,\n",
       "         -8.8376686e-04,  6.0734912e-03,  5.3397068e-03],\n",
       "        [-1.1341826e-03, -3.2110929e-03, -3.8416819e-03, ...,\n",
       "         -1.4220732e-03,  7.7954098e-03,  4.3245037e-03]],\n",
       "\n",
       "       [[ 1.0757127e-03,  1.2353978e-03,  1.1701074e-03, ...,\n",
       "         -8.4273698e-04,  9.8314986e-04,  9.7462058e-04],\n",
       "        [ 1.5069456e-04,  1.6258683e-03,  1.3913552e-03, ...,\n",
       "          7.9844677e-04,  1.6706340e-03,  2.1812003e-03],\n",
       "        [-3.4954998e-04,  1.9100064e-03, -6.8705145e-04, ...,\n",
       "          1.2203124e-03,  2.8541230e-03,  2.5946687e-03],\n",
       "        ...,\n",
       "        [-1.2663009e-03,  4.1175219e-03, -2.1253913e-03, ...,\n",
       "          6.0155177e-03, -4.8786225e-03, -5.3183646e-03],\n",
       "        [-1.1061243e-03,  5.3123119e-03, -1.8260885e-03, ...,\n",
       "          6.0803606e-03, -4.7446550e-03, -6.1055683e-03],\n",
       "        [-8.7876897e-04,  4.9675526e-03, -2.0454440e-03, ...,\n",
       "          5.7164766e-03, -2.8530969e-03, -5.7648467e-03]],\n",
       "\n",
       "       [[-1.6103828e-04,  1.0404290e-03, -8.1226358e-04, ...,\n",
       "         -9.6793775e-04,  1.7931146e-05, -1.6015819e-03],\n",
       "        [ 1.3470498e-04,  1.6220292e-03, -2.2627688e-03, ...,\n",
       "         -9.1599661e-04,  1.2459703e-03, -1.6329411e-03],\n",
       "        [-8.4366565e-07,  5.8862980e-04, -3.0071647e-03, ...,\n",
       "         -1.1918375e-03,  1.7124182e-03, -7.5742265e-04],\n",
       "        ...,\n",
       "        [ 3.1382169e-03,  1.2131284e-03, -1.2202066e-02, ...,\n",
       "          3.9559109e-03,  2.7303344e-05, -7.1543397e-04],\n",
       "        [ 2.8494301e-03,  1.4546486e-03, -1.1734164e-02, ...,\n",
       "          4.0718573e-03, -5.3192693e-04, -1.8087286e-03],\n",
       "        [ 1.1892347e-03,  1.5811312e-03, -1.2344313e-02, ...,\n",
       "          3.0724790e-03, -2.6270453e-05, -2.7957659e-03]],\n",
       "\n",
       "       ...,\n",
       "\n",
       "       [[-1.5034982e-04, -4.6964874e-04, -4.9527735e-04, ...,\n",
       "          5.6068494e-04, -1.4095358e-03,  6.6203403e-04],\n",
       "        [ 6.6808029e-04,  8.4855664e-04, -1.8226500e-03, ...,\n",
       "         -3.9558558e-04, -9.8453695e-04,  3.9789424e-04],\n",
       "        [ 8.7834278e-04,  2.1220909e-03, -2.1874860e-03, ...,\n",
       "         -1.3899320e-03, -5.5838621e-04,  7.6629367e-04],\n",
       "        ...,\n",
       "        [-4.5071384e-03,  2.1168727e-03, -7.4451840e-03, ...,\n",
       "          1.9200947e-03,  3.3191412e-03, -4.4431929e-03],\n",
       "        [-4.2929654e-03,  2.1157577e-03, -8.5779410e-03, ...,\n",
       "          2.8564387e-03,  2.2664673e-03, -4.7306167e-03],\n",
       "        [-5.2429256e-03,  1.9066989e-03, -8.1726797e-03, ...,\n",
       "          2.6760420e-03,  1.7160423e-03, -4.1220165e-03]],\n",
       "\n",
       "       [[ 1.8003017e-03,  9.8446524e-04, -1.2762989e-03, ...,\n",
       "          5.6169502e-04,  1.4483229e-03, -8.9927792e-04],\n",
       "        [ 3.4810677e-03,  1.7328307e-03, -3.7894226e-03, ...,\n",
       "          6.6891749e-04,  3.9480282e-03, -1.1556632e-03],\n",
       "        [ 3.8553565e-03,  8.9032674e-04, -5.2211229e-03, ...,\n",
       "          4.2479465e-04,  4.8177331e-03, -4.9352593e-04],\n",
       "        ...,\n",
       "        [ 2.0701718e-03,  2.8893922e-03, -4.2032599e-03, ...,\n",
       "          1.7906917e-03, -5.7682535e-03, -5.5632601e-04],\n",
       "        [ 9.2509505e-04,  2.8090603e-03, -4.6054902e-03, ...,\n",
       "          3.2713225e-03, -5.2985861e-03,  6.7693321e-04],\n",
       "        [ 1.8070877e-04,  1.4635589e-03, -5.1473053e-03, ...,\n",
       "          3.8230433e-03, -3.6246569e-03,  9.4108243e-04]],\n",
       "\n",
       "       [[-4.2085678e-04,  1.5474512e-03,  7.1597454e-04, ...,\n",
       "         -2.9845233e-04,  1.8869928e-03, -1.1895794e-03],\n",
       "        [-1.3482004e-03,  1.6777960e-03,  3.6612726e-04, ...,\n",
       "         -1.3603654e-03,  1.8949332e-03, -2.3798107e-03],\n",
       "        [-6.3255924e-04,  2.8849323e-04, -9.5183763e-04, ...,\n",
       "         -1.9708823e-03,  4.2075096e-03, -2.1932831e-03],\n",
       "        ...,\n",
       "        [-3.8140262e-03,  4.8743845e-03, -6.7451997e-03, ...,\n",
       "          1.7493404e-03, -3.9174496e-03, -1.2112438e-03],\n",
       "        [-3.4153548e-03,  3.8509436e-03, -7.5525022e-03, ...,\n",
       "          1.6989507e-03, -3.7610021e-03, -2.7692968e-03],\n",
       "        [-1.5286654e-03,  2.9470676e-03, -6.8045193e-03, ...,\n",
       "          1.2125372e-03, -2.2519273e-03, -4.0621534e-03]]], dtype=float32)>"
      ]
     },
     "execution_count": 24,
     "metadata": {},
     "output_type": "execute_result"
    }
   ],
   "source": [
    "outputs"
   ]
  },
  {
   "cell_type": "markdown",
   "metadata": {
    "button": false,
    "deletable": true,
    "new_sheet": false,
    "run_control": {
     "read_only": false
    }
   },
   "source": [
    "<h2>Dense layer</h2>\n",
    "We now create densely-connected neural network layer that would reshape the outputs tensor from  [30 x 20 x 128] to [30 x 20 x 10000].\n"
   ]
  },
  {
   "cell_type": "code",
   "execution_count": 25,
   "metadata": {},
   "outputs": [],
   "source": [
    "dense = tf.keras.layers.Dense(vocab_size)"
   ]
  },
  {
   "cell_type": "code",
   "execution_count": 26,
   "metadata": {},
   "outputs": [],
   "source": [
    "logits_outputs  = dense(outputs)"
   ]
  },
  {
   "cell_type": "code",
   "execution_count": 27,
   "metadata": {},
   "outputs": [
    {
     "name": "stdout",
     "output_type": "stream",
     "text": [
      "shape of the output from dense layer:  (30, 20, 10000)\n"
     ]
    }
   ],
   "source": [
    "print(\"shape of the output from dense layer: \", logits_outputs.shape) #(batch_size, sequence_length, vocab_size)"
   ]
  },
  {
   "cell_type": "markdown",
   "metadata": {},
   "source": [
    "<h2>Activation layer</h2>\n",
    "\n",
    "A softmax activation layers is also then applied to derive the probability of the output being in any of the multiclass(10000 in this case) possibilities. \n"
   ]
  },
  {
   "cell_type": "code",
   "execution_count": 28,
   "metadata": {},
   "outputs": [],
   "source": [
    "activation = tf.keras.layers.Activation('softmax')"
   ]
  },
  {
   "cell_type": "code",
   "execution_count": 29,
   "metadata": {},
   "outputs": [],
   "source": [
    "output_words_prob = activation(logits_outputs)"
   ]
  },
  {
   "cell_type": "code",
   "execution_count": 30,
   "metadata": {},
   "outputs": [
    {
     "name": "stdout",
     "output_type": "stream",
     "text": [
      "shape of the output from the activation layer:  (30, 20, 10000)\n"
     ]
    }
   ],
   "source": [
    "print(\"shape of the output from the activation layer: \", output_words_prob.shape) #(batch_size, sequence_length, vocab_size)"
   ]
  },
  {
   "cell_type": "markdown",
   "metadata": {},
   "source": [
    "Lets look at the probability of observing words for t=0 to t=20:\n"
   ]
  },
  {
   "cell_type": "code",
   "execution_count": 31,
   "metadata": {},
   "outputs": [
    {
     "name": "stdout",
     "output_type": "stream",
     "text": [
      "The probability of observing words in t=0 to t=20 tf.Tensor(\n",
      "[[9.99954864e-05 9.99986587e-05 9.99687691e-05 ... 1.00001729e-04\n",
      "  9.99945551e-05 1.00003192e-04]\n",
      " [9.99832482e-05 9.99818512e-05 9.99634285e-05 ... 1.00011108e-04\n",
      "  1.00006553e-04 1.00009129e-04]\n",
      " [9.99671538e-05 9.99844706e-05 9.99790136e-05 ... 1.00024190e-04\n",
      "  1.00019846e-04 1.00008372e-04]\n",
      " ...\n",
      " [9.99568729e-05 9.99663098e-05 9.99884942e-05 ... 9.99819094e-05\n",
      "  1.00023084e-04 9.99165204e-05]\n",
      " [9.99415133e-05 9.99770855e-05 9.99603653e-05 ... 9.99859330e-05\n",
      "  1.00062760e-04 9.98852483e-05]\n",
      " [9.99237600e-05 9.99768308e-05 9.99418553e-05 ... 9.99861586e-05\n",
      "  1.00099947e-04 9.98845062e-05]], shape=(20, 10000), dtype=float32)\n"
     ]
    }
   ],
   "source": [
    "print(\"The probability of observing words in t=0 to t=20\", output_words_prob[0,0:num_steps])"
   ]
  },
  {
   "cell_type": "markdown",
   "metadata": {
    "button": false,
    "deletable": true,
    "new_sheet": false,
    "run_control": {
     "read_only": false
    }
   },
   "source": [
    "<h3>Prediction</h3>\n",
    "What is the word correspond to the probability output? Lets use the maximum probability:\n"
   ]
  },
  {
   "cell_type": "code",
   "execution_count": 32,
   "metadata": {},
   "outputs": [
    {
     "data": {
      "text/plain": [
       "array([5113, 6188, 6415, 2772, 1832, 1832, 4535, 4535, 4535, 4535, 4535,\n",
       "       9135, 2873, 2625, 2120, 2910, 9058, 9058, 1473, 3621])"
      ]
     },
     "execution_count": 32,
     "metadata": {},
     "output_type": "execute_result"
    }
   ],
   "source": [
    "np.argmax(output_words_prob[0,0:num_steps], axis=1)"
   ]
  },
  {
   "cell_type": "markdown",
   "metadata": {
    "button": false,
    "deletable": true,
    "new_sheet": false,
    "run_control": {
     "read_only": false
    }
   },
   "source": [
    "So, what is the ground truth for the first word of first sentence? You can get it from target tensor, if you want to find the embedding vector: \n"
   ]
  },
  {
   "cell_type": "code",
   "execution_count": 33,
   "metadata": {
    "button": false,
    "deletable": true,
    "new_sheet": false,
    "run_control": {
     "read_only": false
    }
   },
   "outputs": [
    {
     "data": {
      "text/plain": [
       "array([9971, 9972, 9974, 9975, 9976, 9980, 9981, 9982, 9983, 9984, 9986,\n",
       "       9987, 9988, 9989, 9991, 9992, 9993, 9994, 9995, 9996], dtype=int32)"
      ]
     },
     "execution_count": 33,
     "metadata": {},
     "output_type": "execute_result"
    }
   ],
   "source": [
    "_targets[0]"
   ]
  },
  {
   "cell_type": "markdown",
   "metadata": {
    "button": false,
    "new_sheet": false,
    "run_control": {
     "read_only": false
    }
   },
   "source": [
    "<h4>Objective function</h4>\n",
    "\n",
    "How similar the predicted words are to the target words?\n",
    "\n",
    "Now we have to define our objective function, to calculate the similarity of predicted values to ground truth, and then, penalize the model with the error. Our objective is to minimize loss function, that is, to minimize the average negative log probability of the target words:\n",
    "\n",
    "$$\\text{loss} = -\\frac{1}{N}\\sum_{i=1}^{N} \\ln p_{\\text{target}_i}$$\n",
    "\n",
    "This function is already implemented and available in TensorFlow through _tf.keras.losses.sparse_categorical_crossentropy_. It calculates the categorical cross-entropy loss for <b>logits</b> and the <b>target</b> sequence.  \n",
    "\n",
    "The arguments of this function are:  \n",
    "\n",
    "<ul>\n",
    "    <li>logits: List of 2D Tensors of shape [batch_size x num_decoder_symbols].</li>  \n",
    "    <li>targets: List of 1D batch-sized int32 Tensors of the same length as logits.</li>   \n",
    "</ul>\n"
   ]
  },
  {
   "cell_type": "code",
   "execution_count": 34,
   "metadata": {},
   "outputs": [],
   "source": [
    "def crossentropy(y_true, y_pred):\n",
    "    return tf.keras.losses.sparse_categorical_crossentropy(y_true, y_pred)"
   ]
  },
  {
   "cell_type": "code",
   "execution_count": 35,
   "metadata": {},
   "outputs": [],
   "source": [
    "loss  = crossentropy(_targets, output_words_prob)"
   ]
  },
  {
   "cell_type": "markdown",
   "metadata": {
    "button": false,
    "new_sheet": false,
    "run_control": {
     "read_only": false
    }
   },
   "source": [
    "Lets look at the first 10 values of loss:\n"
   ]
  },
  {
   "cell_type": "code",
   "execution_count": 36,
   "metadata": {},
   "outputs": [
    {
     "data": {
      "text/plain": [
       "<tf.Tensor: shape=(10,), dtype=float32, numpy=\n",
       "array([9.210264 , 9.210032 , 9.2106085, 9.209824 , 9.210955 , 9.210716 ,\n",
       "       9.21009  , 9.209178 , 9.209578 , 9.209682 ], dtype=float32)>"
      ]
     },
     "execution_count": 36,
     "metadata": {},
     "output_type": "execute_result"
    }
   ],
   "source": [
    "loss[0,:10]"
   ]
  },
  {
   "cell_type": "markdown",
   "metadata": {},
   "source": [
    "Now, we define cost as average of the losses:\n"
   ]
  },
  {
   "cell_type": "code",
   "execution_count": 37,
   "metadata": {},
   "outputs": [
    {
     "data": {
      "text/plain": [
       "<tf.Tensor: shape=(), dtype=float32, numpy=184.2061>"
      ]
     },
     "execution_count": 37,
     "metadata": {},
     "output_type": "execute_result"
    }
   ],
   "source": [
    "cost = tf.reduce_sum(loss / batch_size)\n",
    "cost"
   ]
  },
  {
   "cell_type": "markdown",
   "metadata": {
    "button": false,
    "deletable": true,
    "new_sheet": false,
    "run_control": {
     "read_only": false
    }
   },
   "source": [
    "<h3>Training</h3>\n",
    "\n",
    "To do training for our network, we have to take the following steps:\n",
    "\n",
    "<ol>\n",
    "    <li>Define the optimizer.</li>\n",
    "    <li>Assemble layers to build model.</li>\n",
    "    <li>Calculate the gradients based on the loss function.</li>\n",
    "    <li>Apply the optimizer to the variables/gradients tuple.</li>\n",
    "</ol>\n"
   ]
  },
  {
   "cell_type": "markdown",
   "metadata": {
    "button": false,
    "deletable": true,
    "new_sheet": false,
    "run_control": {
     "read_only": false
    }
   },
   "source": [
    "<h4>1. Define Optimizer</h4>\n"
   ]
  },
  {
   "cell_type": "code",
   "execution_count": 38,
   "metadata": {},
   "outputs": [],
   "source": [
    "# Create a variable for the learning rate\n",
    "lr = tf.Variable(0.0, trainable=False)\n",
    "optimizer = tf.keras.optimizers.SGD(lr=lr, clipnorm=max_grad_norm)"
   ]
  },
  {
   "cell_type": "markdown",
   "metadata": {},
   "source": [
    "<h4>2. Assemble layers to build model.</h4>\n"
   ]
  },
  {
   "cell_type": "code",
   "execution_count": 39,
   "metadata": {},
   "outputs": [
    {
     "name": "stdout",
     "output_type": "stream",
     "text": [
      "Model: \"sequential\"\n",
      "_________________________________________________________________\n",
      "Layer (type)                 Output Shape              Param #   \n",
      "=================================================================\n",
      "embedding_vocab (Embedding)  (30, 20, 200)             2000000   \n",
      "_________________________________________________________________\n",
      "rnn (RNN)                    (30, 20, 128)             671088    \n",
      "_________________________________________________________________\n",
      "dense (Dense)                (30, 20, 10000)           1290000   \n",
      "_________________________________________________________________\n",
      "activation (Activation)      (30, 20, 10000)           0         \n",
      "=================================================================\n",
      "Total params: 3,961,088\n",
      "Trainable params: 3,955,088\n",
      "Non-trainable params: 6,000\n",
      "_________________________________________________________________\n"
     ]
    }
   ],
   "source": [
    "model = tf.keras.Sequential()\n",
    "model.add(embedding_layer)\n",
    "model.add(layer)\n",
    "model.add(dense)\n",
    "model.add(activation)\n",
    "model.compile(loss=crossentropy, optimizer=optimizer)\n",
    "model.summary()"
   ]
  },
  {
   "cell_type": "markdown",
   "metadata": {
    "button": false,
    "new_sheet": false,
    "run_control": {
     "read_only": false
    }
   },
   "source": [
    "<h4>2. Trainable Variables</h4>\n"
   ]
  },
  {
   "cell_type": "markdown",
   "metadata": {
    "button": false,
    "new_sheet": false,
    "run_control": {
     "read_only": false
    }
   },
   "source": [
    "Defining a variable, if you passed <i>trainable=True</i>, the variable constructor automatically adds new variables to the graph collection <b>GraphKeys.TRAINABLE_VARIABLES</b>. Now, using <i>tf.trainable_variables()</i> you can get all variables created with <b>trainable=True</b>.\n"
   ]
  },
  {
   "cell_type": "code",
   "execution_count": 40,
   "metadata": {
    "button": false,
    "new_sheet": false,
    "run_control": {
     "read_only": false
    }
   },
   "outputs": [],
   "source": [
    "# Get all TensorFlow variables marked as \"trainable\" (i.e. all of them except _lr, which we just created)\n",
    "tvars = model.trainable_variables"
   ]
  },
  {
   "cell_type": "markdown",
   "metadata": {
    "button": false,
    "new_sheet": false,
    "run_control": {
     "read_only": false
    }
   },
   "source": [
    "Note: we can find the name and scope of all variables:\n"
   ]
  },
  {
   "cell_type": "code",
   "execution_count": 41,
   "metadata": {
    "button": false,
    "new_sheet": false,
    "run_control": {
     "read_only": false
    }
   },
   "outputs": [
    {
     "data": {
      "text/plain": [
       "['embedding_vocab/embeddings:0',\n",
       " 'rnn/stacked_rnn_cells/lstm_cell/kernel:0',\n",
       " 'rnn/stacked_rnn_cells/lstm_cell/recurrent_kernel:0',\n",
       " 'rnn/stacked_rnn_cells/lstm_cell/bias:0',\n",
       " 'rnn/stacked_rnn_cells/lstm_cell_1/kernel:0',\n",
       " 'rnn/stacked_rnn_cells/lstm_cell_1/recurrent_kernel:0',\n",
       " 'rnn/stacked_rnn_cells/lstm_cell_1/bias:0',\n",
       " 'dense/kernel:0',\n",
       " 'dense/bias:0']"
      ]
     },
     "execution_count": 41,
     "metadata": {},
     "output_type": "execute_result"
    }
   ],
   "source": [
    "[v.name for v in tvars] "
   ]
  },
  {
   "cell_type": "markdown",
   "metadata": {
    "button": false,
    "new_sheet": false,
    "run_control": {
     "read_only": false
    }
   },
   "source": [
    "<h4>3. Calculate the gradients based on the loss function</h4>\n"
   ]
  },
  {
   "cell_type": "markdown",
   "metadata": {
    "button": false,
    "deletable": true,
    "new_sheet": false,
    "run_control": {
     "read_only": false
    }
   },
   "source": [
    "**Gradient**: The gradient of a function is the slope of its derivative (line), or in other words, the rate of change of a function. It's a vector (a direction to move) that points in the direction of greatest increase of the function, and calculated by the <b>derivative</b> operation.\n"
   ]
  },
  {
   "cell_type": "markdown",
   "metadata": {},
   "source": [
    "First lets recall the gradient function using an toy example:\n",
    "$$ z = \\left(2x^2 + 3xy\\right)$$\n"
   ]
  },
  {
   "cell_type": "code",
   "execution_count": 42,
   "metadata": {},
   "outputs": [],
   "source": [
    "x = tf.constant(1.0)\n",
    "y =  tf.constant(2.0)\n",
    "with tf.GradientTape(persistent=True) as g:\n",
    "    g.watch(x)\n",
    "    g.watch(y)\n",
    "    func_test = 2 * x * x + 3 * x * y"
   ]
  },
  {
   "cell_type": "markdown",
   "metadata": {},
   "source": [
    "The <b>tf.gradients()</b> function allows you to compute the symbolic gradient of one tensor with respect to one or more other tensors—including variables. <b>tf.gradients(func, xs)</b> constructs symbolic partial derivatives of sum of <b>func</b> w.r.t. <i>x</i> in <b>xs</b>. \n",
    "\n",
    "Now, lets look at the derivitive w.r.t. <b>var_x</b>:\n",
    "$$ \\frac{\\partial \\:}{\\partial \\:x}\\left(2x^2 + 3xy\\right) = 4x + 3y $$\n"
   ]
  },
  {
   "cell_type": "code",
   "execution_count": 43,
   "metadata": {},
   "outputs": [
    {
     "name": "stdout",
     "output_type": "stream",
     "text": [
      "tf.Tensor(10.0, shape=(), dtype=float32)\n"
     ]
    }
   ],
   "source": [
    "var_grad = g.gradient(func_test, x) # Will compute to 10.0\n",
    "print(var_grad)"
   ]
  },
  {
   "cell_type": "markdown",
   "metadata": {},
   "source": [
    "the derivative w.r.t. <b>var_y</b>:\n",
    "$$ \\frac{\\partial \\:}{\\partial \\:y}\\left(2x^2 + 3xy\\right) = 3x $$\n"
   ]
  },
  {
   "cell_type": "code",
   "execution_count": 44,
   "metadata": {},
   "outputs": [
    {
     "name": "stdout",
     "output_type": "stream",
     "text": [
      "tf.Tensor(3.0, shape=(), dtype=float32)\n"
     ]
    }
   ],
   "source": [
    "var_grad = g.gradient(func_test, y) # Will compute to 3.0\n",
    "print(var_grad)"
   ]
  },
  {
   "cell_type": "markdown",
   "metadata": {},
   "source": [
    "Now, we can look at gradients w.r.t all variables:\n"
   ]
  },
  {
   "cell_type": "code",
   "execution_count": 45,
   "metadata": {},
   "outputs": [],
   "source": [
    "with tf.GradientTape() as tape:\n",
    "    # Forward pass.\n",
    "    output_words_prob = model(_input_data)\n",
    "    # Loss value for this batch.\n",
    "    loss  = crossentropy(_targets, output_words_prob)\n",
    "    cost = tf.reduce_sum(loss,axis=0) / batch_size"
   ]
  },
  {
   "cell_type": "code",
   "execution_count": 46,
   "metadata": {},
   "outputs": [],
   "source": [
    "# Get gradients of loss wrt the trainable variables.\n",
    "grad_t_list = tape.gradient(cost, tvars)"
   ]
  },
  {
   "cell_type": "code",
   "execution_count": 47,
   "metadata": {},
   "outputs": [
    {
     "name": "stdout",
     "output_type": "stream",
     "text": [
      "[<tensorflow.python.framework.indexed_slices.IndexedSlices object at 0x7fdf9e764d30>, <tf.Tensor: shape=(200, 1024), dtype=float32, numpy=\n",
      "array([[-5.2095004e-09,  3.6485415e-07, -8.6328936e-07, ...,\n",
      "         3.1411457e-07,  1.1161474e-07, -2.4372076e-07],\n",
      "       [ 1.8333080e-07, -3.1549632e-07,  1.3745959e-07, ...,\n",
      "        -3.1016054e-07, -1.0609237e-07, -3.8097406e-07],\n",
      "       [-3.1994855e-07, -1.1159247e-07,  4.4713261e-07, ...,\n",
      "        -4.5744650e-07, -1.1120068e-07, -6.1599303e-07],\n",
      "       ...,\n",
      "       [ 2.0560928e-07, -5.6427189e-07,  3.4408430e-07, ...,\n",
      "        -3.1742076e-08, -3.0950289e-07, -3.3471264e-07],\n",
      "       [ 9.3257967e-08,  8.1237067e-07, -1.9686536e-07, ...,\n",
      "         3.8053128e-07, -6.1521376e-07,  1.3425964e-07],\n",
      "       [ 2.4315060e-08,  2.8584506e-07, -3.2956052e-07, ...,\n",
      "        -7.7248991e-08,  4.3611192e-07,  2.9627529e-07]], dtype=float32)>, <tf.Tensor: shape=(256, 1024), dtype=float32, numpy=\n",
      "array([[ 9.1831176e-08, -1.6149927e-07, -1.0601774e-08, ...,\n",
      "        -5.2209860e-08,  9.3236139e-08,  8.6008953e-08],\n",
      "       [-3.0024090e-09, -3.8391192e-08,  2.0480105e-07, ...,\n",
      "         1.5484275e-07, -1.8376365e-07, -6.4449530e-09],\n",
      "       [ 4.4259735e-08, -4.6959634e-08,  5.8835706e-08, ...,\n",
      "        -1.2531248e-07,  1.8256085e-07, -8.1039104e-08],\n",
      "       ...,\n",
      "       [ 1.3248680e-08, -6.2598694e-08,  4.5063686e-08, ...,\n",
      "         1.2139523e-08, -5.7495971e-08,  4.4020176e-08],\n",
      "       [-5.0364598e-08, -3.2360660e-08,  1.7674164e-07, ...,\n",
      "        -1.3802824e-07,  6.6132560e-07, -3.4952894e-09],\n",
      "       [-1.5440005e-09,  1.7405455e-09, -3.5056935e-08, ...,\n",
      "        -1.3122889e-08, -2.0710182e-07,  3.4979699e-08]], dtype=float32)>, <tf.Tensor: shape=(1024,), dtype=float32, numpy=\n",
      "array([-1.7795899e-05,  8.4779531e-06, -1.4610354e-05, ...,\n",
      "        7.3360115e-06,  4.5401328e-05, -6.5078589e-06], dtype=float32)>, <tf.Tensor: shape=(256, 512), dtype=float32, numpy=\n",
      "array([[ 2.7031933e-07,  5.8048020e-09, -1.0277124e-07, ...,\n",
      "        -8.2521666e-08,  4.2420510e-08, -1.6323311e-07],\n",
      "       [-2.6817403e-07,  4.0669079e-08,  7.7050612e-07, ...,\n",
      "         1.0417033e-07,  1.6983779e-07,  3.7792098e-08],\n",
      "       [-1.2088509e-07, -1.6353566e-07,  6.7198812e-08, ...,\n",
      "         1.7475995e-07, -2.0538354e-07,  3.8538627e-08],\n",
      "       ...,\n",
      "       [-3.2793331e-08,  2.5079075e-08,  2.5979222e-07, ...,\n",
      "        -1.5960242e-07, -1.1684665e-07, -1.0147914e-07],\n",
      "       [-8.2643879e-08,  7.4265223e-08, -4.6452081e-07, ...,\n",
      "         2.8733396e-08, -2.9144357e-07,  1.0598090e-07],\n",
      "       [-2.9313208e-07,  7.9133486e-08,  8.3903467e-07, ...,\n",
      "         9.8054549e-08,  2.0901115e-07,  5.2592725e-08]], dtype=float32)>, <tf.Tensor: shape=(128, 512), dtype=float32, numpy=\n",
      "array([[ 2.47051730e-07,  1.35430795e-08, -4.63373823e-07, ...,\n",
      "         9.34492874e-08, -9.11398530e-08, -1.99638883e-08],\n",
      "       [-1.13207193e-07, -1.99839761e-07, -5.59476803e-08, ...,\n",
      "         2.38885320e-08,  3.74349867e-08, -4.66413468e-08],\n",
      "       [-1.21430560e-07,  1.01537765e-07,  1.37670679e-06, ...,\n",
      "        -1.38340226e-07,  8.02081956e-08,  1.46983965e-07],\n",
      "       ...,\n",
      "       [ 1.32651437e-08,  6.27883878e-08,  1.05713752e-07, ...,\n",
      "        -2.60336975e-07, -1.55879878e-08,  4.57703813e-08],\n",
      "       [-1.38787215e-07,  2.89399580e-08, -1.52308274e-07, ...,\n",
      "         2.22056968e-08,  2.64561351e-07, -1.64482046e-08],\n",
      "       [-1.02975733e-07,  3.15487512e-08,  2.06031459e-07, ...,\n",
      "        -7.87158427e-08,  3.63542654e-08,  8.66226344e-08]], dtype=float32)>, <tf.Tensor: shape=(512,), dtype=float32, numpy=\n",
      "array([ 3.60234699e-05, -3.13551172e-05, -1.14587849e-04,  5.45938292e-06,\n",
      "       -1.29172404e-05, -4.65539670e-05,  8.32417300e-06,  7.13605405e-05,\n",
      "        2.19178910e-05,  2.09821628e-05,  5.96845020e-05, -2.55227314e-06,\n",
      "       -1.33665126e-05,  4.11788860e-05, -2.44165167e-05,  1.77546935e-05,\n",
      "        7.66426547e-06, -1.16758883e-05,  1.09897483e-05, -5.82923094e-05,\n",
      "       -3.43477368e-05, -1.68470833e-05, -2.49999412e-05, -4.03265149e-05,\n",
      "       -1.22383244e-05, -5.61746274e-05, -8.10299389e-05,  2.48181314e-05,\n",
      "        1.08824952e-06, -1.09789798e-04, -3.70379748e-05,  4.60066803e-06,\n",
      "        3.00125812e-05,  7.87074459e-05,  6.43799067e-05, -1.12254784e-05,\n",
      "        6.09863946e-06, -1.58110670e-05,  2.85155966e-05,  1.02627382e-06,\n",
      "       -9.58377059e-05, -3.86380088e-05,  1.35176942e-05,  1.63982040e-05,\n",
      "       -7.11366301e-05, -7.94468906e-06, -2.85154001e-05, -5.28039636e-05,\n",
      "       -1.09920065e-05,  6.31436269e-05, -1.26696723e-05,  2.90638345e-05,\n",
      "        1.79445360e-05, -3.16848163e-05,  1.63595232e-05, -4.47575221e-05,\n",
      "       -4.19336975e-05, -1.82687436e-05, -2.25942586e-05, -7.74714281e-05,\n",
      "       -2.18701712e-06, -3.92661605e-05,  1.90130067e-05,  1.42832987e-05,\n",
      "       -4.86115096e-06,  2.72791585e-05, -1.58555486e-05, -6.44454558e-05,\n",
      "        1.30078606e-05, -1.27848625e-05, -1.12625938e-04,  2.12424547e-05,\n",
      "       -1.00871066e-05, -6.65768312e-08,  5.30084390e-06, -5.22215996e-05,\n",
      "       -7.30759348e-06,  5.29412546e-06,  1.98366251e-05, -5.99577834e-06,\n",
      "       -2.18571859e-05, -2.74020022e-05, -7.59793511e-06, -3.75984673e-05,\n",
      "        6.00374224e-05,  4.60188567e-05, -1.78623159e-05,  1.23833843e-06,\n",
      "        2.39587862e-05,  3.37334277e-05, -2.22855051e-05, -3.84164105e-06,\n",
      "       -3.66426830e-05,  1.23504788e-05,  3.67598659e-07, -1.35966911e-05,\n",
      "        1.35285554e-05, -1.91337094e-05,  2.84603539e-06, -5.48894313e-05,\n",
      "        2.50118865e-05,  5.38580207e-06, -5.19501991e-05, -5.54317239e-06,\n",
      "       -1.15264565e-05,  2.50064895e-05,  5.24325005e-05,  5.86498663e-06,\n",
      "       -1.92308562e-06,  6.28500266e-06,  2.52694826e-06,  2.24623782e-05,\n",
      "        5.34644687e-06,  2.29658908e-05,  2.06839250e-05,  1.69038776e-06,\n",
      "        1.81209216e-05, -3.16173209e-05, -6.38308265e-05,  2.45173305e-05,\n",
      "       -2.58271466e-05,  9.67682208e-05,  5.34082246e-05,  1.44349906e-05,\n",
      "        1.82034564e-05,  2.39801775e-05, -1.85772278e-05, -2.26359371e-05,\n",
      "        3.30052208e-05, -2.50065023e-05, -1.79585782e-04, -9.44279236e-06,\n",
      "       -1.83569719e-05, -7.00573073e-05,  1.11697609e-05,  1.16614203e-04,\n",
      "        4.38302341e-05,  3.34663528e-05,  7.70575643e-05,  3.45739500e-06,\n",
      "        2.91771539e-06,  8.48754571e-05, -6.02167856e-05, -2.81916618e-06,\n",
      "       -1.44289988e-05, -9.64534229e-06,  3.16825208e-06, -5.36569642e-05,\n",
      "       -6.73753239e-05, -2.99783787e-05, -1.68850675e-05, -5.00392853e-05,\n",
      "       -4.92189338e-06, -4.46330196e-05, -7.00578385e-05, -2.13540761e-06,\n",
      "        7.35405411e-06, -1.50406544e-04, -3.84723244e-05, -5.61354682e-06,\n",
      "        1.83551256e-05,  1.20367098e-04,  7.73117281e-05, -4.10391658e-06,\n",
      "       -3.65691449e-05,  1.19636352e-05,  4.04331513e-05, -1.21588182e-05,\n",
      "       -1.08157765e-04, -2.91126489e-05,  2.39004585e-05, -6.64800609e-06,\n",
      "       -1.10371257e-04, -7.15387660e-06, -3.16296209e-05, -8.92620810e-05,\n",
      "       -1.19611723e-05,  9.05287015e-05, -5.32273116e-05,  3.78256445e-05,\n",
      "        1.84447890e-05, -3.42705243e-05,  2.72263915e-05, -5.37289779e-05,\n",
      "       -7.10594759e-05, -2.61881396e-05, -2.57817883e-05, -1.16938398e-04,\n",
      "       -1.58513540e-05, -3.82303369e-06,  2.87002276e-05,  2.80998029e-05,\n",
      "        4.31014996e-05,  2.54216793e-05, -2.82171313e-05, -7.98787005e-05,\n",
      "        1.06009102e-05, -1.96366782e-05, -1.83025462e-04,  3.39229518e-05,\n",
      "       -1.92124153e-05, -2.78301013e-05, -2.95669724e-05, -5.94075755e-05,\n",
      "        1.18921635e-05,  2.22300332e-06,  8.67700328e-06, -2.47393400e-05,\n",
      "       -1.84108048e-05, -4.64237528e-05, -3.76600292e-05, -4.68229264e-05,\n",
      "        9.11645402e-05,  9.13050899e-05, -3.85553394e-05,  1.18858106e-05,\n",
      "        2.25208933e-05,  4.51058841e-05, -2.23495426e-05,  2.06355071e-06,\n",
      "       -3.99456112e-05, -3.10911958e-07, -1.70657222e-05, -2.82386827e-06,\n",
      "        4.18574346e-05, -1.71305364e-05, -1.76293615e-05, -6.53038587e-05,\n",
      "        4.89785234e-05,  4.86528916e-06, -5.60526751e-05, -1.09321900e-06,\n",
      "       -1.31116230e-05,  3.89192292e-06,  8.25390016e-05, -2.60764209e-05,\n",
      "        3.78744699e-06, -4.07942662e-06,  4.02232399e-06, -2.47063372e-06,\n",
      "        3.59677142e-06,  3.72151662e-05, -8.45776594e-06, -2.06670102e-05,\n",
      "        9.64043102e-06, -4.19553617e-05, -8.43188536e-05,  3.74218434e-05,\n",
      "       -3.97468102e-05,  1.29792272e-04,  4.45835612e-05,  4.56190028e-05,\n",
      "        3.01568871e-05,  2.33356732e-05, -2.85431324e-05, -1.89043822e-05,\n",
      "        1.48386639e-02, -2.07785871e-02,  6.54273778e-02, -6.39806166e-02,\n",
      "        4.12607118e-02, -2.27782261e-02, -2.77466103e-02,  4.96625192e-02,\n",
      "       -3.25024128e-02,  2.33986899e-02,  3.65708694e-02, -1.65511034e-02,\n",
      "       -1.28907301e-02,  2.68950891e-02,  2.60105580e-02, -2.24192869e-02,\n",
      "       -1.98223591e-02,  5.06970957e-02,  7.98723567e-03,  2.53274851e-02,\n",
      "        3.55517194e-02,  2.15091314e-02,  1.88744590e-02, -7.27860332e-02,\n",
      "       -2.86303926e-02, -2.26433668e-03, -9.18044802e-03,  2.29095928e-02,\n",
      "        5.35226101e-03,  4.55804691e-02,  1.14471279e-02,  2.37488598e-02,\n",
      "       -3.02183023e-03,  6.82291985e-02, -5.36316261e-02,  1.43636484e-02,\n",
      "        1.65523519e-03, -9.66653414e-03, -7.55249895e-03, -5.08530587e-02,\n",
      "        5.07170707e-02,  1.40742268e-02,  1.47756832e-02, -6.70786109e-03,\n",
      "        1.68751478e-02,  7.75217591e-03,  4.76746075e-02, -2.30815783e-02,\n",
      "       -1.54462224e-02,  4.99328896e-02, -3.14985849e-02, -7.61124026e-03,\n",
      "       -2.97856033e-02,  4.49187234e-02,  3.76608595e-02,  5.32156043e-03,\n",
      "        3.83623987e-02, -5.04495129e-02, -3.84993246e-03, -3.86128277e-02,\n",
      "       -2.38694903e-02,  2.82848198e-02,  1.33078182e-02, -1.93264559e-02,\n",
      "       -1.65048242e-02,  5.68028130e-02,  3.47444378e-02,  2.12884955e-02,\n",
      "       -1.04765519e-02, -2.43984945e-02, -5.54109737e-02, -3.28071020e-03,\n",
      "       -2.14057583e-02,  2.41958499e-02, -3.96289583e-03,  2.80706733e-02,\n",
      "       -4.52603027e-02,  1.70034543e-03, -1.53062074e-03,  4.36651148e-02,\n",
      "        3.85477091e-03,  6.72385842e-02,  7.38754356e-03,  3.12605612e-02,\n",
      "       -3.09614465e-02, -4.22641374e-02, -1.47533659e-02, -1.03109181e-02,\n",
      "       -5.56305051e-02, -3.11926305e-02,  3.50673981e-02, -8.90767388e-03,\n",
      "       -3.24643180e-02,  3.31652611e-02, -1.62768997e-02,  2.53328905e-02,\n",
      "       -1.83907188e-02,  1.58089381e-02, -1.11592738e-02,  1.53343482e-02,\n",
      "       -1.60444956e-02,  5.38202841e-03, -5.34471031e-03, -7.04911910e-03,\n",
      "        2.07224628e-03,  1.16755078e-02, -4.67095152e-02,  6.79067709e-03,\n",
      "       -5.56711592e-02,  1.53165990e-02,  3.25017571e-02, -1.42391883e-02,\n",
      "        5.37937805e-02,  5.99592272e-03, -1.04833646e-02,  2.42946073e-02,\n",
      "        1.73647446e-03, -2.54586041e-02, -2.91611254e-02,  1.26734842e-02,\n",
      "        1.56116905e-02,  2.28195377e-02,  3.32863722e-03,  2.43177153e-02,\n",
      "       -1.38728777e-02, -4.91462350e-02,  2.50635352e-02,  1.65580418e-02,\n",
      "        3.97684780e-05, -3.27743219e-05, -1.33458176e-04,  5.37017513e-07,\n",
      "       -1.19888091e-05, -5.77720093e-05,  1.04594073e-05,  8.88207651e-05,\n",
      "        2.97011156e-05,  2.42261631e-05,  6.62207167e-05, -1.27546664e-05,\n",
      "       -1.93456726e-05,  5.00672759e-05, -3.02790395e-05,  9.68488712e-06,\n",
      "        1.12258731e-05, -2.15010878e-05,  1.05499330e-05, -6.86612766e-05,\n",
      "       -4.21910408e-05, -2.13195290e-05, -2.67782907e-05, -5.49459910e-05,\n",
      "       -1.23203881e-05, -5.39040993e-05, -8.63064852e-05,  3.24699431e-05,\n",
      "        1.22147903e-05, -1.14996627e-04, -3.45521548e-05,  1.60289164e-06,\n",
      "        3.33976059e-05,  7.60733237e-05,  7.06234787e-05, -1.38124306e-05,\n",
      "        3.69369127e-06, -1.26354171e-05,  4.09447457e-05,  6.35174729e-06,\n",
      "       -1.12893147e-04, -4.22652702e-05,  8.68352072e-06,  1.29961827e-05,\n",
      "       -8.24098533e-05, -1.38325449e-05, -3.15634788e-05, -6.45517212e-05,\n",
      "       -1.76877365e-05,  7.07647050e-05, -2.75987823e-05,  2.57026513e-05,\n",
      "        2.38495832e-05, -3.95802490e-05,  2.86087179e-05, -6.12532967e-05,\n",
      "       -5.70507327e-05, -2.59013468e-05, -2.79941160e-05, -8.98367362e-05,\n",
      "       -7.39677034e-06, -4.96132670e-05,  1.37554562e-05,  1.66250011e-05,\n",
      "        9.77326636e-07,  3.27967282e-05, -4.89711238e-06, -7.73848442e-05,\n",
      "        1.50057031e-05, -2.06321529e-05, -1.48323015e-04,  1.86307589e-05,\n",
      "       -1.20795585e-05,  2.09796508e-06, -2.58336286e-06, -5.92878205e-05,\n",
      "       -3.48638787e-06,  5.31824389e-06,  1.22503852e-05, -1.47995761e-05,\n",
      "       -1.72071723e-05, -3.45776571e-05, -1.94298573e-05, -4.78260263e-05,\n",
      "        7.30933025e-05,  6.21990039e-05, -2.49443092e-05,  2.42631722e-06,\n",
      "        3.57377066e-05,  3.05951253e-05, -2.14856955e-05, -1.95202983e-06,\n",
      "       -4.03282611e-05,  1.26485475e-05,  3.43111151e-06, -1.19496945e-05,\n",
      "        5.37778578e-06, -1.48399286e-05,  6.17006754e-06, -5.61678025e-05,\n",
      "        1.54131849e-05,  8.19713296e-06, -5.45569892e-05, -2.92360619e-06,\n",
      "       -1.24227608e-05,  3.04284422e-05,  5.32457925e-05,  9.86770920e-06,\n",
      "       -4.93133666e-06,  6.42187752e-06, -7.66921403e-07,  1.75075420e-05,\n",
      "        1.35594946e-05,  2.21250120e-05,  1.55557937e-05,  4.22361700e-06,\n",
      "        1.20880577e-05, -3.57018034e-05, -8.42443114e-05,  3.18257808e-05,\n",
      "       -1.94677777e-05,  1.06670348e-04,  5.47652307e-05,  3.04737187e-05,\n",
      "        2.21978153e-05,  1.57561390e-05, -2.38111352e-05, -2.44503044e-05],\n",
      "      dtype=float32)>, <tf.Tensor: shape=(128, 10000), dtype=float32, numpy=\n",
      "array([[-2.0269351e-03, -2.6590028e-03, -2.2863611e-03, ...,\n",
      "         3.7547420e-06,  3.7513325e-06,  3.7537257e-06],\n",
      "       [ 5.1723595e-04, -3.2046903e-04, -2.5225844e-04, ...,\n",
      "        -3.3760307e-07, -3.3768407e-07, -3.3834101e-07],\n",
      "       [ 2.7704239e-03,  4.1448227e-03,  3.3540120e-03, ...,\n",
      "        -6.8992167e-06, -6.8943164e-06, -6.8960635e-06],\n",
      "       ...,\n",
      "       [ 2.2487651e-04, -8.8848989e-05,  5.1399204e-04, ...,\n",
      "        -7.6441563e-07, -7.6512526e-07, -7.6401193e-07],\n",
      "       [ 1.1193592e-03,  1.0445963e-03,  6.4005889e-04, ...,\n",
      "        -2.1911392e-06, -2.1860906e-06, -2.1903431e-06],\n",
      "       [ 4.1595206e-04,  1.7262290e-03,  1.6610764e-03, ...,\n",
      "        -2.7633273e-06, -2.7602391e-06, -2.7619456e-06]], dtype=float32)>, <tf.Tensor: shape=(10000,), dtype=float32, numpy=\n",
      "array([-0.7979978 , -1.0313315 , -1.0313314 , ...,  0.00200018,\n",
      "        0.00199847,  0.0019995 ], dtype=float32)>]\n"
     ]
    }
   ],
   "source": [
    "print(grad_t_list)"
   ]
  },
  {
   "cell_type": "markdown",
   "metadata": {
    "button": false,
    "new_sheet": false,
    "run_control": {
     "read_only": false
    }
   },
   "source": [
    "now, we have a list of tensors, t-list. We can use it to find clipped tensors. <b>clip_by_global_norm</b> clips values of multiple tensors by the ratio of the sum of their norms.\n",
    "\n",
    "<b>clip_by_global_norm</b> get <i>t-list</i> as input and returns 2 things:\n",
    "\n",
    "<ul>\n",
    "    <li>a list of clipped tensors, so called <i>list_clipped</i></li> \n",
    "    <li>the global norm (global_norm) of all tensors in t_list</li> \n",
    "</ul>\n"
   ]
  },
  {
   "cell_type": "code",
   "execution_count": 48,
   "metadata": {},
   "outputs": [
    {
     "data": {
      "text/plain": [
       "[<tensorflow.python.framework.indexed_slices.IndexedSlices at 0x7fe080766518>,\n",
       " <tf.Tensor: shape=(200, 1024), dtype=float32, numpy=\n",
       " array([[-5.2095004e-09,  3.6485415e-07, -8.6328936e-07, ...,\n",
       "          3.1411457e-07,  1.1161474e-07, -2.4372076e-07],\n",
       "        [ 1.8333080e-07, -3.1549632e-07,  1.3745959e-07, ...,\n",
       "         -3.1016054e-07, -1.0609237e-07, -3.8097406e-07],\n",
       "        [-3.1994855e-07, -1.1159247e-07,  4.4713261e-07, ...,\n",
       "         -4.5744650e-07, -1.1120068e-07, -6.1599303e-07],\n",
       "        ...,\n",
       "        [ 2.0560928e-07, -5.6427189e-07,  3.4408430e-07, ...,\n",
       "         -3.1742076e-08, -3.0950289e-07, -3.3471264e-07],\n",
       "        [ 9.3257967e-08,  8.1237067e-07, -1.9686536e-07, ...,\n",
       "          3.8053128e-07, -6.1521376e-07,  1.3425964e-07],\n",
       "        [ 2.4315060e-08,  2.8584506e-07, -3.2956052e-07, ...,\n",
       "         -7.7248991e-08,  4.3611192e-07,  2.9627529e-07]], dtype=float32)>,\n",
       " <tf.Tensor: shape=(256, 1024), dtype=float32, numpy=\n",
       " array([[ 9.1831176e-08, -1.6149927e-07, -1.0601774e-08, ...,\n",
       "         -5.2209860e-08,  9.3236139e-08,  8.6008953e-08],\n",
       "        [-3.0024090e-09, -3.8391192e-08,  2.0480105e-07, ...,\n",
       "          1.5484275e-07, -1.8376365e-07, -6.4449530e-09],\n",
       "        [ 4.4259735e-08, -4.6959634e-08,  5.8835706e-08, ...,\n",
       "         -1.2531248e-07,  1.8256085e-07, -8.1039104e-08],\n",
       "        ...,\n",
       "        [ 1.3248680e-08, -6.2598694e-08,  4.5063686e-08, ...,\n",
       "          1.2139523e-08, -5.7495971e-08,  4.4020176e-08],\n",
       "        [-5.0364598e-08, -3.2360660e-08,  1.7674164e-07, ...,\n",
       "         -1.3802824e-07,  6.6132560e-07, -3.4952894e-09],\n",
       "        [-1.5440005e-09,  1.7405455e-09, -3.5056935e-08, ...,\n",
       "         -1.3122889e-08, -2.0710182e-07,  3.4979699e-08]], dtype=float32)>,\n",
       " <tf.Tensor: shape=(1024,), dtype=float32, numpy=\n",
       " array([-1.7795899e-05,  8.4779531e-06, -1.4610354e-05, ...,\n",
       "         7.3360115e-06,  4.5401328e-05, -6.5078589e-06], dtype=float32)>,\n",
       " <tf.Tensor: shape=(256, 512), dtype=float32, numpy=\n",
       " array([[ 2.7031933e-07,  5.8048020e-09, -1.0277124e-07, ...,\n",
       "         -8.2521666e-08,  4.2420510e-08, -1.6323311e-07],\n",
       "        [-2.6817403e-07,  4.0669079e-08,  7.7050612e-07, ...,\n",
       "          1.0417033e-07,  1.6983779e-07,  3.7792098e-08],\n",
       "        [-1.2088509e-07, -1.6353566e-07,  6.7198812e-08, ...,\n",
       "          1.7475995e-07, -2.0538354e-07,  3.8538627e-08],\n",
       "        ...,\n",
       "        [-3.2793331e-08,  2.5079075e-08,  2.5979222e-07, ...,\n",
       "         -1.5960242e-07, -1.1684665e-07, -1.0147914e-07],\n",
       "        [-8.2643879e-08,  7.4265223e-08, -4.6452081e-07, ...,\n",
       "          2.8733396e-08, -2.9144357e-07,  1.0598090e-07],\n",
       "        [-2.9313208e-07,  7.9133486e-08,  8.3903467e-07, ...,\n",
       "          9.8054549e-08,  2.0901115e-07,  5.2592725e-08]], dtype=float32)>,\n",
       " <tf.Tensor: shape=(128, 512), dtype=float32, numpy=\n",
       " array([[ 2.47051730e-07,  1.35430795e-08, -4.63373823e-07, ...,\n",
       "          9.34492874e-08, -9.11398530e-08, -1.99638883e-08],\n",
       "        [-1.13207193e-07, -1.99839761e-07, -5.59476803e-08, ...,\n",
       "          2.38885320e-08,  3.74349867e-08, -4.66413468e-08],\n",
       "        [-1.21430560e-07,  1.01537765e-07,  1.37670679e-06, ...,\n",
       "         -1.38340226e-07,  8.02081956e-08,  1.46983965e-07],\n",
       "        ...,\n",
       "        [ 1.32651437e-08,  6.27883878e-08,  1.05713752e-07, ...,\n",
       "         -2.60336975e-07, -1.55879878e-08,  4.57703813e-08],\n",
       "        [-1.38787215e-07,  2.89399580e-08, -1.52308274e-07, ...,\n",
       "          2.22056968e-08,  2.64561351e-07, -1.64482046e-08],\n",
       "        [-1.02975733e-07,  3.15487512e-08,  2.06031459e-07, ...,\n",
       "         -7.87158427e-08,  3.63542654e-08,  8.66226344e-08]], dtype=float32)>,\n",
       " <tf.Tensor: shape=(512,), dtype=float32, numpy=\n",
       " array([ 3.60234699e-05, -3.13551172e-05, -1.14587849e-04,  5.45938292e-06,\n",
       "        -1.29172404e-05, -4.65539670e-05,  8.32417300e-06,  7.13605405e-05,\n",
       "         2.19178910e-05,  2.09821628e-05,  5.96845020e-05, -2.55227314e-06,\n",
       "        -1.33665126e-05,  4.11788860e-05, -2.44165167e-05,  1.77546935e-05,\n",
       "         7.66426547e-06, -1.16758883e-05,  1.09897483e-05, -5.82923094e-05,\n",
       "        -3.43477368e-05, -1.68470833e-05, -2.49999412e-05, -4.03265149e-05,\n",
       "        -1.22383244e-05, -5.61746274e-05, -8.10299389e-05,  2.48181314e-05,\n",
       "         1.08824952e-06, -1.09789798e-04, -3.70379748e-05,  4.60066803e-06,\n",
       "         3.00125812e-05,  7.87074459e-05,  6.43799067e-05, -1.12254784e-05,\n",
       "         6.09863946e-06, -1.58110670e-05,  2.85155966e-05,  1.02627382e-06,\n",
       "        -9.58377059e-05, -3.86380088e-05,  1.35176942e-05,  1.63982040e-05,\n",
       "        -7.11366301e-05, -7.94468906e-06, -2.85154001e-05, -5.28039636e-05,\n",
       "        -1.09920065e-05,  6.31436269e-05, -1.26696723e-05,  2.90638345e-05,\n",
       "         1.79445360e-05, -3.16848163e-05,  1.63595232e-05, -4.47575221e-05,\n",
       "        -4.19336975e-05, -1.82687436e-05, -2.25942586e-05, -7.74714281e-05,\n",
       "        -2.18701712e-06, -3.92661605e-05,  1.90130067e-05,  1.42832987e-05,\n",
       "        -4.86115096e-06,  2.72791585e-05, -1.58555486e-05, -6.44454558e-05,\n",
       "         1.30078606e-05, -1.27848625e-05, -1.12625938e-04,  2.12424547e-05,\n",
       "        -1.00871066e-05, -6.65768312e-08,  5.30084390e-06, -5.22215996e-05,\n",
       "        -7.30759348e-06,  5.29412546e-06,  1.98366251e-05, -5.99577834e-06,\n",
       "        -2.18571859e-05, -2.74020022e-05, -7.59793511e-06, -3.75984673e-05,\n",
       "         6.00374224e-05,  4.60188567e-05, -1.78623159e-05,  1.23833843e-06,\n",
       "         2.39587862e-05,  3.37334277e-05, -2.22855051e-05, -3.84164105e-06,\n",
       "        -3.66426830e-05,  1.23504788e-05,  3.67598659e-07, -1.35966911e-05,\n",
       "         1.35285554e-05, -1.91337094e-05,  2.84603539e-06, -5.48894313e-05,\n",
       "         2.50118865e-05,  5.38580207e-06, -5.19501991e-05, -5.54317239e-06,\n",
       "        -1.15264565e-05,  2.50064895e-05,  5.24325005e-05,  5.86498663e-06,\n",
       "        -1.92308562e-06,  6.28500266e-06,  2.52694826e-06,  2.24623782e-05,\n",
       "         5.34644687e-06,  2.29658908e-05,  2.06839250e-05,  1.69038776e-06,\n",
       "         1.81209216e-05, -3.16173209e-05, -6.38308265e-05,  2.45173305e-05,\n",
       "        -2.58271466e-05,  9.67682208e-05,  5.34082246e-05,  1.44349906e-05,\n",
       "         1.82034564e-05,  2.39801775e-05, -1.85772278e-05, -2.26359371e-05,\n",
       "         3.30052208e-05, -2.50065023e-05, -1.79585782e-04, -9.44279236e-06,\n",
       "        -1.83569719e-05, -7.00573073e-05,  1.11697609e-05,  1.16614203e-04,\n",
       "         4.38302341e-05,  3.34663528e-05,  7.70575643e-05,  3.45739500e-06,\n",
       "         2.91771539e-06,  8.48754571e-05, -6.02167856e-05, -2.81916618e-06,\n",
       "        -1.44289988e-05, -9.64534229e-06,  3.16825208e-06, -5.36569642e-05,\n",
       "        -6.73753239e-05, -2.99783787e-05, -1.68850675e-05, -5.00392853e-05,\n",
       "        -4.92189338e-06, -4.46330196e-05, -7.00578385e-05, -2.13540761e-06,\n",
       "         7.35405411e-06, -1.50406544e-04, -3.84723244e-05, -5.61354682e-06,\n",
       "         1.83551256e-05,  1.20367098e-04,  7.73117281e-05, -4.10391658e-06,\n",
       "        -3.65691449e-05,  1.19636352e-05,  4.04331513e-05, -1.21588182e-05,\n",
       "        -1.08157765e-04, -2.91126489e-05,  2.39004585e-05, -6.64800609e-06,\n",
       "        -1.10371257e-04, -7.15387660e-06, -3.16296209e-05, -8.92620810e-05,\n",
       "        -1.19611723e-05,  9.05287015e-05, -5.32273116e-05,  3.78256445e-05,\n",
       "         1.84447890e-05, -3.42705243e-05,  2.72263915e-05, -5.37289779e-05,\n",
       "        -7.10594759e-05, -2.61881396e-05, -2.57817883e-05, -1.16938398e-04,\n",
       "        -1.58513540e-05, -3.82303369e-06,  2.87002276e-05,  2.80998029e-05,\n",
       "         4.31014996e-05,  2.54216793e-05, -2.82171313e-05, -7.98787005e-05,\n",
       "         1.06009102e-05, -1.96366782e-05, -1.83025462e-04,  3.39229518e-05,\n",
       "        -1.92124153e-05, -2.78301013e-05, -2.95669724e-05, -5.94075755e-05,\n",
       "         1.18921635e-05,  2.22300332e-06,  8.67700328e-06, -2.47393400e-05,\n",
       "        -1.84108048e-05, -4.64237528e-05, -3.76600292e-05, -4.68229264e-05,\n",
       "         9.11645402e-05,  9.13050899e-05, -3.85553394e-05,  1.18858106e-05,\n",
       "         2.25208933e-05,  4.51058841e-05, -2.23495426e-05,  2.06355071e-06,\n",
       "        -3.99456112e-05, -3.10911958e-07, -1.70657222e-05, -2.82386827e-06,\n",
       "         4.18574346e-05, -1.71305364e-05, -1.76293615e-05, -6.53038587e-05,\n",
       "         4.89785234e-05,  4.86528916e-06, -5.60526751e-05, -1.09321900e-06,\n",
       "        -1.31116230e-05,  3.89192292e-06,  8.25390016e-05, -2.60764209e-05,\n",
       "         3.78744699e-06, -4.07942662e-06,  4.02232399e-06, -2.47063372e-06,\n",
       "         3.59677142e-06,  3.72151662e-05, -8.45776594e-06, -2.06670102e-05,\n",
       "         9.64043102e-06, -4.19553617e-05, -8.43188536e-05,  3.74218434e-05,\n",
       "        -3.97468102e-05,  1.29792272e-04,  4.45835612e-05,  4.56190028e-05,\n",
       "         3.01568871e-05,  2.33356732e-05, -2.85431324e-05, -1.89043822e-05,\n",
       "         1.48386639e-02, -2.07785871e-02,  6.54273778e-02, -6.39806166e-02,\n",
       "         4.12607118e-02, -2.27782261e-02, -2.77466103e-02,  4.96625192e-02,\n",
       "        -3.25024128e-02,  2.33986899e-02,  3.65708694e-02, -1.65511034e-02,\n",
       "        -1.28907301e-02,  2.68950891e-02,  2.60105580e-02, -2.24192869e-02,\n",
       "        -1.98223591e-02,  5.06970957e-02,  7.98723567e-03,  2.53274851e-02,\n",
       "         3.55517194e-02,  2.15091314e-02,  1.88744590e-02, -7.27860332e-02,\n",
       "        -2.86303926e-02, -2.26433668e-03, -9.18044802e-03,  2.29095928e-02,\n",
       "         5.35226101e-03,  4.55804691e-02,  1.14471279e-02,  2.37488598e-02,\n",
       "        -3.02183023e-03,  6.82291985e-02, -5.36316261e-02,  1.43636484e-02,\n",
       "         1.65523519e-03, -9.66653414e-03, -7.55249895e-03, -5.08530587e-02,\n",
       "         5.07170707e-02,  1.40742268e-02,  1.47756832e-02, -6.70786109e-03,\n",
       "         1.68751478e-02,  7.75217591e-03,  4.76746075e-02, -2.30815783e-02,\n",
       "        -1.54462224e-02,  4.99328896e-02, -3.14985849e-02, -7.61124026e-03,\n",
       "        -2.97856033e-02,  4.49187234e-02,  3.76608595e-02,  5.32156043e-03,\n",
       "         3.83623987e-02, -5.04495129e-02, -3.84993246e-03, -3.86128277e-02,\n",
       "        -2.38694903e-02,  2.82848198e-02,  1.33078182e-02, -1.93264559e-02,\n",
       "        -1.65048242e-02,  5.68028130e-02,  3.47444378e-02,  2.12884955e-02,\n",
       "        -1.04765519e-02, -2.43984945e-02, -5.54109737e-02, -3.28071020e-03,\n",
       "        -2.14057583e-02,  2.41958499e-02, -3.96289583e-03,  2.80706733e-02,\n",
       "        -4.52603027e-02,  1.70034543e-03, -1.53062074e-03,  4.36651148e-02,\n",
       "         3.85477091e-03,  6.72385842e-02,  7.38754356e-03,  3.12605612e-02,\n",
       "        -3.09614465e-02, -4.22641374e-02, -1.47533659e-02, -1.03109181e-02,\n",
       "        -5.56305051e-02, -3.11926305e-02,  3.50673981e-02, -8.90767388e-03,\n",
       "        -3.24643180e-02,  3.31652611e-02, -1.62768997e-02,  2.53328905e-02,\n",
       "        -1.83907188e-02,  1.58089381e-02, -1.11592738e-02,  1.53343482e-02,\n",
       "        -1.60444956e-02,  5.38202841e-03, -5.34471031e-03, -7.04911910e-03,\n",
       "         2.07224628e-03,  1.16755078e-02, -4.67095152e-02,  6.79067709e-03,\n",
       "        -5.56711592e-02,  1.53165990e-02,  3.25017571e-02, -1.42391883e-02,\n",
       "         5.37937805e-02,  5.99592272e-03, -1.04833646e-02,  2.42946073e-02,\n",
       "         1.73647446e-03, -2.54586041e-02, -2.91611254e-02,  1.26734842e-02,\n",
       "         1.56116905e-02,  2.28195377e-02,  3.32863722e-03,  2.43177153e-02,\n",
       "        -1.38728777e-02, -4.91462350e-02,  2.50635352e-02,  1.65580418e-02,\n",
       "         3.97684780e-05, -3.27743219e-05, -1.33458176e-04,  5.37017513e-07,\n",
       "        -1.19888091e-05, -5.77720093e-05,  1.04594073e-05,  8.88207651e-05,\n",
       "         2.97011156e-05,  2.42261631e-05,  6.62207167e-05, -1.27546664e-05,\n",
       "        -1.93456726e-05,  5.00672759e-05, -3.02790395e-05,  9.68488712e-06,\n",
       "         1.12258731e-05, -2.15010878e-05,  1.05499330e-05, -6.86612766e-05,\n",
       "        -4.21910408e-05, -2.13195290e-05, -2.67782907e-05, -5.49459910e-05,\n",
       "        -1.23203881e-05, -5.39040993e-05, -8.63064852e-05,  3.24699431e-05,\n",
       "         1.22147903e-05, -1.14996627e-04, -3.45521548e-05,  1.60289164e-06,\n",
       "         3.33976059e-05,  7.60733237e-05,  7.06234787e-05, -1.38124306e-05,\n",
       "         3.69369127e-06, -1.26354171e-05,  4.09447457e-05,  6.35174729e-06,\n",
       "        -1.12893147e-04, -4.22652702e-05,  8.68352072e-06,  1.29961827e-05,\n",
       "        -8.24098533e-05, -1.38325449e-05, -3.15634788e-05, -6.45517212e-05,\n",
       "        -1.76877365e-05,  7.07647050e-05, -2.75987823e-05,  2.57026513e-05,\n",
       "         2.38495832e-05, -3.95802490e-05,  2.86087179e-05, -6.12532967e-05,\n",
       "        -5.70507327e-05, -2.59013468e-05, -2.79941160e-05, -8.98367362e-05,\n",
       "        -7.39677034e-06, -4.96132670e-05,  1.37554562e-05,  1.66250011e-05,\n",
       "         9.77326636e-07,  3.27967282e-05, -4.89711238e-06, -7.73848442e-05,\n",
       "         1.50057031e-05, -2.06321529e-05, -1.48323015e-04,  1.86307589e-05,\n",
       "        -1.20795585e-05,  2.09796508e-06, -2.58336286e-06, -5.92878205e-05,\n",
       "        -3.48638787e-06,  5.31824389e-06,  1.22503852e-05, -1.47995761e-05,\n",
       "        -1.72071723e-05, -3.45776571e-05, -1.94298573e-05, -4.78260263e-05,\n",
       "         7.30933025e-05,  6.21990039e-05, -2.49443092e-05,  2.42631722e-06,\n",
       "         3.57377066e-05,  3.05951253e-05, -2.14856955e-05, -1.95202983e-06,\n",
       "        -4.03282611e-05,  1.26485475e-05,  3.43111151e-06, -1.19496945e-05,\n",
       "         5.37778578e-06, -1.48399286e-05,  6.17006754e-06, -5.61678025e-05,\n",
       "         1.54131849e-05,  8.19713296e-06, -5.45569892e-05, -2.92360619e-06,\n",
       "        -1.24227608e-05,  3.04284422e-05,  5.32457925e-05,  9.86770920e-06,\n",
       "        -4.93133666e-06,  6.42187752e-06, -7.66921403e-07,  1.75075420e-05,\n",
       "         1.35594946e-05,  2.21250120e-05,  1.55557937e-05,  4.22361700e-06,\n",
       "         1.20880577e-05, -3.57018034e-05, -8.42443114e-05,  3.18257808e-05,\n",
       "        -1.94677777e-05,  1.06670348e-04,  5.47652307e-05,  3.04737187e-05,\n",
       "         2.21978153e-05,  1.57561390e-05, -2.38111352e-05, -2.44503044e-05],\n",
       "       dtype=float32)>,\n",
       " <tf.Tensor: shape=(128, 10000), dtype=float32, numpy=\n",
       " array([[-2.0269351e-03, -2.6590028e-03, -2.2863611e-03, ...,\n",
       "          3.7547420e-06,  3.7513325e-06,  3.7537257e-06],\n",
       "        [ 5.1723595e-04, -3.2046903e-04, -2.5225844e-04, ...,\n",
       "         -3.3760307e-07, -3.3768407e-07, -3.3834101e-07],\n",
       "        [ 2.7704239e-03,  4.1448227e-03,  3.3540120e-03, ...,\n",
       "         -6.8992167e-06, -6.8943164e-06, -6.8960635e-06],\n",
       "        ...,\n",
       "        [ 2.2487651e-04, -8.8848989e-05,  5.1399204e-04, ...,\n",
       "         -7.6441563e-07, -7.6512526e-07, -7.6401193e-07],\n",
       "        [ 1.1193592e-03,  1.0445963e-03,  6.4005889e-04, ...,\n",
       "         -2.1911392e-06, -2.1860906e-06, -2.1903431e-06],\n",
       "        [ 4.1595206e-04,  1.7262290e-03,  1.6610764e-03, ...,\n",
       "         -2.7633273e-06, -2.7602391e-06, -2.7619456e-06]], dtype=float32)>,\n",
       " <tf.Tensor: shape=(10000,), dtype=float32, numpy=\n",
       " array([-0.7979978 , -1.0313315 , -1.0313314 , ...,  0.00200018,\n",
       "         0.00199847,  0.0019995 ], dtype=float32)>]"
      ]
     },
     "execution_count": 48,
     "metadata": {},
     "output_type": "execute_result"
    }
   ],
   "source": [
    "# Define the gradient clipping threshold\n",
    "grads, _ = tf.clip_by_global_norm(grad_t_list, max_grad_norm)\n",
    "grads"
   ]
  },
  {
   "cell_type": "markdown",
   "metadata": {},
   "source": [
    "<h4> 4.Apply the optimizer to the variables/gradients tuple. </h4>\n"
   ]
  },
  {
   "cell_type": "code",
   "execution_count": 49,
   "metadata": {},
   "outputs": [],
   "source": [
    "# Create the training TensorFlow Operation through our optimizer\n",
    "train_op = optimizer.apply_gradients(zip(grads, tvars))"
   ]
  },
  {
   "cell_type": "markdown",
   "metadata": {},
   "source": [
    "<a id=\"ltsm\"></a>\n",
    "\n",
    "<h2>LSTM</h2>\n"
   ]
  },
  {
   "cell_type": "markdown",
   "metadata": {
    "button": false,
    "deletable": true,
    "new_sheet": false,
    "run_control": {
     "read_only": false
    }
   },
   "source": [
    "We learned how the model is build step by step. Noe, let's then create a Class that represents our model. This class needs a few things:\n",
    "\n",
    "<ul>\n",
    "    <li>We have to create the model in accordance with our defined hyperparameters</li>\n",
    "    <li>We have to create the LSTM cell structure and connect them with our RNN structure</li>\n",
    "    <li>We have to create the word embeddings and point them to the input data</li>\n",
    "    <li>We have to create the input structure for our RNN</li>\n",
    "    <li>We need to create a logistic structure to return the probability of our words</li>\n",
    "    <li>We need to create the loss and cost functions for our optimizer to work, and then create the optimizer</li>\n",
    "    <li>And finally, we need to create a training operation that can be run to actually train our model</li>\n",
    "</ul>\n"
   ]
  },
  {
   "cell_type": "code",
   "execution_count": 50,
   "metadata": {
    "button": false,
    "deletable": true,
    "new_sheet": false,
    "run_control": {
     "read_only": false
    },
    "tags": []
   },
   "outputs": [],
   "source": [
    "class PTBModel(object):\n",
    "\n",
    "\n",
    "    def __init__(self):\n",
    "        ######################################\n",
    "        # Setting parameters for ease of use #\n",
    "        ######################################\n",
    "        self.batch_size = batch_size\n",
    "        self.num_steps = num_steps\n",
    "        self.hidden_size_l1 = hidden_size_l1\n",
    "        self.hidden_size_l2 = hidden_size_l2\n",
    "        self.vocab_size = vocab_size\n",
    "        self.embeding_vector_size = embeding_vector_size\n",
    "        # Create a variable for the learning rate\n",
    "        self._lr = 1.0\n",
    "        \n",
    "        ###############################################################################\n",
    "        # Initializing the model using keras Sequential API  #\n",
    "        ###############################################################################\n",
    "        \n",
    "        self._model = tf.keras.models.Sequential()\n",
    "        \n",
    "        ####################################################################\n",
    "        # Creating the word embeddings layer and adding it to the sequence #\n",
    "        ####################################################################\n",
    "        with tf.device(\"/cpu:0\"):\n",
    "            # Create the embeddings for our input data. Size is hidden size.\n",
    "            self._embedding_layer = tf.keras.layers.Embedding(self.vocab_size, self.embeding_vector_size,batch_input_shape=(self.batch_size, self.num_steps),trainable=True,name=\"embedding_vocab\")  #[10000x200]\n",
    "            self._model.add(self._embedding_layer)\n",
    "            \n",
    "\n",
    "        ##########################################################################\n",
    "        # Creating the LSTM cell structure and connect it with the RNN structure #\n",
    "        ##########################################################################\n",
    "        # Create the LSTM Cells. \n",
    "        # This creates only the structure for the LSTM and has to be associated with a RNN unit still.\n",
    "        # The argument  of LSTMCell is size of hidden layer, that is, the number of hidden units of the LSTM (inside A). \n",
    "        # LSTM cell processes one word at a time and computes probabilities of the possible continuations of the sentence.\n",
    "        lstm_cell_l1 = tf.keras.layers.LSTMCell(hidden_size_l1)\n",
    "        lstm_cell_l2 = tf.keras.layers.LSTMCell(hidden_size_l2)\n",
    "        \n",
    "\n",
    "        \n",
    "        # By taking in the LSTM cells as parameters, the StackedRNNCells function junctions the LSTM units to the RNN units.\n",
    "        # RNN cell composed sequentially of stacked simple cells.\n",
    "        stacked_lstm = tf.keras.layers.StackedRNNCells([lstm_cell_l1, lstm_cell_l2])\n",
    "\n",
    "\n",
    "        \n",
    "\n",
    "        ############################################\n",
    "        # Creating the input structure for our RNN #\n",
    "        ############################################\n",
    "        # Input structure is 20x[30x200]\n",
    "        # Considering each word is represended by a 200 dimentional vector, and we have 30 batchs, we create 30 word-vectors of size [30xx2000]\n",
    "        # The input structure is fed from the embeddings, which are filled in by the input data\n",
    "        # Feeding a batch of b sentences to a RNN:\n",
    "        # In step 1,  first word of each of the b sentences (in a batch) is input in parallel.  \n",
    "        # In step 2,  second word of each of the b sentences is input in parallel. \n",
    "        # The parallelism is only for efficiency.  \n",
    "        # Each sentence in a batch is handled in parallel, but the network sees one word of a sentence at a time and does the computations accordingly. \n",
    "        # All the computations involving the words of all sentences in a batch at a given time step are done in parallel. \n",
    "\n",
    "        ########################################################################################################\n",
    "        # Instantiating our RNN model and setting stateful to True to feed forward the state to the next layer #\n",
    "        ########################################################################################################\n",
    "        \n",
    "        self._RNNlayer  =  tf.keras.layers.RNN(stacked_lstm,[batch_size, num_steps],return_state=False,stateful=True,trainable=True)\n",
    "        \n",
    "        # Define the initial state, i.e., the model state for the very first data point\n",
    "        # It initialize the state of the LSTM memory. The memory state of the network is initialized with a vector of zeros and gets updated after reading each word.\n",
    "        self._initial_state = tf.Variable(tf.zeros([batch_size,embeding_vector_size]),trainable=False)\n",
    "        self._RNNlayer.inital_state = self._initial_state\n",
    "    \n",
    "        ############################################\n",
    "        # Adding RNN layer to keras sequential API #\n",
    "        ############################################        \n",
    "        self._model.add(self._RNNlayer)\n",
    "        \n",
    "        #self._model.add(tf.keras.layers.LSTM(hidden_size_l1,return_sequences=True,stateful=True))\n",
    "        #self._model.add(tf.keras.layers.LSTM(hidden_size_l2,return_sequences=True))\n",
    "        \n",
    "        \n",
    "        ####################################################################################################\n",
    "        # Instantiating a Dense layer that connects the output to the vocab_size  and adding layer to model#\n",
    "        ####################################################################################################\n",
    "        self._dense = tf.keras.layers.Dense(self.vocab_size)\n",
    "        self._model.add(self._dense)\n",
    " \n",
    "        \n",
    "        ####################################################################################################\n",
    "        # Adding softmax activation layer and deriving probability to each class and adding layer to model #\n",
    "        ####################################################################################################\n",
    "        self._activation = tf.keras.layers.Activation('softmax')\n",
    "        self._model.add(self._activation)\n",
    "\n",
    "        ##########################################################\n",
    "        # Instantiating the stochastic gradient decent optimizer #\n",
    "        ########################################################## \n",
    "        self._optimizer = tf.keras.optimizers.SGD(lr=self._lr, clipnorm=max_grad_norm)\n",
    "        \n",
    "        \n",
    "        ##############################################################################\n",
    "        # Compiling and summarizing the model stacked using the keras sequential API #\n",
    "        ##############################################################################\n",
    "        self._model.compile(loss=self.crossentropy, optimizer=self._optimizer)\n",
    "        self._model.summary()\n",
    "\n",
    "\n",
    "    def crossentropy(self,y_true, y_pred):\n",
    "        return tf.keras.losses.sparse_categorical_crossentropy(y_true, y_pred)\n",
    "\n",
    "    def train_batch(self,_input_data,_targets):\n",
    "        #################################################\n",
    "        # Creating the Training Operation for our Model #\n",
    "        #################################################\n",
    "        # Create a variable for the learning rate\n",
    "        self._lr = tf.Variable(0.0, trainable=False)\n",
    "        # Get all TensorFlow variables marked as \"trainable\" (i.e. all of them except _lr, which we just created)\n",
    "        tvars = self._model.trainable_variables\n",
    "        # Define the gradient clipping threshold\n",
    "        with tf.GradientTape() as tape:\n",
    "            # Forward pass.\n",
    "            output_words_prob = self._model(_input_data)\n",
    "            # Loss value for this batch.\n",
    "            loss  = self.crossentropy(_targets, output_words_prob)\n",
    "            # average across batch and reduce sum\n",
    "            cost = tf.reduce_sum(loss/ self.batch_size)\n",
    "        # Get gradients of loss wrt the trainable variables.\n",
    "        grad_t_list = tape.gradient(cost, tvars)\n",
    "        # Define the gradient clipping threshold\n",
    "        grads, _ = tf.clip_by_global_norm(grad_t_list, max_grad_norm)\n",
    "        # Create the training TensorFlow Operation through our optimizer\n",
    "        train_op = self._optimizer.apply_gradients(zip(grads, tvars))\n",
    "        return cost\n",
    "        \n",
    "    def test_batch(self,_input_data,_targets):\n",
    "        #################################################\n",
    "        # Creating the Testing Operation for our Model #\n",
    "        #################################################\n",
    "        output_words_prob = self._model(_input_data)\n",
    "        loss  = self.crossentropy(_targets, output_words_prob)\n",
    "        # average across batch and reduce sum\n",
    "        cost = tf.reduce_sum(loss/ self.batch_size)\n",
    "\n",
    "        return cost\n",
    "    @classmethod\n",
    "    def instance(cls) : \n",
    "        return PTBModel()"
   ]
  },
  {
   "cell_type": "markdown",
   "metadata": {
    "button": false,
    "deletable": true,
    "new_sheet": false,
    "run_control": {
     "read_only": false
    }
   },
   "source": [
    "With that, the actual structure of our Recurrent Neural Network with Long Short-Term Memory is finished. What remains for us to do is to actually create the methods to run through time -- that is, the <code>run_epoch</code> method to be run at each epoch and a <code>main</code> script which ties all of this together.\n",
    "\n",
    "What our <code>run_epoch</code> method should do is take our input data and feed it to the relevant operations. This will return at the very least the current result for the cost function.\n"
   ]
  },
  {
   "cell_type": "code",
   "execution_count": 51,
   "metadata": {
    "button": false,
    "deletable": true,
    "new_sheet": false,
    "run_control": {
     "read_only": false
    }
   },
   "outputs": [],
   "source": [
    "\n",
    "########################################################################################################################\n",
    "# run_one_epoch takes as parameters  the model instance, the data to be fed, training or testing mode and verbose info #\n",
    "########################################################################################################################\n",
    "def run_one_epoch(m, data,is_training=True,verbose=False):\n",
    "\n",
    "    #Define the epoch size based on the length of the data, batch size and the number of steps\n",
    "    epoch_size = ((len(data) // m.batch_size) - 1) // m.num_steps\n",
    "    start_time = time.time()\n",
    "    costs = 0.\n",
    "    iters = 0\n",
    "    \n",
    "    m._model.reset_states()\n",
    "    \n",
    "    #For each step and data point\n",
    "    for step, (x, y) in enumerate(reader.ptb_iterator(data, m.batch_size, m.num_steps)):\n",
    "        \n",
    "        #Evaluate and return cost, state by running cost, final_state and the function passed as parameter\n",
    "        #y = tf.keras.utils.to_categorical(y, num_classes=vocab_size)\n",
    "        if is_training : \n",
    "            loss=  m.train_batch(x, y)\n",
    "        else :\n",
    "            loss = m.test_batch(x, y)\n",
    "                                   \n",
    "\n",
    "        #Add returned cost to costs (which keeps track of the total costs for this epoch)\n",
    "        costs += loss\n",
    "        \n",
    "        #Add number of steps to iteration counter\n",
    "        iters += m.num_steps\n",
    "\n",
    "        if verbose and step % (epoch_size // 10) == 10:\n",
    "            print(\"Itr %d of %d, perplexity: %.3f speed: %.0f wps\" % (step , epoch_size, np.exp(costs / iters), iters * m.batch_size / (time.time() - start_time)))\n",
    "        \n",
    "\n",
    "\n",
    "    # Returns the Perplexity rating for us to keep track of how the model is evolving\n",
    "    return np.exp(costs / iters)\n"
   ]
  },
  {
   "cell_type": "markdown",
   "metadata": {
    "button": false,
    "deletable": true,
    "new_sheet": false,
    "run_control": {
     "read_only": false
    }
   },
   "source": [
    "Now, we create the <code>main</code> method to tie everything together. The code here reads the data from the directory, using the <code>reader</code> helper module, and then trains and evaluates the model on both a testing and a validating subset of data.\n"
   ]
  },
  {
   "cell_type": "code",
   "execution_count": 52,
   "metadata": {
    "button": false,
    "deletable": true,
    "new_sheet": false,
    "run_control": {
     "read_only": false
    },
    "tags": []
   },
   "outputs": [],
   "source": [
    "# Reads the data and separates it into training data, validation data and testing data\n",
    "raw_data = reader.ptb_raw_data(data_dir)\n",
    "train_data, valid_data, test_data, _, _ = raw_data"
   ]
  },
  {
   "cell_type": "code",
   "execution_count": null,
   "metadata": {
    "tags": []
   },
   "outputs": [
    {
     "name": "stdout",
     "output_type": "stream",
     "text": [
      "Model: \"sequential_1\"\n",
      "_________________________________________________________________\n",
      "Layer (type)                 Output Shape              Param #   \n",
      "=================================================================\n",
      "embedding_vocab (Embedding)  (30, 20, 200)             2000000   \n",
      "_________________________________________________________________\n",
      "rnn_1 (RNN)                  (30, 20, 128)             671088    \n",
      "_________________________________________________________________\n",
      "dense_1 (Dense)              (30, 20, 10000)           1290000   \n",
      "_________________________________________________________________\n",
      "activation_1 (Activation)    (30, 20, 10000)           0         \n",
      "=================================================================\n",
      "Total params: 3,961,088\n",
      "Trainable params: 3,955,088\n",
      "Non-trainable params: 6,000\n",
      "_________________________________________________________________\n",
      "Epoch 1 : Learning rate: 1.000\n"
     ]
    }
   ],
   "source": [
    "# Instantiates the PTBModel class\n",
    "m=PTBModel.instance()   \n",
    "K = tf.keras.backend \n",
    "for i in range(max_epoch):\n",
    "    # Define the decay for this epoch\n",
    "    lr_decay = decay ** max(i - max_epoch_decay_lr, 0.0)\n",
    "    dcr = learning_rate * lr_decay\n",
    "    m._lr = dcr\n",
    "    K.set_value(m._model.optimizer.learning_rate,m._lr)\n",
    "    print(\"Epoch %d : Learning rate: %.3f\" % (i + 1, m._model.optimizer.learning_rate))\n",
    "    # Run the loop for this epoch in the training mode\n",
    "    train_perplexity = run_one_epoch(m, train_data,is_training=True,verbose=True)\n",
    "    print(\"Epoch %d : Train Perplexity: %.3f\" % (i + 1, train_perplexity))\n",
    "        \n",
    "    # Run the loop for this epoch in the validation mode\n",
    "    valid_perplexity = run_one_epoch(m, valid_data,is_training=False,verbose=False)\n",
    "    print(\"Epoch %d : Valid Perplexity: %.3f\" % (i + 1, valid_perplexity))\n",
    "    \n",
    "# Run the loop in the testing mode to see how effective was our training\n",
    "test_perplexity = run_one_epoch(m, test_data,is_training=False,verbose=False)\n",
    "print(\"Test Perplexity: %.3f\" % test_perplexity)\n",
    "\n"
   ]
  },
  {
   "cell_type": "markdown",
   "metadata": {
    "button": false,
    "deletable": true,
    "new_sheet": false,
    "run_control": {
     "read_only": false
    }
   },
   "source": [
    "As you can see, the model's perplexity rating drops very quickly after a few iterations. As was elaborated before, <b>lower Perplexity means that the model is more certain about its prediction</b>. As such, we can be sure that this model is performing well!\n"
   ]
  },
  {
   "cell_type": "markdown",
   "metadata": {
    "button": false,
    "deletable": true,
    "new_sheet": false,
    "run_control": {
     "read_only": false
    }
   },
   "source": [
    "* * *\n"
   ]
  },
  {
   "cell_type": "markdown",
   "metadata": {
    "button": false,
    "deletable": true,
    "new_sheet": false,
    "run_control": {
     "read_only": false
    }
   },
   "source": [
    "This is the end of the <b>Applying Recurrent Neural Networks to Text Processing</b> notebook. Hopefully you now have a better understanding of Recurrent Neural Networks and how to implement one utilizing TensorFlow. Thank you for reading this notebook, and good luck on your studies.\n"
   ]
  },
  {
   "cell_type": "markdown",
   "metadata": {
    "button": false,
    "deletable": true,
    "new_sheet": false,
    "run_control": {
     "read_only": false
    }
   },
   "source": [
    "## Want to learn more?\n",
    "\n",
    "Running deep learning programs usually needs a high performance platform. **PowerAI** speeds up deep learning and AI. Built on IBM’s Power Systems, **PowerAI** is a scalable software platform that accelerates deep learning and AI with blazing performance for individual users or enterprises. The **PowerAI** platform supports popular machine learning libraries and dependencies including TensorFlow, Caffe, Torch, and Theano. You can use [PowerAI on IMB Cloud](https://cocl.us/ML0120EN_PAI).\n",
    "\n",
    "Also, you can use **Watson Studio** to run these notebooks faster with bigger datasets.**Watson Studio** is IBM’s leading cloud solution for data scientists, built by data scientists. With Jupyter notebooks, RStudio, Apache Spark and popular libraries pre-packaged in the cloud, **Watson Studio** enables data scientists to collaborate on their projects without having to install anything. Join the fast-growing community of **Watson Studio** users today with a free account at [Watson Studio](https://cocl.us/ML0120EN_DSX).This is the end of this lesson. Thank you for reading this notebook, and good luck on your studies.\n"
   ]
  },
  {
   "cell_type": "markdown",
   "metadata": {
    "button": false,
    "deletable": true,
    "new_sheet": false,
    "run_control": {
     "read_only": false
    }
   },
   "source": [
    "### Thanks for completing this lesson!\n",
    "\n",
    "Notebook created by <a href=\"https://br.linkedin.com/in/walter-gomes-de-amorim-junior-624726121\">Walter Gomes de Amorim Junior</a>, <a href = \"https://linkedin.com/in/saeedaghabozorgi\"> Saeed Aghabozorgi </a></h4>\n",
    "\n",
    "Updated to TF 2.X by  <a href=\"https://www.linkedin.com/in/samaya-madhavan\"> Samaya Madhavan </a>\n"
   ]
  },
  {
   "cell_type": "markdown",
   "metadata": {
    "button": false,
    "deletable": true,
    "new_sheet": false,
    "run_control": {
     "read_only": false
    }
   },
   "source": [
    "<hr>\n",
    "\n",
    "Copyright © 2018 [Cognitive Class](https://cocl.us/DX0108EN_CC). This notebook and its source code are released under the terms of the [MIT License](https://bigdatauniversity.com/mit-license?cm_mmc=Email_Newsletter-_-Developer_Ed%2BTech-_-WW_WW-_-SkillsNetwork-Courses-IBMDeveloperSkillsNetwork-DL0120EN-SkillsNetwork-20629446&cm_mmca1=000026UJ&cm_mmca2=10006555&cm_mmca3=M12345678&cvosrc=email.Newsletter.M12345678&cvo_campaign=000026UJ&cm_mmc=Email_Newsletter-_-Developer_Ed%2BTech-_-WW_WW-_-SkillsNetwork-Courses-IBMDeveloperSkillsNetwork-DL0120EN-SkillsNetwork-20629446&cm_mmca1=000026UJ&cm_mmca2=10006555&cm_mmca3=M12345678&cvosrc=email.Newsletter.M12345678&cvo_campaign=000026UJ).\n"
   ]
  }
 ],
 "metadata": {
  "anaconda-cloud": {},
  "kernelspec": {
   "display_name": "Python",
   "language": "python",
   "name": "conda-env-python-py"
  },
  "language_info": {
   "codemirror_mode": {
    "name": "ipython",
    "version": 3
   },
   "file_extension": ".py",
   "mimetype": "text/x-python",
   "name": "python",
   "nbconvert_exporter": "python",
   "pygments_lexer": "ipython3",
   "version": "3.6.11"
  },
  "widgets": {
   "state": {},
   "version": "1.1.2"
  }
 },
 "nbformat": 4,
 "nbformat_minor": 4
}
