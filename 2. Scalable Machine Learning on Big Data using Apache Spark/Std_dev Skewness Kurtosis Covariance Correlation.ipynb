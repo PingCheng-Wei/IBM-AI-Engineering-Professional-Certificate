{
 "cells": [
  {
   "cell_type": "code",
   "execution_count": 12,
   "metadata": {},
   "outputs": [],
   "source": [
    "import math"
   ]
  },
  {
   "cell_type": "code",
   "execution_count": 47,
   "metadata": {},
   "outputs": [],
   "source": [
    "def calculate(list):\n",
    "    n = len(list)\n",
    "    list_sum = sum(list)\n",
    "    mean = list_sum / n\n",
    "    \n",
    "    # standard deviation\n",
    "    dev_sum = 0\n",
    "    for i in list:\n",
    "        mean_sq = (i - mean)**2\n",
    "        dev_sum += mean_sq\n",
    "    std_dev = math.sqrt(dev_sum / n)\n",
    "    \n",
    "    # Kurtosis\n",
    "    kur_sum = 0\n",
    "    for i in list:\n",
    "        kur_sum += (i - mean)**4\n",
    "    kur = (kur_sum / (std_dev**4)) / n\n",
    "    \n",
    "    return kur"
   ]
  },
  {
   "cell_type": "code",
   "execution_count": 48,
   "metadata": {},
   "outputs": [
    {
     "data": {
      "text/plain": [
       "3.663124005193275"
      ]
     },
     "execution_count": 48,
     "metadata": {},
     "output_type": "execute_result"
    }
   ],
   "source": [
    "calculate([34,1,23,4,3,3,12,4,3,1])"
   ]
  },
  {
   "cell_type": "code",
   "execution_count": 45,
   "metadata": {},
   "outputs": [],
   "source": [
    "# covariance\n",
    "def covariance(x, y):\n",
    "    len_x = len(x)\n",
    "    len_y = len(y)\n",
    "    sum_x = sum(x)\n",
    "    sum_y = sum(y)\n",
    "    mean_x = sum_x / len_x\n",
    "    mean_y = sum_y / len_y\n",
    "    \n",
    "    cov_sum = 0\n",
    "    for i in range(len(x)):\n",
    "        cov_sum += (x[i]-mean_x)*(y[i]-mean_y)\n",
    "    cov = cov_sum / len_x\n",
    "    \n",
    "    # stand deviation\n",
    "    dev_sum_x = 0\n",
    "    for i in x:\n",
    "        mean_sq = (i - mean_x)**2\n",
    "        dev_sum_x += mean_sq\n",
    "    std_dev_x = math.sqrt(dev_sum_x / len_x)\n",
    "    \n",
    "    dev_sum_y = 0\n",
    "    for i in y:\n",
    "        mean_sq = (i - mean_y)**2\n",
    "        dev_sum_y += mean_sq\n",
    "    std_dev_y = math.sqrt(dev_sum_y / len_y)\n",
    "    \n",
    "    \n",
    "    return  cov, cov / (std_dev_x * std_dev_y)"
   ]
  },
  {
   "cell_type": "code",
   "execution_count": 46,
   "metadata": {},
   "outputs": [
    {
     "data": {
      "text/plain": [
       "(3.65, 0.7092729120837249)"
      ]
     },
     "execution_count": 46,
     "metadata": {},
     "output_type": "execute_result"
    }
   ],
   "source": [
    "covariance([1,2,3,4,5,6,7,8,9,10],[7,6,5,4,5,6,7,8,9,10])"
   ]
  },
  {
   "cell_type": "code",
   "execution_count": null,
   "metadata": {},
   "outputs": [],
   "source": []
  }
 ],
 "metadata": {
  "kernelspec": {
   "display_name": "Python 3.7 (tensorflow)",
   "language": "python",
   "name": "tensorflow"
  },
  "language_info": {
   "codemirror_mode": {
    "name": "ipython",
    "version": 3
   },
   "file_extension": ".py",
   "mimetype": "text/x-python",
   "name": "python",
   "nbconvert_exporter": "python",
   "pygments_lexer": "ipython3",
   "version": "3.7.9"
  }
 },
 "nbformat": 4,
 "nbformat_minor": 4
}
