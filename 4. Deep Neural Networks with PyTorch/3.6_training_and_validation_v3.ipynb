{
 "cells": [
  {
   "cell_type": "markdown",
   "metadata": {},
   "source": [
    "<a href=\"http://cocl.us/pytorch_link_top\">\n",
    "    <img src=\"https://s3-api.us-geo.objectstorage.softlayer.net/cf-courses-data/CognitiveClass/DL0110EN/notebook_images%20/Pytochtop.png\" width=\"750\" alt=\"IBM Product \" />\n",
    "</a> \n"
   ]
  },
  {
   "cell_type": "markdown",
   "metadata": {},
   "source": [
    "<img src=\"https://s3-api.us-geo.objectstorage.softlayer.net/cf-courses-data/CognitiveClass/DL0110EN/notebook_images%20/cc-logo-square.png\" width=\"200\" alt=\"cognitiveclass.ai logo\" />\n"
   ]
  },
  {
   "cell_type": "markdown",
   "metadata": {},
   "source": [
    "<h1>Linear regression: Training and Validation Data</h1> \n"
   ]
  },
  {
   "cell_type": "markdown",
   "metadata": {},
   "source": [
    "<h2>Objective</h2><ul><li> How to use learning rate hyperparameter to improve your model result.  .</li></ul> \n"
   ]
  },
  {
   "cell_type": "markdown",
   "metadata": {},
   "source": [
    "<h2>Table of Contents</h2>\n",
    "<p>In this lab, you will learn to select the best learning rate by using validation data.</p>\n",
    "\n",
    "<ul>\n",
    "    <li><a href=\"#Makeup_Data\">Make Some Data</a></li>\n",
    "    <li><a href=\"#LR_Loader_Cost\">Create a Linear Regression Object, Data Loader and Criterion Function</a></li>\n",
    "    <li><a href=\"#LR_Hyper\">Different learning rates and Data Structures to Store results for Different Hyperparameters</a></li>\n",
    "    <li><a href=\"#Model\">Train different modules for different Hyperparameters</a></li>\n",
    "    <li><a href=\"#Result\">View Results</a></li>\n",
    "</ul>\n",
    "\n",
    "<p>Estimated Time Needed: <strong>30 min</strong></p>\n",
    "\n",
    "<hr>\n"
   ]
  },
  {
   "cell_type": "markdown",
   "metadata": {},
   "source": [
    "<h2>Preparation</h2>\n"
   ]
  },
  {
   "cell_type": "markdown",
   "metadata": {},
   "source": [
    "We'll need the following libraries and set the random seed.\n"
   ]
  },
  {
   "cell_type": "code",
   "execution_count": 25,
   "metadata": {},
   "outputs": [],
   "source": [
    "# Import libraries we need for this lab, and set the random seed\n",
    "\n",
    "from torch import nn\n",
    "import torch\n",
    "import numpy as np\n",
    "import matplotlib.pyplot as plt\n",
    "from torch import nn,optim"
   ]
  },
  {
   "cell_type": "markdown",
   "metadata": {},
   "source": [
    "<!--Empty Space for separating topics-->\n"
   ]
  },
  {
   "cell_type": "markdown",
   "metadata": {},
   "source": [
    "<h2 id=\"Makeup_Data\">Make Some Data</h2>\n"
   ]
  },
  {
   "cell_type": "markdown",
   "metadata": {},
   "source": [
    "First, we'll create some artificial data in a dataset class. The class will include the option to produce training data or validation data. The training data will include outliers.\n"
   ]
  },
  {
   "cell_type": "code",
   "execution_count": 26,
   "metadata": {},
   "outputs": [],
   "source": [
    "# Create Data class\n",
    "\n",
    "from torch.utils.data import Dataset, DataLoader\n",
    "\n",
    "class Data(Dataset):\n",
    "    \n",
    "    # Constructor\n",
    "    def __init__(self, train = True):\n",
    "            self.x = torch.arange(-3, 3, 0.1).view(-1, 1)\n",
    "            self.f = -3 * self.x + 1\n",
    "            self.y = self.f + 0.1 * torch.randn(self.x.size())\n",
    "            self.len = self.x.shape[0]\n",
    "            \n",
    "            #outliers \n",
    "            if train == True:\n",
    "                self.y[0] = 0\n",
    "                self.y[50:55] = 20\n",
    "            else:\n",
    "                pass\n",
    "      \n",
    "    # Getter\n",
    "    def __getitem__(self, index):    \n",
    "        return self.x[index], self.y[index]\n",
    "    \n",
    "    # Get Length\n",
    "    def __len__(self):\n",
    "        return self.len"
   ]
  },
  {
   "cell_type": "markdown",
   "metadata": {},
   "source": [
    "Create two objects: one that contains training data and a second that contains validation data. Assume that the training data has the outliers. \n"
   ]
  },
  {
   "cell_type": "code",
   "execution_count": 27,
   "metadata": {},
   "outputs": [],
   "source": [
    "# Create training dataset and validation dataset\n",
    "\n",
    "train_data = Data()\n",
    "val_data = Data(train = False)"
   ]
  },
  {
   "cell_type": "markdown",
   "metadata": {},
   "source": [
    "Overlay the training points in red over the function that generated the data. Notice the outliers at x=-3 and around x=2:\n"
   ]
  },
  {
   "cell_type": "code",
   "execution_count": 28,
   "metadata": {},
   "outputs": [
    {
     "data": {
      "image/png": "[encoded data removed]",
      "text/plain": [
       "<Figure size 432x288 with 1 Axes>"
      ]
     },
     "metadata": {
      "needs_background": "light"
     },
     "output_type": "display_data"
    }
   ],
   "source": [
    "# Plot out training points\n",
    "\n",
    "plt.plot(train_data.x.numpy(), train_data.y.numpy(), 'xr',label=\"training data \")\n",
    "plt.plot(train_data.x.numpy(), train_data.f.numpy(),label=\"true function  \")\n",
    "plt.xlabel('x')\n",
    "plt.ylabel('y')\n",
    "plt.legend()\n",
    "plt.show()"
   ]
  },
  {
   "cell_type": "markdown",
   "metadata": {},
   "source": [
    "<!--Empty Space for separating topics-->\n"
   ]
  },
  {
   "cell_type": "markdown",
   "metadata": {},
   "source": [
    "<h2 id=\"LR_Loader_Cost\">Create a Linear Regression Object,  Data Loader, and Criterion Function</h2>\n"
   ]
  },
  {
   "cell_type": "code",
   "execution_count": 29,
   "metadata": {},
   "outputs": [],
   "source": [
    "# Create Linear Regression Class\n",
    "\n",
    "from torch import nn\n",
    "\n",
    "class linear_regression(nn.Module):\n",
    "    \n",
    "    # Constructor\n",
    "    def __init__(self, input_size, output_size):\n",
    "        super(linear_regression, self).__init__()\n",
    "        self.linear = nn.Linear(input_size, output_size)\n",
    "    \n",
    "    # Prediction function\n",
    "    def forward(self, x):\n",
    "        yhat = self.linear(x)\n",
    "        return yhat"
   ]
  },
  {
   "cell_type": "markdown",
   "metadata": {},
   "source": [
    "Create the criterion function and a <code>DataLoader</code> object: \n"
   ]
  },
  {
   "cell_type": "code",
   "execution_count": 30,
   "metadata": {},
   "outputs": [],
   "source": [
    "# Create MSELoss function and DataLoader\n",
    "\n",
    "criterion = nn.MSELoss()\n",
    "trainloader = DataLoader(dataset = train_data, batch_size = 1)"
   ]
  },
  {
   "cell_type": "markdown",
   "metadata": {},
   "source": [
    "<!--Empty Space for separating topics-->\n"
   ]
  },
  {
   "cell_type": "markdown",
   "metadata": {},
   "source": [
    "<h2 id=\"LR_Hyper\">Different learning rates and Data Structures to Store results for different Hyperparameters</h2>\n"
   ]
  },
  {
   "cell_type": "markdown",
   "metadata": {},
   "source": [
    "Create a list with different learning rates and a tensor (can be a list) for the training and validating cost/total loss. Include the list MODELS, which stores the training model for every value of the learning rate. \n"
   ]
  },
  {
   "cell_type": "code",
   "execution_count": 31,
   "metadata": {},
   "outputs": [],
   "source": [
    "# Create Learning Rate list, the error lists and the MODELS list\n",
    "\n",
    "learning_rates=[0.0001, 0.001, 0.01, 0.1]\n",
    "\n",
    "train_error=torch.zeros(len(learning_rates))\n",
    "validation_error=torch.zeros(len(learning_rates))\n",
    "\n",
    "MODELS=[]"
   ]
  },
  {
   "cell_type": "markdown",
   "metadata": {},
   "source": [
    "<!--Empty Space for separating topics-->\n"
   ]
  },
  {
   "cell_type": "markdown",
   "metadata": {},
   "source": [
    "<h2 id=\"Model\">Train different models  for different Hyperparameters</h2>\n"
   ]
  },
  {
   "cell_type": "markdown",
   "metadata": {},
   "source": [
    "Try different values of learning rates, perform stochastic gradient descent, and save the results on the training data and validation data. Finally, save each model in a list.\n"
   ]
  },
  {
   "cell_type": "code",
   "execution_count": 32,
   "metadata": {},
   "outputs": [],
   "source": [
    "# Define the train model function and train the model\n",
    "\n",
    "def train_model_with_lr (iter, lr_list):\n",
    "    \n",
    "    # iterate through different learning rates \n",
    "    for i, lr in enumerate(lr_list):\n",
    "        model = linear_regression(1, 1)\n",
    "        optimizer = optim.SGD(model.parameters(), lr = lr)\n",
    "        for epoch in range(iter):\n",
    "            for x, y in trainloader:\n",
    "                yhat = model(x)\n",
    "                loss = criterion(yhat, y)\n",
    "                optimizer.zero_grad()\n",
    "                loss.backward()\n",
    "                optimizer.step()\n",
    "                \n",
    "        # train data\n",
    "        Yhat = model(train_data.x)\n",
    "        train_loss = criterion(Yhat, train_data.y)\n",
    "        train_error[i] = train_loss.item()\n",
    "    \n",
    "        # validation data\n",
    "        Yhat = model(val_data.x)\n",
    "        val_loss = criterion(Yhat, val_data.y)\n",
    "        validation_error[i] = val_loss.item()\n",
    "        MODELS.append(model)\n",
    "\n",
    "train_model_with_lr(10, learning_rates)"
   ]
  },
  {
   "cell_type": "code",
   "execution_count": 33,
   "metadata": {},
   "outputs": [
    {
     "data": {
      "text/plain": [
       "[linear_regression(\n",
       "   (linear): Linear(in_features=1, out_features=1, bias=True)\n",
       " ),\n",
       " linear_regression(\n",
       "   (linear): Linear(in_features=1, out_features=1, bias=True)\n",
       " ),\n",
       " linear_regression(\n",
       "   (linear): Linear(in_features=1, out_features=1, bias=True)\n",
       " ),\n",
       " linear_regression(\n",
       "   (linear): Linear(in_features=1, out_features=1, bias=True)\n",
       " )]"
      ]
     },
     "execution_count": 33,
     "metadata": {},
     "output_type": "execute_result"
    }
   ],
   "source": [
    "MODELS"
   ]
  },
  {
   "cell_type": "markdown",
   "metadata": {},
   "source": [
    "<!--Empty Space for separating topics-->\n"
   ]
  },
  {
   "cell_type": "markdown",
   "metadata": {},
   "source": [
    "<h2 id=\"Result\">View the Results</h2>\n"
   ]
  },
  {
   "cell_type": "markdown",
   "metadata": {},
   "source": [
    "Plot the training loss and validation loss for each learning rate:  \n"
   ]
  },
  {
   "cell_type": "code",
   "execution_count": 34,
   "metadata": {},
   "outputs": [
    {
     "data": {
      "image/png": "[encoded data removed]",
      "text/plain": [
       "<Figure size 432x288 with 1 Axes>"
      ]
     },
     "metadata": {
      "needs_background": "light"
     },
     "output_type": "display_data"
    }
   ],
   "source": [
    "# Plot the training loss and validation loss\n",
    "\n",
    "plt.semilogx(np.array(learning_rates), train_error.numpy(), label = 'training loss/total Loss')\n",
    "plt.semilogx(np.array(learning_rates), validation_error.numpy(), label = 'validation cost/total Loss')\n",
    "plt.ylabel('Cost\\ Total Loss')\n",
    "plt.xlabel('learning rate')\n",
    "plt.legend()\n",
    "plt.show()"
   ]
  },
  {
   "cell_type": "markdown",
   "metadata": {},
   "source": [
    "Produce a prediction by using the validation data for each model:  \n"
   ]
  },
  {
   "cell_type": "code",
   "execution_count": 35,
   "metadata": {},
   "outputs": [
    {
     "name": "stdout",
     "output_type": "stream",
     "text": [
      "i [[2.1965368]\n",
      " [2.1446147]\n",
      " [2.0926929]]\n",
      "i [[5.974001 ]\n",
      " [5.8542523]\n",
      " [5.7345037]]\n",
      "i [[6.595791 ]\n",
      " [6.4610596]\n",
      " [6.3263283]]\n",
      "i [[14.500342]\n",
      " [14.064257]\n",
      " [13.628169]]\n"
     ]
    },
    {
     "data": {
      "image/png": "[encoded data removed]",
      "text/plain": [
       "<Figure size 432x288 with 1 Axes>"
      ]
     },
     "metadata": {
      "needs_background": "light"
     },
     "output_type": "display_data"
    }
   ],
   "source": [
    "# Plot the predictions\n",
    "\n",
    "i = 0\n",
    "for model, learning_rate in zip(MODELS, learning_rates):\n",
    "    yhat = model(val_data.x)\n",
    "    plt.plot(val_data.x.numpy(), yhat.detach().numpy(), label = 'lr:' + str(learning_rate))\n",
    "    print('i', yhat.detach().numpy()[0:3])\n",
    "plt.plot(val_data.x.numpy(), val_data.f.numpy(), 'or', label = 'validation data')\n",
    "plt.xlabel('x')\n",
    "plt.ylabel('y')\n",
    "plt.legend()\n",
    "plt.show()"
   ]
  },
  {
   "cell_type": "markdown",
   "metadata": {},
   "source": [
    "<!--Empty Space for separating topics-->\n"
   ]
  },
  {
   "cell_type": "markdown",
   "metadata": {},
   "source": [
    "<h3>Practice</h3>\n"
   ]
  },
  {
   "cell_type": "markdown",
   "metadata": {},
   "source": [
    "The object <code>good_model</code> is the best performing model. Use the train loader to get the data samples x and y. Produce an estimate for <code>yhat</code> and print it out for every sample in a for a loop. Compare it to the actual prediction <code>y</code>.\n"
   ]
  },
  {
   "cell_type": "code",
   "execution_count": 36,
   "metadata": {},
   "outputs": [
    {
     "name": "stdout",
     "output_type": "stream",
     "text": [
      "yhat=  tensor([[14.5003]], grad_fn=<AddmmBackward>) y tensor([[0.]])\n",
      "yhat=  tensor([[14.0643]], grad_fn=<AddmmBackward>) y tensor([[9.6903]])\n",
      "yhat=  tensor([[13.6282]], grad_fn=<AddmmBackward>) y tensor([[9.5267]])\n",
      "yhat=  tensor([[13.1921]], grad_fn=<AddmmBackward>) y tensor([[9.0425]])\n",
      "yhat=  tensor([[12.7560]], grad_fn=<AddmmBackward>) y tensor([[8.8404]])\n",
      "yhat=  tensor([[12.3199]], grad_fn=<AddmmBackward>) y tensor([[8.4768]])\n",
      "yhat=  tensor([[11.8838]], grad_fn=<AddmmBackward>) y tensor([[8.1982]])\n",
      "yhat=  tensor([[11.4477]], grad_fn=<AddmmBackward>) y tensor([[7.9198]])\n",
      "yhat=  tensor([[11.0117]], grad_fn=<AddmmBackward>) y tensor([[7.5068]])\n",
      "yhat=  tensor([[10.5756]], grad_fn=<AddmmBackward>) y tensor([[7.3945]])\n",
      "yhat=  tensor([[10.1395]], grad_fn=<AddmmBackward>) y tensor([[7.0248]])\n",
      "yhat=  tensor([[9.7034]], grad_fn=<AddmmBackward>) y tensor([[6.8341]])\n",
      "yhat=  tensor([[9.2673]], grad_fn=<AddmmBackward>) y tensor([[6.3435]])\n",
      "yhat=  tensor([[8.8312]], grad_fn=<AddmmBackward>) y tensor([[6.0153]])\n",
      "yhat=  tensor([[8.3951]], grad_fn=<AddmmBackward>) y tensor([[5.7300]])\n",
      "yhat=  tensor([[7.9590]], grad_fn=<AddmmBackward>) y tensor([[5.6109]])\n",
      "yhat=  tensor([[7.5230]], grad_fn=<AddmmBackward>) y tensor([[4.9574]])\n",
      "yhat=  tensor([[7.0869]], grad_fn=<AddmmBackward>) y tensor([[4.8130]])\n",
      "yhat=  tensor([[6.6508]], grad_fn=<AddmmBackward>) y tensor([[4.5764]])\n",
      "yhat=  tensor([[6.2147]], grad_fn=<AddmmBackward>) y tensor([[4.3547]])\n",
      "yhat=  tensor([[5.7786]], grad_fn=<AddmmBackward>) y tensor([[4.0406]])\n",
      "yhat=  tensor([[5.3425]], grad_fn=<AddmmBackward>) y tensor([[3.5703]])\n",
      "yhat=  tensor([[4.9064]], grad_fn=<AddmmBackward>) y tensor([[3.2987]])\n",
      "yhat=  tensor([[4.4704]], grad_fn=<AddmmBackward>) y tensor([[3.1115]])\n",
      "yhat=  tensor([[4.0343]], grad_fn=<AddmmBackward>) y tensor([[2.7552]])\n",
      "yhat=  tensor([[3.5982]], grad_fn=<AddmmBackward>) y tensor([[2.5720]])\n",
      "yhat=  tensor([[3.1621]], grad_fn=<AddmmBackward>) y tensor([[2.2678]])\n",
      "yhat=  tensor([[2.7260]], grad_fn=<AddmmBackward>) y tensor([[1.8332]])\n",
      "yhat=  tensor([[2.2899]], grad_fn=<AddmmBackward>) y tensor([[1.6257]])\n",
      "yhat=  tensor([[1.8538]], grad_fn=<AddmmBackward>) y tensor([[1.3110]])\n",
      "yhat=  tensor([[1.4177]], grad_fn=<AddmmBackward>) y tensor([[1.1256]])\n",
      "yhat=  tensor([[0.9817]], grad_fn=<AddmmBackward>) y tensor([[0.6461]])\n",
      "yhat=  tensor([[0.5456]], grad_fn=<AddmmBackward>) y tensor([[0.4775]])\n",
      "yhat=  tensor([[0.1095]], grad_fn=<AddmmBackward>) y tensor([[0.1486]])\n",
      "yhat=  tensor([[-0.3266]], grad_fn=<AddmmBackward>) y tensor([[-0.0772]])\n",
      "yhat=  tensor([[-0.7627]], grad_fn=<AddmmBackward>) y tensor([[-0.3993]])\n",
      "yhat=  tensor([[-1.1988]], grad_fn=<AddmmBackward>) y tensor([[-0.8536]])\n",
      "yhat=  tensor([[-1.6349]], grad_fn=<AddmmBackward>) y tensor([[-1.2001]])\n",
      "yhat=  tensor([[-2.0709]], grad_fn=<AddmmBackward>) y tensor([[-1.4068]])\n",
      "yhat=  tensor([[-2.5070]], grad_fn=<AddmmBackward>) y tensor([[-1.7941]])\n",
      "yhat=  tensor([[-2.9431]], grad_fn=<AddmmBackward>) y tensor([[-2.2131]])\n",
      "yhat=  tensor([[-3.3792]], grad_fn=<AddmmBackward>) y tensor([[-2.2245]])\n",
      "yhat=  tensor([[-3.8153]], grad_fn=<AddmmBackward>) y tensor([[-2.7809]])\n",
      "yhat=  tensor([[-4.2514]], grad_fn=<AddmmBackward>) y tensor([[-2.9755]])\n",
      "yhat=  tensor([[-4.6875]], grad_fn=<AddmmBackward>) y tensor([[-3.1262]])\n",
      "yhat=  tensor([[-5.1236]], grad_fn=<AddmmBackward>) y tensor([[-3.5492]])\n",
      "yhat=  tensor([[-5.5596]], grad_fn=<AddmmBackward>) y tensor([[-3.9055]])\n",
      "yhat=  tensor([[-5.9957]], grad_fn=<AddmmBackward>) y tensor([[-3.9963]])\n",
      "yhat=  tensor([[-6.4318]], grad_fn=<AddmmBackward>) y tensor([[-4.5033]])\n",
      "yhat=  tensor([[-6.8679]], grad_fn=<AddmmBackward>) y tensor([[-4.8625]])\n",
      "yhat=  tensor([[-7.3040]], grad_fn=<AddmmBackward>) y tensor([[20.]])\n",
      "yhat=  tensor([[-7.7401]], grad_fn=<AddmmBackward>) y tensor([[20.]])\n",
      "yhat=  tensor([[-8.1762]], grad_fn=<AddmmBackward>) y tensor([[20.]])\n",
      "yhat=  tensor([[-8.6122]], grad_fn=<AddmmBackward>) y tensor([[20.]])\n",
      "yhat=  tensor([[-9.0483]], grad_fn=<AddmmBackward>) y tensor([[20.]])\n",
      "yhat=  tensor([[-9.4844]], grad_fn=<AddmmBackward>) y tensor([[-6.6338]])\n",
      "yhat=  tensor([[-9.9205]], grad_fn=<AddmmBackward>) y tensor([[-6.7870]])\n",
      "yhat=  tensor([[-10.3566]], grad_fn=<AddmmBackward>) y tensor([[-7.2095]])\n",
      "yhat=  tensor([[-10.7927]], grad_fn=<AddmmBackward>) y tensor([[-7.4070]])\n",
      "yhat=  tensor([[-11.2288]], grad_fn=<AddmmBackward>) y tensor([[-7.6779]])\n"
     ]
    }
   ],
   "source": [
    "for x, y in trainloader:\n",
    "    print(\"yhat= \", MODELS[-1](x),\"y\", y)"
   ]
  },
  {
   "cell_type": "markdown",
   "metadata": {},
   "source": [
    "Double-click <b>here</b> for the solution.\n",
    "\n",
    "<!-- \n",
    "for x, y in trainloader:\n",
    "    print(\"yhat= \", good_model(x),\"y\", y)\n",
    "-->\n"
   ]
  },
  {
   "cell_type": "markdown",
   "metadata": {},
   "source": [
    "<!--Empty Space for separating topics-->\n"
   ]
  },
  {
   "cell_type": "markdown",
   "metadata": {},
   "source": [
    "<a href=\"http://cocl.us/pytorch_link_bottom\">\n",
    "    <img src=\"https://s3-api.us-geo.objectstorage.softlayer.net/cf-courses-data/CognitiveClass/DL0110EN/notebook_images%20/notebook_bottom%20.png\" width=\"750\" alt=\"PyTorch Bottom\" />\n",
    "</a>\n"
   ]
  },
  {
   "cell_type": "markdown",
   "metadata": {},
   "source": [
    "<h2>About the Authors:</h2> \n",
    "\n",
    "<a href=\"https://www.linkedin.com/in/joseph-s-50398b136/\">Joseph Santarcangelo</a> has a PhD in Electrical Engineering, his research focused on using machine learning, signal processing, and computer vision to determine how videos impact human cognition. Joseph has been working for IBM since he completed his PhD. \n"
   ]
  },
  {
   "cell_type": "markdown",
   "metadata": {},
   "source": [
    "Other contributors: <a href=\"https://www.linkedin.com/in/michelleccarey/\">Michelle Carey</a>, <a href=\"www.linkedin.com/in/jiahui-mavis-zhou-a4537814a\">Mavis Zhou</a>\n"
   ]
  },
  {
   "cell_type": "markdown",
   "metadata": {},
   "source": [
    "## Change Log\n",
    "\n",
    "| Date (YYYY-MM-DD) | Version | Changed By | Change Description                                          |\n",
    "| ----------------- | ------- | ---------- | ----------------------------------------------------------- |\n",
    "| 2020-09-23        | 2.0     | Shubham    | Migrated Lab to Markdown and added to course repo in GitLab |\n"
   ]
  },
  {
   "cell_type": "markdown",
   "metadata": {},
   "source": [
    "<hr>\n"
   ]
  },
  {
   "cell_type": "markdown",
   "metadata": {},
   "source": [
    "Copyright © 2018 <a href=\"cognitiveclass.ai?utm_source=bducopyrightlink&utm_medium=dswb&utm_campaign=bdu\">cognitiveclass.ai</a>. This notebook and its source code are released under the terms of the <a href=\"https://bigdatauniversity.com/mit-license/\">MIT License</a>.\n"
   ]
  }
 ],
 "metadata": {
  "kernelspec": {
   "display_name": "Python",
   "language": "python",
   "name": "conda-env-python-py"
  },
  "language_info": {
   "codemirror_mode": {
    "name": "ipython",
    "version": 3
   },
   "file_extension": ".py",
   "mimetype": "text/x-python",
   "name": "python",
   "nbconvert_exporter": "python",
   "pygments_lexer": "ipython3",
   "version": "3.6.12"
  }
 },
 "nbformat": 4,
 "nbformat_minor": 4
}
