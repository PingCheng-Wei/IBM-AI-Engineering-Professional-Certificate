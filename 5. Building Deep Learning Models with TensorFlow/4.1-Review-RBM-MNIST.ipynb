{
 "cells": [
  {
   "cell_type": "markdown",
   "metadata": {},
   "source": [
    "<a href=\"https://www.skills.network/\"><img src=\"https://cf-courses-data.s3.us.cloud-object-storage.appdomain.cloud/IBM-DL0120ENedX/labs/Template%20for%20Instructional%20Hands-on%20Labs/images/IDSNlogo.png\" width=\"400px\" align=\"center\"></a>\n",
    "\n",
    "<h1 align=\"center\"><font size=\"5\">RESTRICTED BOLTZMANN MACHINES</font></h1>\n"
   ]
  },
  {
   "cell_type": "markdown",
   "metadata": {},
   "source": [
    "<h3>Introduction</h3>\n",
    "<b>Restricted Boltzmann Machine (RBM):</b>  RBMs are shallow neural nets that learn to reconstruct data by themselves in an unsupervised fashion.  \n",
    "\n",
    "<h4>Why are RBMs important?</h4>\n",
    "An RBM are a basic form of autoencoder.  It can automatically extract <b>meaningful</b> features from a given input.\n",
    "\n",
    "<h4>How does it work?</h4>\n",
    "RBM is a 2 layer neural network. Simply, RBM takes the inputs and translates those into a set of binary values that represents them in the hidden layer. Then, these numbers can be translated back to reconstruct the inputs. Through several forward and backward passes, the RBM will be trained, and a trained RBM can reveal which features are the most important ones when detecting patterns.   \n",
    "\n",
    "<h4>What are the applications of an RBM?</h4>\n",
    "RBM is useful for <a href='http://www.cs.utoronto.ca/~hinton/absps/netflixICML.pdf'>  Collaborative Filtering</a>, dimensionality reduction, classification, regression, feature learning, topic modeling and even <b>Deep Belief Networks</b>.\n",
    "\n",
    "<h4>Is RBM a generative or Discriminative model?</h4>\n",
    "RBM is a generative model. Let me explain it by first, see what is different between discriminative and generative models: \n",
    "\n",
    "<b>Discriminative:</b> Consider a classification problem where we want to learn to distinguish between Sedan cars (y = 1) and SUV cars (y = 0), based on some features of cars. Given a training set, an algorithm like logistic regression tries to find a straight line, or <i>decision boundary</i>, that separates the suv and sedan.  \n",
    "\n",
    "<b>Generative:</b> looking at cars, we can build a model of what Sedan cars look like. Then, looking at SUVs, we can build a separate model of what SUV cars look like. Finally, to classify a new car, we can match the new car against the Sedan model, and match it against the SUV model, to see whether the new car looks more like the SUV or Sedan. \n",
    "\n",
    "Generative Models specify a probability distribution over a dataset of input vectors. We can carry out both supervised and unsupervised tasks with generative models:\n",
    "\n",
    "<ul>\n",
    "    <li>In an unsupervised task, we try to form a model for $P(x)$, where $P$ is the probability given $x$ as an input vector.</li>\n",
    "    <li>In the supervised task, we first form a model for $P(x|y)$, where $P$ is the probability of $x$ given $y$(the label for $x$). For example, if $y = 0$ indicates that a car is an SUV, and $y = 1$ indicates that a car is a sedan, then $p(x|y = 0)$ models the distribution of SUV features, and $p(x|y = 1)$ models the distribution of sedan features. If we manage to find $P(x|y)$ and $P(y)$, then we can use <b>Bayes rule</b> to estimate $P(y|x)$, because:   \n",
    "        $$p(y|x) = \\frac{p(x|y)p(y)}{p(x)}$$</li>\n",
    "</ul>\n",
    "Now the question is, can we build a generative model, and then use it to create synthetic data by directly sampling from the modeled probability distributions? Lets see. \n"
   ]
  },
  {
   "cell_type": "markdown",
   "metadata": {},
   "source": [
    "<h2>Table of Contents</h2>\n",
    "<ol>\n",
    "    <li><a href=\"#ref1\">Initialization</a></li>\n",
    "    <li><a href=\"#ref2\">RBM layers</a></li>\n",
    "    <li><a href=\"#ref3\">What RBM can do after training?</a></li>\n",
    "    <li><a href=\"#ref4\">How to train the model?</a></li>\n",
    "    <li><a href=\"#ref5\">Learned features</a></li>\n",
    "</ol>\n",
    "<p></p>\n",
    "</div>\n",
    "<br>\n",
    "\n",
    "<hr>\n"
   ]
  },
  {
   "cell_type": "markdown",
   "metadata": {},
   "source": [
    "<a id=\"ref1\"></a>\n",
    "\n",
    "<h3>Initialization</h3>\n",
    "\n",
    "First, we have to load the utility file which contains different utility functions that are not connected\n",
    "in any way to the networks presented in the tutorials, but rather help in\n",
    "processing the outputs into a more understandable way.\n"
   ]
  },
  {
   "cell_type": "code",
   "execution_count": 1,
   "metadata": {},
   "outputs": [],
   "source": [
    "import urllib.request\n",
    "with urllib.request.urlopen(\"https://cf-courses-data.s3.us.cloud-object-storage.appdomain.cloud/IBMDeveloperSkillsNetwork-DL0120EN-SkillsNetwork/labs/Week4/data/utils.py\") as url:\n",
    "    response = url.read()\n",
    "target = open('utils.py', 'w')\n",
    "target.write(response.decode('utf-8'))\n",
    "target.close()"
   ]
  },
  {
   "cell_type": "markdown",
   "metadata": {},
   "source": [
    "<h2>Installing TensorFlow </h2>\n",
    "\n",
    "We will installing TensorFlow version 2.2.0 and its required prerequistes.  Also installing pillow...\n"
   ]
  },
  {
   "cell_type": "code",
   "execution_count": 2,
   "metadata": {},
   "outputs": [
    {
     "name": "stdout",
     "output_type": "stream",
     "text": [
      "Collecting grpcio==1.24.3\n",
      "\u001b[?25l  Downloading https://files.pythonhosted.org/packages/30/54/c9810421e41ec0bca2228c6f06b1b1189b196b69533cbcac9f71b44727f8/grpcio-1.24.3-cp36-cp36m-manylinux2010_x86_64.whl (2.2MB)\n",
      "\u001b[K     |████████████████████████████████| 2.2MB 4.7MB/s eta 0:00:01\n",
      "\u001b[?25hRequirement already satisfied: six>=1.5.2 in /home/jupyterlab/conda/envs/python/lib/python3.6/site-packages (from grpcio==1.24.3) (1.15.0)\n",
      "Installing collected packages: grpcio\n",
      "  Found existing installation: grpcio 1.34.0\n",
      "    Uninstalling grpcio-1.34.0:\n",
      "      Successfully uninstalled grpcio-1.34.0\n",
      "Successfully installed grpcio-1.24.3\n",
      "Collecting tensorflow==2.2.0\n",
      "\u001b[?25l  Downloading https://files.pythonhosted.org/packages/3d/be/679ce5254a8c8d07470efb4a4c00345fae91f766e64f1c2aece8796d7218/tensorflow-2.2.0-cp36-cp36m-manylinux2010_x86_64.whl (516.2MB)\n",
      "\u001b[K     |████████████████████████████████| 516.2MB 28kB/s  eta 0:00:011   |█▌                              | 23.9MB 6.7MB/s eta 0:01:14     |█▌                              | 24.4MB 6.7MB/s eta 0:01:14     |██                              | 32.0MB 5.2MB/s eta 0:01:33     |██▌                             | 39.7MB 6.4MB/s eta 0:01:15     |███▊                            | 59.5MB 5.3MB/s eta 0:01:27           | 102.7MB 6.7MB/s eta 0:01:02     |███████                         | 112.2MB 5.3MB/s eta 0:01:16     |███████▍                        | 119.1MB 5.3MB/s eta 0:01:159��█████                       | 146.4MB 33.5MB/s eta 0:00:12     |█████████▏                      | 148.4MB 33.5MB/s eta 0:00:11     |█████████▍                      | 151.8MB 32.9MB/s eta 0:00:12     |█████████▌                      | 153.1MB 32.9MB/s eta 0:00:12     |██████████▏                     | 164.2MB 6.0MB/s eta 0:00:59     |██████████▎                     | 165.6MB 6.0MB/s eta 0:00:59     |██████████▎                     | 166.7MB 6.0MB/s eta 0:00:59     |██████████▍                     | 167.0MB 6.0MB/s eta 0:00:58     |███████████                     | 176.6MB 5.3MB/s eta 0:01:04    |███████████▍                    | 183.2MB 5.3MB/s eta 0:01:03     |███████████▊                    | 188.9MB 6.7MB/s eta 0:00:49        | 199.7MB 6.6MB/s eta 0:00:49        | 210.4MB 3.1MB/s eta 0:01:40��█████████▎                  | 213.7MB 6.6MB/s eta 0:00:46     |█████████████▊                  | 221.5MB 6.6MB/s eta 0:00:45     |█████████████▉                  | 222.8MB 6.6MB/s eta 0:00:45     |██████████████                  | 224.2MB 6.6MB/s eta 0:00:45     |██████████████                  | 224.7MB 6.6MB/s eta 0:00:45 5.3MB/s eta 0:00:54     |██████████████▉                 | 238.8MB 6.7MB/s eta 0:00:42     |███████████████▍                | 248.7MB 6.6MB/s eta 0:00:41     |███████████████▌                | 249.2MB 6.6MB/s eta 0:00:41     |███████████████▋                | 252.2MB 6.6MB/s eta 0:00:40    | 281.3MB 6.7MB/s eta 0:00:36     |█████████████████▋              | 283.8MB 6.7MB/s eta 0:00:35     |█████████████████▋              | 283.9MB 6.7MB/s eta 0:00:35     |█████████████████▊              | 285.1MB 6.7MB/s eta 0:00:35     |█████████████████▉              | 287.8MB 5.8MB/s eta 0:00:40     |██████████████████              | 290.1MB 5.8MB/s eta 0:00:40��████████▉             | 303.5MB 5.4MB/s eta 0:00:40     |███████████████████▍            | 312.1MB 5.7MB/s eta 0:00:36     |████████████████████            | 324.1MB 6.7MB/s eta 0:00:29     |████████████████████▋           | 333.0MB 34.7MB/s eta 0:00:06     |█████████████████████           | 337.8MB 4.3MB/s eta 0:00:42�█████████▋          | 348.4MB 5.4MB/s eta 0:00:32     |█████████████████████▊          | 350.1MB 5.4MB/s eta 0:00:31     |██████████████████████          | 356.1MB 5.1MB/s eta 0:00:32     |██████████████████████▉         | 368.3MB 5.3MB/s eta 0:00:28     |██████████████████████▉         | 368.8MB 5.3MB/s eta 0:00:28     |███████████████████████         | 369.8MB 5.9MB/s eta 0:00:25��██████████████████████         | 371.5MB 5.9MB/s eta 0:00:25     |███████████████████████         | 372.4MB 5.9MB/s eta 0:00:25     |███████████████████████▏        | 373.5MB 5.9MB/s eta 0:00:255MB 5.3MB/s eta 0:00:25     |████████████████████████▏       | 389.8MB 5.3MB/s eta 0:00:24     |████████████████████████▍       | 392.8MB 5.3MB/s eta 0:00:24     |████████████████████████▍       | 393.3MB 5.3MB/s eta 0:00:24     |█████████████████████████       | 403.4MB 5.0MB/s eta 0:00:23     |█████████████████████████▏      | 406.6MB 5.0MB/s eta 0:00:22     |█████████████████████████▎      | 407.3MB 5.0MB/s eta 0:00:22     |█████████████████████████▋      | 412.9MB 6.7MB/s eta 0:00:16     |██████████████████████████      | 421.1MB 6.8MB/s eta 0:00:14     |██████████████████████████▎     | 424.6MB 6.8MB/s eta 0:00:14     |██████████████████████████▋     | 428.4MB 5.4MB/s eta 0:00:17     |██████████████████████████▉     | 433.2MB 5.3MB/s eta 0:00:16     |███████████████████████████▎    | 439.7MB 5.3MB/s eta 0:00:15     |███████████████████████████▎    | 440.2MB 5.3MB/s eta 0:00:15     |███████████████████████████▎    | 440.5MB 5.3MB/s eta 0:00:15     |███████████████████████████▍    | 441.2MB 5.8MB/s eta 0:00:13     |███████████████████████████▋    | 445.7MB 5.8MB/s eta 0:00:13     |███████████████████████████▊    | 447.8MB 5.8MB/s eta 0:00:12   | 448.6MB 5.8MB/s eta 0:00:12�████████▏   | 453.7MB 5.3MB/s eta 0:00:12     |████████████████████████████▍   | 458.6MB 5.8MB/s eta 0:00:10��█████████▌   | 458.9MB 5.8MB/s eta 0:00:10     |████████████████████████████▋   | 462.1MB 5.8MB/s eta 0:00:10     |█████████████████████████████▏  | 469.9MB 5.2MB/s eta 0:00:09��████████████████████▌  | 476.0MB 6.6MB/s eta 0:00:07█████████▌  | 476.1MB 6.6MB/s eta 0:00:07     |█████████████████████████████▊  | 478.9MB 32.6MB/s eta 0:00:02�████████████▊  | 479.4MB 32.6MB/s eta 0:00:02��█████████████████████████▊  | 480.3MB 32.6MB/s eta 0:00:02███████████████████▉  | 481.5MB 32.6MB/s eta 0:00:02�████████████▉  | 481.6MB 32.6MB/s eta 0:00:02��██████████████████████████  | 483.9MB 32.6MB/s eta 0:00:01��█████████████████████  | 484.7MB 2.6MB/s eta 0:00:13     |██████████████████████████████  | 485.2MB 2.6MB/s eta 0:00:12    |██████████████████████████████▏ | 486.4MB 2.6MB/s eta 0:00:12██████████████████████████████▎ | 489.3MB 2.6MB/s eta 0:00:11██████████████████████████████▍ | 490.9MB 5.4MB/s eta 0:00:05    |██████████████████████████████▊ | 495.9MB 5.3MB/s eta 0:00:04██████████████████████████████▊ | 496.0MB 5.3MB/s eta 0:00:04�████████████████████████████▊ | 496.2MB 5.3MB/s eta 0:00:04█████████████████████████▊ | 496.5MB 5.3MB/s eta 0:00:04     |███████████████████████████████▍| 505.9MB 6.6MB/s eta 0:00:02     |███████████████████████████████▌| 509.0MB 6.6MB/s eta 0:00:02     |███████████████████████████████▋| 509.8MB 5.1MB/s eta 0:00:02     |███████████████████████████████▊| 510.8MB 5.1MB/s eta 0:00:02\n",
      "\u001b[?25hCollecting opt-einsum>=2.3.2 (from tensorflow==2.2.0)\n",
      "\u001b[?25l  Downloading https://files.pythonhosted.org/packages/bc/19/404708a7e54ad2798907210462fd950c3442ea51acc8790f3da48d2bee8b/opt_einsum-3.3.0-py3-none-any.whl (65kB)\n",
      "\u001b[K     |████████████████████████████████| 71kB 4.5MB/s eta 0:00:011\n",
      "\u001b[?25hCollecting scipy==1.4.1; python_version >= \"3\" (from tensorflow==2.2.0)\n",
      "\u001b[?25l  Downloading https://files.pythonhosted.org/packages/dc/29/162476fd44203116e7980cfbd9352eef9db37c49445d1fec35509022f6aa/scipy-1.4.1-cp36-cp36m-manylinux1_x86_64.whl (26.1MB)\n",
      "\u001b[K     |████████████████████████████████| 26.1MB 6.8MB/s eta 0:00:01    |█▌                              | 1.2MB 7.4MB/s eta 0:00:04     |██████████████████████████▌     | 21.6MB 6.8MB/s eta 0:00:01\n",
      "\u001b[?25hRequirement already satisfied: numpy<2.0,>=1.16.0 in /home/jupyterlab/conda/envs/python/lib/python3.6/site-packages (from tensorflow==2.2.0) (1.19.4)\n",
      "Collecting keras-preprocessing>=1.1.0 (from tensorflow==2.2.0)\n",
      "\u001b[?25l  Downloading https://files.pythonhosted.org/packages/79/4c/7c3275a01e12ef9368a892926ab932b33bb13d55794881e3573482b378a7/Keras_Preprocessing-1.1.2-py2.py3-none-any.whl (42kB)\n",
      "\u001b[K     |████████████████████████████████| 51kB 16.2MB/s eta 0:00:01\n",
      "\u001b[?25hCollecting tensorflow-estimator<2.3.0,>=2.2.0 (from tensorflow==2.2.0)\n",
      "\u001b[?25l  Downloading https://files.pythonhosted.org/packages/a4/f5/926ae53d6a226ec0fda5208e0e581cffed895ccc89e36ba76a8e60895b78/tensorflow_estimator-2.2.0-py2.py3-none-any.whl (454kB)\n",
      "\u001b[K     |████████████████████████████████| 460kB 30.2MB/s eta 0:00:01\n",
      "\u001b[?25hCollecting google-pasta>=0.1.8 (from tensorflow==2.2.0)\n",
      "\u001b[?25l  Downloading https://files.pythonhosted.org/packages/a3/de/c648ef6835192e6e2cc03f40b19eeda4382c49b5bafb43d88b931c4c74ac/google_pasta-0.2.0-py3-none-any.whl (57kB)\n",
      "\u001b[K     |████████████████████████████████| 61kB 5.3MB/s  eta 0:00:01\n",
      "\u001b[?25hRequirement already satisfied: protobuf>=3.8.0 in /home/jupyterlab/conda/envs/python/lib/python3.6/site-packages (from tensorflow==2.2.0) (3.14.0)\n",
      "Requirement already satisfied: six>=1.12.0 in /home/jupyterlab/conda/envs/python/lib/python3.6/site-packages (from tensorflow==2.2.0) (1.15.0)\n",
      "Collecting astunparse==1.6.3 (from tensorflow==2.2.0)\n",
      "  Downloading https://files.pythonhosted.org/packages/2b/03/13dde6512ad7b4557eb792fbcf0c653af6076b81e5941d36ec61f7ce6028/astunparse-1.6.3-py2.py3-none-any.whl\n",
      "Collecting wrapt>=1.11.1 (from tensorflow==2.2.0)\n",
      "  Using cached https://files.pythonhosted.org/packages/82/f7/e43cefbe88c5fd371f4cf0cf5eb3feccd07515af9fd6cf7dbf1d1793a797/wrapt-1.12.1.tar.gz\n",
      "Collecting h5py<2.11.0,>=2.10.0 (from tensorflow==2.2.0)\n",
      "\u001b[?25l  Downloading https://files.pythonhosted.org/packages/60/06/cafdd44889200e5438b897388f3075b52a8ef01f28a17366d91de0fa2d05/h5py-2.10.0-cp36-cp36m-manylinux1_x86_64.whl (2.9MB)\n",
      "\u001b[K     |████████████████████████████████| 2.9MB 13.3MB/s eta 0:00:01\n",
      "\u001b[?25hRequirement already satisfied: termcolor>=1.1.0 in /home/jupyterlab/conda/envs/python/lib/python3.6/site-packages (from tensorflow==2.2.0) (1.1.0)\n",
      "Collecting gast==0.3.3 (from tensorflow==2.2.0)\n",
      "  Downloading https://files.pythonhosted.org/packages/d6/84/759f5dd23fec8ba71952d97bcc7e2c9d7d63bdc582421f3cd4be845f0c98/gast-0.3.3-py2.py3-none-any.whl\n",
      "Requirement already satisfied: absl-py>=0.7.0 in /home/jupyterlab/conda/envs/python/lib/python3.6/site-packages (from tensorflow==2.2.0) (0.11.0)\n",
      "Requirement already satisfied: grpcio>=1.8.6 in /home/jupyterlab/conda/envs/python/lib/python3.6/site-packages (from tensorflow==2.2.0) (1.24.3)\n",
      "Requirement already satisfied: wheel>=0.26; python_version >= \"3\" in /home/jupyterlab/conda/envs/python/lib/python3.6/site-packages (from tensorflow==2.2.0) (0.36.1)\n",
      "Collecting tensorboard<2.3.0,>=2.2.0 (from tensorflow==2.2.0)\n",
      "\u001b[?25l  Downloading https://files.pythonhosted.org/packages/1d/74/0a6fcb206dcc72a6da9a62dd81784bfdbff5fedb099982861dc2219014fb/tensorboard-2.2.2-py3-none-any.whl (3.0MB)\n",
      "\u001b[K     |████████████████████████████████| 3.0MB 29.5MB/s eta 0:00:01     |██████████████████████████████▌ | 2.8MB 29.5MB/s eta 0:00:01\n",
      "\u001b[?25hRequirement already satisfied: werkzeug>=0.11.15 in /home/jupyterlab/conda/envs/python/lib/python3.6/site-packages (from tensorboard<2.3.0,>=2.2.0->tensorflow==2.2.0) (1.0.1)\n",
      "Requirement already satisfied: markdown>=2.6.8 in /home/jupyterlab/conda/envs/python/lib/python3.6/site-packages (from tensorboard<2.3.0,>=2.2.0->tensorflow==2.2.0) (3.3.3)\n",
      "Requirement already satisfied: requests<3,>=2.21.0 in /home/jupyterlab/conda/envs/python/lib/python3.6/site-packages (from tensorboard<2.3.0,>=2.2.0->tensorflow==2.2.0) (2.25.0)\n",
      "Requirement already satisfied: setuptools>=41.0.0 in /home/jupyterlab/conda/envs/python/lib/python3.6/site-packages (from tensorboard<2.3.0,>=2.2.0->tensorflow==2.2.0) (49.6.0.post20201009)\n",
      "Collecting google-auth<2,>=1.6.3 (from tensorboard<2.3.0,>=2.2.0->tensorflow==2.2.0)\n",
      "\u001b[?25l  Downloading https://files.pythonhosted.org/packages/3e/fd/df1b3a59aca9537a187413651ad63b290d165559150a868a298fa837fe7b/google_auth-1.24.0-py2.py3-none-any.whl (114kB)\n",
      "\u001b[K     |████████████████████████████████| 122kB 5.1MB/s eta 0:00:01\n",
      "\u001b[?25hCollecting tensorboard-plugin-wit>=1.6.0 (from tensorboard<2.3.0,>=2.2.0->tensorflow==2.2.0)\n",
      "\u001b[?25l  Downloading https://files.pythonhosted.org/packages/b6/85/5c5ac0a8c5efdfab916e9c6bc18963f6a6996a8a1e19ec4ad8c9ac9c623c/tensorboard_plugin_wit-1.7.0-py3-none-any.whl (779kB)\n",
      "\u001b[K     |█████████████████�██████████████| 778kB 8.9MB/s eta 0:00:01s eta 0:00:01��██████████████| 788kB 8.9MB/s \n",
      "\u001b[?25hCollecting google-auth-oauthlib<0.5,>=0.4.1 (from tensorboard<2.3.0,>=2.2.0->tensorflow==2.2.0)\n",
      "  Downloading https://files.pythonhosted.org/packages/81/67/e2c34bb0628984c7ce71cce6ba6964cb29c418873847fc285f826e032e6e/google_auth_oauthlib-0.4.2-py2.py3-none-any.whl\n",
      "Requirement already satisfied: importlib-metadata; python_version < \"3.8\" in /home/jupyterlab/conda/envs/python/lib/python3.6/site-packages (from markdown>=2.6.8->tensorboard<2.3.0,>=2.2.0->tensorflow==2.2.0) (3.1.1)\n",
      "Requirement already satisfied: chardet<4,>=3.0.2 in /home/jupyterlab/conda/envs/python/lib/python3.6/site-packages (from requests<3,>=2.21.0->tensorboard<2.3.0,>=2.2.0->tensorflow==2.2.0) (3.0.4)\n",
      "Requirement already satisfied: urllib3<1.27,>=1.21.1 in /home/jupyterlab/conda/envs/python/lib/python3.6/site-packages (from requests<3,>=2.21.0->tensorboard<2.3.0,>=2.2.0->tensorflow==2.2.0) (1.26.2)\n",
      "Requirement already satisfied: certifi>=2017.4.17 in /home/jupyterlab/conda/envs/python/lib/python3.6/site-packages (from requests<3,>=2.21.0->tensorboard<2.3.0,>=2.2.0->tensorflow==2.2.0) (2020.12.5)\n",
      "Requirement already satisfied: idna<3,>=2.5 in /home/jupyterlab/conda/envs/python/lib/python3.6/site-packages (from requests<3,>=2.21.0->tensorboard<2.3.0,>=2.2.0->tensorflow==2.2.0) (2.10)\n",
      "Collecting rsa<5,>=3.1.4; python_version >= \"3.6\" (from google-auth<2,>=1.6.3->tensorboard<2.3.0,>=2.2.0->tensorflow==2.2.0)\n",
      "  Using cached https://files.pythonhosted.org/packages/1c/df/c3587a667d6b308fadc90b99e8bc8774788d033efcc70f4ecaae7fad144b/rsa-4.6-py3-none-any.whl\n",
      "Collecting cachetools<5.0,>=2.0.0 (from google-auth<2,>=1.6.3->tensorboard<2.3.0,>=2.2.0->tensorflow==2.2.0)\n",
      "  Downloading https://files.pythonhosted.org/packages/92/da/d3c94fc7c72ad9298072681ec3e8cea86949acc5c4cce4290ba21f7050a8/cachetools-4.2.0-py3-none-any.whl\n",
      "Requirement already satisfied: pyasn1-modules>=0.2.1 in /home/jupyterlab/conda/envs/python/lib/python3.6/site-packages (from google-auth<2,>=1.6.3->tensorboard<2.3.0,>=2.2.0->tensorflow==2.2.0) (0.2.8)\n",
      "Collecting requests-oauthlib>=0.7.0 (from google-auth-oauthlib<0.5,>=0.4.1->tensorboard<2.3.0,>=2.2.0->tensorflow==2.2.0)\n",
      "  Using cached https://files.pythonhosted.org/packages/a3/12/b92740d845ab62ea4edf04d2f4164d82532b5a0b03836d4d4e71c6f3d379/requests_oauthlib-1.3.0-py2.py3-none-any.whl\n",
      "Requirement already satisfied: zipp>=0.5 in /home/jupyterlab/conda/envs/python/lib/python3.6/site-packages (from importlib-metadata; python_version < \"3.8\"->markdown>=2.6.8->tensorboard<2.3.0,>=2.2.0->tensorflow==2.2.0) (3.4.0)\n",
      "Requirement already satisfied: pyasn1>=0.1.3 in /home/jupyterlab/conda/envs/python/lib/python3.6/site-packages (from rsa<5,>=3.1.4; python_version >= \"3.6\"->google-auth<2,>=1.6.3->tensorboard<2.3.0,>=2.2.0->tensorflow==2.2.0) (0.4.8)\n",
      "Collecting oauthlib>=3.0.0 (from requests-oauthlib>=0.7.0->google-auth-oauthlib<0.5,>=0.4.1->tensorboard<2.3.0,>=2.2.0->tensorflow==2.2.0)\n",
      "\u001b[?25l  Downloading https://files.pythonhosted.org/packages/05/57/ce2e7a8fa7c0afb54a0581b14a65b56e62b5759dbc98e80627142b8a3704/oauthlib-3.1.0-py2.py3-none-any.whl (147kB)\n",
      "\u001b[K     |████████████████████████████████| 153kB 8.8MB/s eta 0:00:01\n",
      "\u001b[?25hBuilding wheels for collected packages: wrapt\n",
      "  Building wheel for wrapt (setup.py) ... \u001b[?25ldone\n",
      "\u001b[?25h  Stored in directory: /home/jupyterlab/.cache/pip/wheels/b1/c2/ed/d62208260edbd3fa7156545c00ef966f45f2063d0a84f8208a\n",
      "Successfully built wrapt\n",
      "Installing collected packages: opt-einsum, scipy, keras-preprocessing, tensorflow-estimator, google-pasta, astunparse, wrapt, h5py, gast, rsa, cachetools, google-auth, tensorboard-plugin-wit, oauthlib, requests-oauthlib, google-auth-oauthlib, tensorboard, tensorflow\n",
      "  Found existing installation: scipy 1.5.4\n",
      "    Uninstalling scipy-1.5.4:\n",
      "      Successfully uninstalled scipy-1.5.4\n",
      "  Found existing installation: h5py 2.8.0\n",
      "    Uninstalling h5py-2.8.0:\n",
      "      Successfully uninstalled h5py-2.8.0\n",
      "  Found existing installation: gast 0.4.0\n",
      "    Uninstalling gast-0.4.0:\n",
      "      Successfully uninstalled gast-0.4.0\n",
      "  Found existing installation: tensorboard 1.8.0\n",
      "    Uninstalling tensorboard-1.8.0:\n",
      "      Successfully uninstalled tensorboard-1.8.0\n",
      "  Found existing installation: tensorflow 1.8.0\n",
      "    Uninstalling tensorflow-1.8.0:\n",
      "      Successfully uninstalled tensorflow-1.8.0\n",
      "Successfully installed astunparse-1.6.3 cachetools-4.2.0 gast-0.3.3 google-auth-1.24.0 google-auth-oauthlib-0.4.2 google-pasta-0.2.0 h5py-2.10.0 keras-preprocessing-1.1.2 oauthlib-3.1.0 opt-einsum-3.3.0 requests-oauthlib-1.3.0 rsa-4.6 scipy-1.4.1 tensorboard-2.2.2 tensorboard-plugin-wit-1.7.0 tensorflow-2.2.0 tensorflow-estimator-2.2.0 wrapt-1.12.1\n",
      "Requirement already satisfied: pillow in /home/jupyterlab/conda/envs/python/lib/python3.6/site-packages (8.0.1)\n"
     ]
    }
   ],
   "source": [
    "!pip install grpcio==1.24.3\n",
    "!pip install tensorflow==2.2.0\n",
    "!pip install pillow"
   ]
  },
  {
   "cell_type": "markdown",
   "metadata": {},
   "source": [
    "<b>Notice:</b> This notebook has been created with TensorFlow version 2.2, and might not work with other versions. Therefore we check:\n"
   ]
  },
  {
   "cell_type": "code",
   "execution_count": 3,
   "metadata": {},
   "outputs": [],
   "source": [
    "import tensorflow as tf\n",
    "from IPython.display import Markdown, display\n",
    "\n",
    "def printmd(string):\n",
    "    display(Markdown('# <span style=\"color:red\">'+string+'</span>'))\n",
    "\n",
    "\n",
    "if not tf.__version__ == '2.2.0':\n",
    "    printmd('<<<<<!!!!! ERROR !!!! please upgrade to TensorFlow 2.2.0, or restart your Kernel (Kernel->Restart & Clear Output)>>>>>')"
   ]
  },
  {
   "cell_type": "markdown",
   "metadata": {},
   "source": [
    "Now, we load in all the packages that we use to create the net including the TensorFlow package:\n"
   ]
  },
  {
   "cell_type": "code",
   "execution_count": 4,
   "metadata": {},
   "outputs": [],
   "source": [
    "import tensorflow as tf\n",
    "import numpy as np\n",
    "\n",
    "from PIL import Image\n",
    "from utils import tile_raster_images\n",
    "import matplotlib.pyplot as plt\n",
    "%matplotlib inline"
   ]
  },
  {
   "cell_type": "markdown",
   "metadata": {},
   "source": [
    "<hr>\n"
   ]
  },
  {
   "cell_type": "markdown",
   "metadata": {},
   "source": [
    "<a id=\"ref2\"></a>\n",
    "\n",
    "<h3>RBM layers</h3>\n",
    "\n",
    "An RBM has two layers. The first layer of the RBM is called the <b>visible</b> (or input layer). Imagine that our toy example, has only vectors with 7 values, so the visible layer must have $V=7$ input nodes. \n",
    "The second layer is the <b>hidden</b> layer, which has $H$ neurons in our case. Each hidden node takes on values of either 0 or 1 (i.e., $h_i = 1$ or $h_i$ = 0), with a probability that is a logistic function of the inputs it receives from the other $V$ visible units, called for example, $p(h_i = 1)$. For our toy sample, we'll use 2 nodes in the hidden layer, so $H = 2$.\n",
    "\n",
    "<center><img src=\"https://ibm.box.com/shared/static/eu26opvcefgls6vnwuo29uwp0nudmokh.png\" alt=\"RBM Model\" style=\"width: 400px;\"></center>\n"
   ]
  },
  {
   "cell_type": "markdown",
   "metadata": {},
   "source": [
    "Each node in the first layer also has a <b>bias</b>. We will denote the bias as $v_{bias}$, and this single value is shared among the $V$ visible units.\n",
    "\n",
    "The <b>bias</b> of the second is defined similarly as $h_{bias}$, and this single value among the $H$ hidden units.\n"
   ]
  },
  {
   "cell_type": "code",
   "execution_count": 5,
   "metadata": {},
   "outputs": [],
   "source": [
    "v_bias = tf.Variable(tf.zeros([7]), tf.float32)\n",
    "h_bias = tf.Variable(tf.zeros([2]), tf.float32)"
   ]
  },
  {
   "cell_type": "markdown",
   "metadata": {},
   "source": [
    "We have to define weights among the input layer and hidden layer nodes. In the weight matrix, the number of rows are equal to the input nodes, and the number of columns are equal to the output nodes. We define a tensor $\\mathbf{W}$ of shape = (7,2), where the number of visible neurons = 7, and the number of hidden neurons = 2. \n"
   ]
  },
  {
   "cell_type": "code",
   "execution_count": 6,
   "metadata": {},
   "outputs": [],
   "source": [
    "W = tf.constant(np.random.normal(loc=0.0, scale=1.0, size=(7, 2)).astype(np.float32))"
   ]
  },
  {
   "cell_type": "markdown",
   "metadata": {},
   "source": [
    "<hr>\n"
   ]
  },
  {
   "cell_type": "markdown",
   "metadata": {},
   "source": [
    "<a id=\"ref3\"></a>\n",
    "\n",
    "<h3>What RBM can do after training?</h3>\n",
    "Think of RBM as a model that has been trained based on images of a dataset of many SUV and sedan cars. Also, imagine that the RBM network has only two hidden nodes, where one node encodes the weight and, and the other encodes the size.  \n",
    "In a sense, the different configurations represent different cars, where one is an SUV and the other is Sedan.  In a training process, through many forward and backward passes, the RBM adjust its weights to send a stronger signal to either the SUV node (0, 1) or the sedan node (1, 0) in the hidden layer, given the pixels of images. Now, given an SUV in hidden layer, which distribution of pixels should we expect? RBM can give you 2 things. First, it encodes your images in hidden layer. Second, it gives you the probability of observing a case, given some hidden values.\n",
    "\n",
    "<h3>The Inference Process</h3>\n",
    "\n",
    "RBM has two phases:\n",
    "\n",
    "<ul>\n",
    "    <li>Forward Pass</li>  \n",
    "    <li>Backward Pass or Reconstruction</li>\n",
    "</ul>\n",
    "\n",
    "<b>Phase 1) Forward pass:</b>  \n",
    "\n",
    "Input one training sample (one image) $\\mathbf{x}$ through all visible nodes, and pass it to all hidden nodes. Processing happens in each node in the hidden layer. This computation begins by making stochastic decisions about whether to transmit that input or not (i.e. to determine the state of each hidden layer).  First, the probability vector is computed using the input feature vector $\\mathbf{x}$, the weight matrix $\\mathbf{W}$, and the bias term $h_{bias}$, as \n",
    "\n",
    "$p({h_j}|\\mathbf x)= \\sigma(\\sum_{i=1}^V W_{ij} x_i + h_{bias} )$, \n",
    "\n",
    "where $\\sigma(z) = (1+e^{-z})^{-1}$ is the logistic function.\n",
    "\n",
    "So, what does $p({h_j})$ represent? It is the <b>probability distribution</b> of the hidden units. That is, RBM uses inputs $x_i$ to make predictions about hidden node activations. For example, imagine that the hidden node activation values are [0.51 0.84] for the first training item. It tells you that the conditional probability for each hidden neuron for Phase 1 is: \n",
    "\n",
    "$$p(h_{1} = 1|\\mathbf{v}) = 0.51$$\n",
    "$$p(h_{2} = 1|\\mathbf{v}) = 0.84$$\n",
    "\n",
    "As a result, for each row in the training set, vector of probabilities is generated.  In TensorFlow, this is referred to as a `tensor` with a shape of (1,2). \n",
    "\n",
    "We then turn unit $j$ with probability $p(h_{j}|\\mathbf{v})$, and turn it off with probability $1 - p(h_{j}|\\mathbf{v})$ by generating a uniform random number vector $\\mathbf{\\xi}$, and comparing it to the activation probability as \n",
    "\n",
    "<center>If $\\xi_j>p(h_{j}|\\mathbf{v})$, then $h_j=1$, else $h_j=0$.</center>\n",
    "\n",
    "Therefore, the conditional probability of a configuration of $\\mathbf{h}$ given $\\mathbf{v}$ (for a training sample) is:\n",
    "\n",
    "$$p(\\mathbf{h} \\mid \\mathbf{v}) = \\prod_{j=1}^H p(h_j \\mid \\mathbf{v})$$\n",
    "\n",
    "where $H$ is the number of hidden units.\n"
   ]
  },
  {
   "cell_type": "markdown",
   "metadata": {},
   "source": [
    "Before we go further, let's look at a toy example for one case out of all input. Assume that we have a trained RBM, and a very simple input vector, such as [1.0, 0.0, 0.0, 1.0, 0.0, 0.0, 0.0].  \n",
    "Let's see what the output of forward pass would look like:\n"
   ]
  },
  {
   "cell_type": "code",
   "execution_count": 7,
   "metadata": {},
   "outputs": [
    {
     "name": "stdout",
     "output_type": "stream",
     "text": [
      "Input:  tf.Tensor([[1. 0. 0. 1. 0. 0. 0.]], shape=(1, 7), dtype=float32)\n",
      "hb:  tf.Tensor([0.1 0.1], shape=(2,), dtype=float32)\n",
      "w:  tf.Tensor(\n",
      "[[-2.8130915  -1.7625539 ]\n",
      " [ 1.5210392   1.0963322 ]\n",
      " [-0.38982964 -0.3334722 ]\n",
      " [ 1.2256241   1.463868  ]\n",
      " [-1.2866994   0.40876633]\n",
      " [ 1.0431858   0.54402965]\n",
      " [ 1.1401461  -0.5810401 ]], shape=(7, 2), dtype=float32)\n",
      "p(h|v):  tf.Tensor([[0.18430217 0.45049128]], shape=(1, 2), dtype=float32)\n",
      "h0 states: tf.Tensor([[0. 1.]], shape=(1, 2), dtype=float32)\n"
     ]
    }
   ],
   "source": [
    "X = tf.constant([[1.0, 0.0, 0.0, 1.0, 0.0, 0.0, 0.0]], tf.float32)\n",
    "\n",
    "v_state = X\n",
    "print (\"Input: \", v_state)\n",
    "\n",
    "h_bias = tf.constant([0.1, 0.1])\n",
    "print (\"hb: \", h_bias)\n",
    "print (\"w: \", W)\n",
    "\n",
    "# Calculate the probabilities of turning the hidden units on:\n",
    "h_prob = tf.nn.sigmoid(tf.matmul(v_state, W) + h_bias)  #probabilities of the hidden units\n",
    "print (\"p(h|v): \", h_prob)\n",
    "\n",
    "# Draw samples from the distribution:\n",
    "h_state = tf.nn.relu(tf.sign(h_prob - tf.random.uniform(tf.shape(h_prob)))) #states\n",
    "print (\"h0 states:\", h_state)"
   ]
  },
  {
   "cell_type": "markdown",
   "metadata": {},
   "source": [
    "<b>Phase 2) Backward Pass (Reconstruction):</b>\n",
    "The RBM reconstructs data by making several forward and backward passes between the visible and hidden layers.\n",
    "\n",
    "So, in the second phase (i.e. reconstruction phase), the samples from the hidden layer (i.e. $\\mathbf h$) becomes the input in the backward pass. The same weight matrix and visible layer biases are used to passed to the sigmoid function. The reproduced output is a reconstruction which is an approximation of the original input.\n"
   ]
  },
  {
   "cell_type": "code",
   "execution_count": 8,
   "metadata": {},
   "outputs": [
    {
     "name": "stdout",
     "output_type": "stream",
     "text": [
      "b:  tf.Tensor([0.1 0.2 0.1 0.1 0.1 0.2 0.1], shape=(7,), dtype=float32)\n",
      "p(vi∣h):  tf.Tensor(\n",
      "[[0.15941946 0.78521705 0.44189566 0.8269077  0.62451726 0.6778764\n",
      "  0.38200656]], shape=(1, 7), dtype=float32)\n",
      "v probability states:  tf.Tensor([[0. 1. 0. 1. 1. 0. 0.]], shape=(1, 7), dtype=float32)\n"
     ]
    }
   ],
   "source": [
    "vb = tf.constant([0.1, 0.2, 0.1, 0.1, 0.1, 0.2, 0.1])\n",
    "print (\"b: \", vb)\n",
    "v_prob = tf.nn.sigmoid(tf.matmul(h_state, tf.transpose(W)) + vb)\n",
    "print (\"p(vi∣h): \", v_prob)\n",
    "v_state = tf.nn.relu(tf.sign(v_prob - tf.random.uniform(tf.shape(v_prob))))\n",
    "print (\"v probability states: \", v_state)"
   ]
  },
  {
   "cell_type": "markdown",
   "metadata": {},
   "source": [
    "RBM learns a probability distribution over the input, and then, after being trained, the RBM can generate new samples from the learned probability distribution. As you know, <b>probability distribution</b>, is a mathematical function that provides the probabilities of occurrence of different possible outcomes in an experiment.\n",
    "\n",
    "The (conditional) probability distribution over the visible units v is given by\n",
    "\n",
    "$p(\\mathbf{v} \\mid \\mathbf{h}) = \\prod_{i=1}^V p(v_i \\mid \\mathbf{h}),$\n",
    "\n",
    "where,\n",
    "\n",
    "$p(v_i \\mid \\mathbf{h}) = \\sigma\\left(\\sum_{j=1}^H W_{ji} h_j + v_{bias} \\right)$\n",
    "\n",
    "so, given current state of hidden units and weights, what is the probability of generating [1. 0. 0. 1. 0. 0. 0.] in reconstruction phase, based on the above <b>probability distribution</b> function?\n"
   ]
  },
  {
   "cell_type": "code",
   "execution_count": 9,
   "metadata": {},
   "outputs": [
    {
     "name": "stdout",
     "output_type": "stream",
     "text": [
      "input X: [[1. 0. 0. 1. 0. 0. 0.]]\n",
      "probablity vector: [0.15941946 0.78521705 0.44189566 0.8269077  0.62451726 0.6778764\n",
      " 0.38200656]\n",
      "probability of generating X:  0.0011811635\n"
     ]
    }
   ],
   "source": [
    "inp = X\n",
    "print(\"input X:\" , inp.numpy())\n",
    "\n",
    "print(\"probablity vector:\" , v_prob[0].numpy())\n",
    "v_probability = 1\n",
    "\n",
    "for elm, p in zip(inp[0],v_prob[0]) :\n",
    "    if elm ==1:\n",
    "        v_probability *= p\n",
    "    else:\n",
    "        v_probability *= (1-p)\n",
    "\n",
    "print(\"probability of generating X: \" , v_probability.numpy())"
   ]
  },
  {
   "cell_type": "markdown",
   "metadata": {},
   "source": [
    "How similar are vectors $\\mathbf{x}$ and $\\mathbf{v}$? Of course, the reconstructed values most likely will not look anything like the input vector, because our network has not been trained yet. Our objective is to train the model in such a way that the input vector and reconstructed vector to be same. Therefore, based on how different the input values look to the ones that we just reconstructed, the weights are adjusted. \n"
   ]
  },
  {
   "cell_type": "markdown",
   "metadata": {},
   "source": [
    "<hr>\n"
   ]
  },
  {
   "cell_type": "markdown",
   "metadata": {},
   "source": [
    "<h2>MNIST</h2>\n"
   ]
  },
  {
   "cell_type": "markdown",
   "metadata": {},
   "source": [
    "We will be using the MNIST dataset to practice the usage of RBMs. The following cell loads the MNIST dataset.\n"
   ]
  },
  {
   "cell_type": "code",
   "execution_count": 10,
   "metadata": {},
   "outputs": [
    {
     "name": "stdout",
     "output_type": "stream",
     "text": [
      "Downloading data from https://storage.googleapis.com/tensorflow/tf-keras-datasets/mnist.npz\n",
      "11493376/11490434 [==============================] - 0s 0us/step\n"
     ]
    }
   ],
   "source": [
    "#loading training and test data\n",
    "mnist = tf.keras.datasets.mnist\n",
    "(trX, trY), (teX, teY) = mnist.load_data()\n",
    "\n",
    "# showing an example of the Flatten class and operation\n",
    "from tensorflow.keras.layers import Flatten\n",
    "flatten = Flatten(dtype='float32')\n",
    "trX = flatten(trX/255.0)\n",
    "trY = flatten(trY/255.0)"
   ]
  },
  {
   "cell_type": "markdown",
   "metadata": {},
   "source": [
    "Lets look at the dimension of the images.\n"
   ]
  },
  {
   "cell_type": "markdown",
   "metadata": {},
   "source": [
    "MNIST images have 784 pixels, so the visible layer must have 784 input nodes.  For our case, we'll use 50 nodes in the hidden layer, so i = 50.\n"
   ]
  },
  {
   "cell_type": "code",
   "execution_count": 11,
   "metadata": {},
   "outputs": [],
   "source": [
    "vb = tf.Variable(tf.zeros([784]), tf.float32)\n",
    "hb = tf.Variable(tf.zeros([50]), tf.float32)"
   ]
  },
  {
   "cell_type": "markdown",
   "metadata": {},
   "source": [
    "Let $\\mathbf W$ be the Tensor of 784x50 (784 - number of visible neurons, 50 - number of hidden neurons) that represents weights between the neurons. \n"
   ]
  },
  {
   "cell_type": "code",
   "execution_count": 12,
   "metadata": {},
   "outputs": [],
   "source": [
    "W = tf.Variable(tf.zeros([784,50]), tf.float32)"
   ]
  },
  {
   "cell_type": "markdown",
   "metadata": {},
   "source": [
    "Lets define the visible layer:\n"
   ]
  },
  {
   "cell_type": "code",
   "execution_count": 15,
   "metadata": {},
   "outputs": [
    {
     "data": {
      "text/plain": [
       "<tf.Tensor: shape=(1, 50), dtype=float32, numpy=\n",
       "array([[0., 0., 0., 0., 0., 0., 0., 0., 0., 0., 0., 0., 0., 0., 0., 0.,\n",
       "        0., 0., 0., 0., 0., 0., 0., 0., 0., 0., 0., 0., 0., 0., 0., 0.,\n",
       "        0., 0., 0., 0., 0., 0., 0., 0., 0., 0., 0., 0., 0., 0., 0., 0.,\n",
       "        0., 0.]], dtype=float32)>"
      ]
     },
     "execution_count": 15,
     "metadata": {},
     "output_type": "execute_result"
    }
   ],
   "source": [
    "v0_state = tf.Variable(tf.zeros([784]), tf.float32)\n",
    "\n",
    "#testing to see if the matrix product works\n",
    "tf.matmul( [v0_state], W)"
   ]
  },
  {
   "cell_type": "markdown",
   "metadata": {},
   "source": [
    "Now, we can define hidden layer:\n"
   ]
  },
  {
   "cell_type": "code",
   "execution_count": 16,
   "metadata": {},
   "outputs": [
    {
     "name": "stdout",
     "output_type": "stream",
     "text": [
      "h0_state shape:  tf.Tensor([ 1 50], shape=(2,), dtype=int32)\n",
      "first 15 hidden states:  tf.Tensor([1. 0. 1. 1. 1. 0. 0. 0. 1. 0. 1. 1. 1. 1. 0.], shape=(15,), dtype=float32)\n"
     ]
    }
   ],
   "source": [
    "#computing the hidden nodes probability vector and checking shape\n",
    "h0_prob = tf.nn.sigmoid(tf.matmul([v0_state], W) + hb)  #probabilities of the hidden units\n",
    "print(\"h0_state shape: \" , tf.shape(h0_prob))\n",
    "\n",
    "#defining a function to return only the generated hidden states \n",
    "def hidden_layer(v0_state, W, hb):\n",
    "    h0_prob = tf.nn.sigmoid(tf.matmul([v0_state], W) + hb)  #probabilities of the hidden units\n",
    "    h0_state = tf.nn.relu(tf.sign(h0_prob - tf.random.uniform(tf.shape(h0_prob)))) #sample_h_given_X\n",
    "    return h0_state\n",
    "\n",
    "\n",
    "h0_state = hidden_layer(v0_state, W, hb)\n",
    "print(\"first 15 hidden states: \", h0_state[0][0:15])"
   ]
  },
  {
   "cell_type": "markdown",
   "metadata": {},
   "source": [
    "Now, we define reconstruction part:\n"
   ]
  },
  {
   "cell_type": "code",
   "execution_count": 17,
   "metadata": {},
   "outputs": [
    {
     "name": "stdout",
     "output_type": "stream",
     "text": [
      "hidden state shape:  (1, 50)\n",
      "v0 state shape:   (784,)\n",
      "v1 state shape:   (784,)\n"
     ]
    }
   ],
   "source": [
    "def reconstructed_output(h0_state, W, vb):\n",
    "    v1_prob = tf.nn.sigmoid(tf.matmul(h0_state, tf.transpose(W)) + vb) \n",
    "    v1_state = tf.nn.relu(tf.sign(v1_prob - tf.random.uniform(tf.shape(v1_prob)))) #sample_v_given_h\n",
    "    return v1_state[0]\n",
    "\n",
    "v1_state = reconstructed_output(h0_state, W, vb)\n",
    "print(\"hidden state shape: \", h0_state.shape)\n",
    "print(\"v0 state shape:  \", v0_state.shape)\n",
    "print(\"v1 state shape:  \", v1_state.shape)"
   ]
  },
  {
   "cell_type": "markdown",
   "metadata": {},
   "source": [
    "<h3>What is the objective function?</h3>\n",
    "\n",
    "<b>Goal</b>: Maximize the likelihood of our data being drawn from that distribution\n",
    "\n",
    "<b>Calculate error:</b>  \n",
    "In each epoch, we compute the \"error\" as a sum of the squared difference between step 1 and step n,\n",
    "e.g the error shows the difference between the data and its reconstruction.\n",
    "\n",
    "<b>Note:</b> tf.reduce_mean computes the mean of elements across dimensions of a tensor.\n"
   ]
  },
  {
   "cell_type": "code",
   "execution_count": 18,
   "metadata": {},
   "outputs": [
    {
     "name": "stdout",
     "output_type": "stream",
     "text": [
      "error 0.4719388\n"
     ]
    }
   ],
   "source": [
    "def error(v0_state, v1_state):\n",
    "    return tf.reduce_mean(tf.square(v0_state - v1_state))\n",
    "\n",
    "err = tf.reduce_mean(tf.square(v0_state - v1_state))\n",
    "print(\"error\" , err.numpy())"
   ]
  },
  {
   "cell_type": "markdown",
   "metadata": {},
   "source": [
    "<a id=\"ref4\"></a>\n",
    "\n",
    "<h3>Training the Model</h3>\n",
    "<b>Warning...</b> The following part is math-heavy, but you can skip it if you just want to run the cells in the next section.\n",
    "\n",
    "As mentioned, we want to give a high probability to the input data we train on. So, in order to train an RBM, we have to maximize the product of probabilities assigned to all rows $\\mathbf{v}$ (images) in the training set $\\mathbf{V}$ (a matrix, where each row of it is treated as a visible vector $\\mathbf{v}$)\n",
    "\n",
    "$$\\arg\\max_W\\prod_{\\mathbf{v}\\in\\mathbf{V}_T}p(\\mathbf{v}),$$\n",
    "\n",
    "which is equivalent to maximizing the expectation of the log probability, given as\n",
    "\n",
    "$$\\arg\\max_W\\left[ \\mathbb{E} \\left(\\prod_{\\mathbf v\\in \\mathbf V}\\text{log} \\left(p(\\mathbf v)\\right) \\right) \\right].$$\n",
    "\n",
    "So, we have to update the weights $W_{ij}$  to increase $p(\\mathbf{v})$ for all $\\mathbf{v}$ in our training data during training. So we have to calculate the derivative:\n",
    "\n",
    "$$\\frac{\\partial \\log p(\\mathbf v)}{\\partial W_{ij}}$$\n",
    "\n",
    "This cannot be easily done by typical <b>gradient descent (SGD)</b>, so we can use another approach, which has 2 steps:\n",
    "\n",
    "<ol>\n",
    "    <li>Gibbs Sampling</li>\n",
    "    <li>Contrastive Divergence</li>\n",
    "</ol>    \n",
    "    \n",
    "<h3>Gibbs Sampling</h3>   \n",
    "\n",
    "<h4>Gibbs Sampling Step 1</h4> \n",
    "Given an input vector $\\mathbf{v}$, we are using $p(\\mathbf{h}|\\mathbf{v})$ to predict the hidden values $\\mathbf{h}$. \n",
    "  $$p({h_j}|\\mathbf v)= \\sigma\\left(\\sum_{i=1}^V W_{ij} v_i + h_{bias} \\right)$$\n",
    "The samples are generated from this distribution by generating the uniform random variate vector $\\mathbf{\\xi} \\sim U[0,1]$ of length $H$ and comparing to the computed probabilities as\n",
    "\n",
    "<center>If $\\xi_j>p(h_{j}|\\mathbf{v})$, then $h_j=1$, else $h_j=0$.</center>\n",
    "\n",
    "<h4>Gibbs Sampling Step 2</h4> \n",
    "Then, knowing the hidden values, we use $p(\\mathbf v| \\mathbf h)$ for reconstructing of new input values v. \n",
    "\n",
    "   $$p({v_i}|\\mathbf h)= \\sigma\\left(\\sum_{j=1}^H W^{T}_{ij} h_j + v_{bias} \\right)$$\n",
    "\n",
    "The samples are generated from this distribution by generating a uniform random variate vector $\\mathbf{\\xi} \\sim U[0,1]$ of length $V$ and comparing to the computed probabilities as\n",
    "\n",
    "<center>If $\\xi_i>p(v_{i}|\\mathbf{h})$, then $v_i=1$, else $v_i=0$.</center>\n",
    "\n",
    "Let vectors $\\mathbf v_k$ and $\\mathbf h_k$ be for the $k$th iteration.  In general, the $kth$ state is generrated as: \n",
    "\n",
    "<b>Iteration</b> $k$: \n",
    "\n",
    "$$\\mathbf v_{k-1} \\Rightarrow p(\\mathbf h_{k-1}|\\mathbf v_{k-1})\\Rightarrow \\mathbf h_{k-1}\\Rightarrow p(\\mathbf v_{k}|\\mathbf h_{k-1})\\Rightarrow \\mathbf v_k$$       \n",
    "\n",
    "<h3>Contrastive Divergence (CD-k)</h3>\n",
    "The update of the weight matrix is done during the Contrastive Divergence step. \n",
    "\n",
    "Vectors v0 and vk are used to calculate the activation probabilities for hidden values h0 and hk. The difference between the outer products of those probabilities with input vectors v0 and vk results in the update matrix:\n",
    "\n",
    "$\\Delta \\mathbf W_k =\\mathbf v_k \\otimes \\mathbf h_k - \\mathbf v_{k-1} \\otimes \\mathbf h_{k-1}$ \n",
    "\n",
    "Contrastive Divergence is actually matrix of values that is computed and used to adjust values of the $\\mathbf W$ matrix. Changing $\\mathbf W$ incrementally leads to training of the  $\\mathbf W$ values. Then, on each step (epoch), $\\mathbf W$ is updated using the following:\n",
    "\n",
    "$\\mathbf W_k = \\mathbf W_{k-1} + \\alpha * \\Delta \\mathbf W_k$ \n",
    "\n",
    "Reconstruction steps:\n",
    "\n",
    "<ul>\n",
    "    <li> Get one data point from data set, like <i>x</i>, and pass it through the following steps:</li>\n",
    "    \n",
    "<b>Iteration</b> $k=1$: \n",
    "    \n",
    "Sampling (starting with input image)\n",
    "    $$\\mathbf x = \\mathbf v_0 \\Rightarrow p(\\mathbf h_0|\\mathbf v_0)\\Rightarrow \\mathbf h_0 \\Rightarrow p(\\mathbf v_1|\\mathbf h_0)\\Rightarrow \\mathbf v_1$$   \n",
    "    followed by the CD-k step\n",
    "$$\\Delta \\mathbf W_1 =\\mathbf v_1 \\otimes \\mathbf h_1 - \\mathbf v_{0} \\otimes \\mathbf h_{0}$$     \n",
    "$$\\mathbf W_1 = \\mathbf W_{0} + \\alpha * \\Delta \\mathbf W_1$$ \n",
    " \n",
    "<li> $\\mathbf v_1$ is the reconstruction of $\\mathbf x$ sent to the next iteration).</li>\n",
    "\n",
    "<b>Iteration</b> $k=2$: \n",
    "\n",
    "Sampling (starting with $\\mathbf v_1$)\n",
    "\n",
    "$$\\mathbf v_1 \\Rightarrow p(\\mathbf h_1|\\mathbf v_1)\\Rightarrow \\mathbf h_1\\Rightarrow p(\\mathbf v_2|\\mathbf h_1)\\Rightarrow \\mathbf v_2$$   \n",
    "\n",
    "followed by the CD-k step\n",
    "$$\\Delta \\mathbf W_2 =\\mathbf v_2 \\otimes \\mathbf h_2 - \\mathbf v_{1} \\otimes \\mathbf h_{1}$$  \n",
    "$$\\mathbf W_2 = \\mathbf W_{1} + \\alpha * \\Delta \\mathbf W_2$$ \n",
    "\n",
    "<li> $\\mathbf v_2$ is the reconstruction of $\\mathbf v_1$ sent to the next iteration).</li>    \n",
    "      \n",
    "<b>Iteration</b> $k=K$:\n",
    "    \n",
    "Sampling (starting with $\\mathbf v_{K-1}$)\n",
    "\n",
    "$$\\mathbf v_{K-1} \\Rightarrow p(\\mathbf h_{K-1}|\\mathbf v_{K-1})\\Rightarrow \\mathbf h_{K-1}\\Rightarrow p(\\mathbf v_K|\\mathbf h_{K-1})\\Rightarrow \\mathbf v_K$$   \n",
    "\n",
    "followed by the CD-k step\n",
    "$$\\Delta \\mathbf W_K =\\mathbf v_K \\otimes \\mathbf h_K - \\mathbf v_{K-1} \\otimes \\mathbf h_{K-1}$$  \n",
    "$$\\mathbf W_K = \\mathbf W_{K-1} + \\alpha * \\Delta \\mathbf W_K$$ \n",
    "\n",
    "<b>What is $\\alpha$?</b>  \n",
    "Here, alpha is some small step size, and is also known as the \"learning rate\".\n"
   ]
  },
  {
   "cell_type": "markdown",
   "metadata": {},
   "source": [
    "$K$ is adjustable, and good performance can be achieved with $K=1$, so that we just take one set of sampling steps per image.\n"
   ]
  },
  {
   "cell_type": "code",
   "execution_count": 19,
   "metadata": {},
   "outputs": [],
   "source": [
    "h1_prob = tf.nn.sigmoid(tf.matmul([v1_state], W) + hb)\n",
    "h1_state = tf.nn.relu(tf.sign(h1_prob - tf.random.uniform(tf.shape(h1_prob)))) #sample_h_given_X"
   ]
  },
  {
   "cell_type": "markdown",
   "metadata": {},
   "source": [
    "Lets look at the error of the first run:\n"
   ]
  },
  {
   "cell_type": "code",
   "execution_count": 20,
   "metadata": {},
   "outputs": [
    {
     "name": "stdout",
     "output_type": "stream",
     "text": [
      "error:  tf.Tensor(0.4719388, shape=(), dtype=float32)\n"
     ]
    }
   ],
   "source": [
    "print(\"error: \", error(v0_state, v1_state))"
   ]
  },
  {
   "cell_type": "code",
   "execution_count": 21,
   "metadata": {},
   "outputs": [
    {
     "name": "stdout",
     "output_type": "stream",
     "text": [
      "Epoch: 0 batch #: 1  of 300 sample #: 199 reconstruction error: 0.165329\n",
      "Epoch: 0 batch #: 2  of 300 sample #: 199 reconstruction error: 0.233191\n",
      "Epoch: 0 batch #: 3  of 300 sample #: 199 reconstruction error: 0.102157\n",
      "Epoch: 0 batch #: 4  of 300 sample #: 199 reconstruction error: 0.115402\n",
      "Epoch: 0 batch #: 5  of 300 sample #: 199 reconstruction error: 0.094556\n",
      "Epoch: 0 batch #: 6  of 300 sample #: 199 reconstruction error: 0.175624\n",
      "Epoch: 0 batch #: 7  of 300 sample #: 199 reconstruction error: 0.098488\n",
      "Epoch: 0 batch #: 8  of 300 sample #: 199 reconstruction error: 0.118618\n",
      "Epoch: 0 batch #: 9  of 300 sample #: 199 reconstruction error: 0.088413\n",
      "Epoch: 0 batch #: 10  of 300 sample #: 199 reconstruction error: 0.180923\n",
      "Epoch: 0 batch #: 11  of 300 sample #: 199 reconstruction error: 0.106202\n",
      "Epoch: 0 batch #: 12  of 300 sample #: 199 reconstruction error: 0.158219\n",
      "Epoch: 0 batch #: 13  of 300 sample #: 199 reconstruction error: 0.062688\n",
      "Epoch: 0 batch #: 14  of 300 sample #: 199 reconstruction error: 0.104428\n",
      "Epoch: 0 batch #: 15  of 300 sample #: 199 reconstruction error: 0.107829\n",
      "Epoch: 0 batch #: 16  of 300 sample #: 199 reconstruction error: 0.106882\n",
      "Epoch: 0 batch #: 17  of 300 sample #: 199 reconstruction error: 0.058686\n",
      "Epoch: 0 batch #: 18  of 300 sample #: 199 reconstruction error: 0.119890\n",
      "Epoch: 0 batch #: 19  of 300 sample #: 199 reconstruction error: 0.136934\n",
      "Epoch: 0 batch #: 20  of 300 sample #: 199 reconstruction error: 0.103582\n",
      "Epoch: 0 batch #: 21  of 300 sample #: 199 reconstruction error: 0.098062\n",
      "Epoch: 0 batch #: 22  of 300 sample #: 199 reconstruction error: 0.103374\n",
      "Epoch: 0 batch #: 23  of 300 sample #: 199 reconstruction error: 0.117302\n",
      "Epoch: 0 batch #: 24  of 300 sample #: 199 reconstruction error: 0.144142\n",
      "Epoch: 0 batch #: 25  of 300 sample #: 199 reconstruction error: 0.085164\n",
      "Epoch: 0 batch #: 26  of 300 sample #: 199 reconstruction error: 0.111687\n",
      "Epoch: 0 batch #: 27  of 300 sample #: 199 reconstruction error: 0.096903\n",
      "Epoch: 0 batch #: 28  of 300 sample #: 199 reconstruction error: 0.098441\n",
      "Epoch: 0 batch #: 29  of 300 sample #: 199 reconstruction error: 0.089046\n",
      "Epoch: 0 batch #: 30  of 300 sample #: 199 reconstruction error: 0.079740\n",
      "Epoch: 0 batch #: 31  of 300 sample #: 199 reconstruction error: 0.092719\n",
      "Epoch: 0 batch #: 32  of 300 sample #: 199 reconstruction error: 0.116148\n",
      "Epoch: 0 batch #: 33  of 300 sample #: 199 reconstruction error: 0.067331\n",
      "Epoch: 0 batch #: 34  of 300 sample #: 199 reconstruction error: 0.066317\n",
      "Epoch: 0 batch #: 35  of 300 sample #: 199 reconstruction error: 0.063536\n",
      "Epoch: 0 batch #: 36  of 300 sample #: 199 reconstruction error: 0.100455\n",
      "Epoch: 0 batch #: 37  of 300 sample #: 199 reconstruction error: 0.063124\n",
      "Epoch: 0 batch #: 38  of 300 sample #: 199 reconstruction error: 0.059164\n",
      "Epoch: 0 batch #: 39  of 300 sample #: 199 reconstruction error: 0.088050\n",
      "Epoch: 0 batch #: 40  of 300 sample #: 199 reconstruction error: 0.109483\n",
      "Epoch: 0 batch #: 41  of 300 sample #: 199 reconstruction error: 0.079123\n",
      "Epoch: 0 batch #: 42  of 300 sample #: 199 reconstruction error: 0.062083\n",
      "Epoch: 0 batch #: 43  of 300 sample #: 199 reconstruction error: 0.110968\n",
      "Epoch: 0 batch #: 44  of 300 sample #: 199 reconstruction error: 0.089157\n",
      "Epoch: 0 batch #: 45  of 300 sample #: 199 reconstruction error: 0.066269\n",
      "Epoch: 0 batch #: 46  of 300 sample #: 199 reconstruction error: 0.036458\n",
      "Epoch: 0 batch #: 47  of 300 sample #: 199 reconstruction error: 0.041411\n",
      "Epoch: 0 batch #: 48  of 300 sample #: 199 reconstruction error: 0.036870\n",
      "Epoch: 0 batch #: 49  of 300 sample #: 199 reconstruction error: 0.125593\n",
      "Epoch: 0 batch #: 50  of 300 sample #: 199 reconstruction error: 0.053384\n",
      "Epoch: 0 batch #: 51  of 300 sample #: 199 reconstruction error: 0.062235\n",
      "Epoch: 0 batch #: 52  of 300 sample #: 199 reconstruction error: 0.047235\n",
      "Epoch: 0 batch #: 53  of 300 sample #: 199 reconstruction error: 0.079962\n",
      "Epoch: 0 batch #: 54  of 300 sample #: 199 reconstruction error: 0.053820\n",
      "Epoch: 0 batch #: 55  of 300 sample #: 199 reconstruction error: 0.119313\n",
      "Epoch: 0 batch #: 56  of 300 sample #: 199 reconstruction error: 0.053695\n",
      "Epoch: 0 batch #: 57  of 300 sample #: 199 reconstruction error: 0.046959\n",
      "Epoch: 0 batch #: 58  of 300 sample #: 199 reconstruction error: 0.079939\n",
      "Epoch: 0 batch #: 59  of 300 sample #: 199 reconstruction error: 0.044996\n",
      "Epoch: 0 batch #: 60  of 300 sample #: 199 reconstruction error: 0.112152\n",
      "Epoch: 0 batch #: 61  of 300 sample #: 199 reconstruction error: 0.064771\n",
      "Epoch: 0 batch #: 62  of 300 sample #: 199 reconstruction error: 0.071415\n",
      "Epoch: 0 batch #: 63  of 300 sample #: 199 reconstruction error: 0.048028\n",
      "Epoch: 0 batch #: 64  of 300 sample #: 199 reconstruction error: 0.096447\n",
      "Epoch: 0 batch #: 65  of 300 sample #: 199 reconstruction error: 0.099315\n",
      "Epoch: 0 batch #: 66  of 300 sample #: 199 reconstruction error: 0.053328\n",
      "Epoch: 0 batch #: 67  of 300 sample #: 199 reconstruction error: 0.056007\n",
      "Epoch: 0 batch #: 68  of 300 sample #: 199 reconstruction error: 0.063914\n",
      "Epoch: 0 batch #: 69  of 300 sample #: 199 reconstruction error: 0.085028\n",
      "Epoch: 0 batch #: 70  of 300 sample #: 199 reconstruction error: 0.068992\n",
      "Epoch: 0 batch #: 71  of 300 sample #: 199 reconstruction error: 0.079826\n",
      "Epoch: 0 batch #: 72  of 300 sample #: 199 reconstruction error: 0.079883\n",
      "Epoch: 0 batch #: 73  of 300 sample #: 199 reconstruction error: 0.085078\n",
      "Epoch: 0 batch #: 74  of 300 sample #: 199 reconstruction error: 0.091073\n",
      "Epoch: 0 batch #: 75  of 300 sample #: 199 reconstruction error: 0.058657\n",
      "Epoch: 0 batch #: 76  of 300 sample #: 199 reconstruction error: 0.076085\n",
      "Epoch: 0 batch #: 77  of 300 sample #: 199 reconstruction error: 0.093991\n",
      "Epoch: 0 batch #: 78  of 300 sample #: 199 reconstruction error: 0.100258\n",
      "Epoch: 0 batch #: 79  of 300 sample #: 199 reconstruction error: 0.105676\n",
      "Epoch: 0 batch #: 80  of 300 sample #: 199 reconstruction error: 0.026254\n",
      "Epoch: 0 batch #: 81  of 300 sample #: 199 reconstruction error: 0.056091\n",
      "Epoch: 0 batch #: 82  of 300 sample #: 199 reconstruction error: 0.053210\n",
      "Epoch: 0 batch #: 83  of 300 sample #: 199 reconstruction error: 0.078891\n",
      "Epoch: 0 batch #: 84  of 300 sample #: 199 reconstruction error: 0.072666\n",
      "Epoch: 0 batch #: 85  of 300 sample #: 199 reconstruction error: 0.046283\n",
      "Epoch: 0 batch #: 86  of 300 sample #: 199 reconstruction error: 0.077671\n",
      "Epoch: 0 batch #: 87  of 300 sample #: 199 reconstruction error: 0.074960\n",
      "Epoch: 0 batch #: 88  of 300 sample #: 199 reconstruction error: 0.025626\n",
      "Epoch: 0 batch #: 89  of 300 sample #: 199 reconstruction error: 0.064655\n",
      "Epoch: 0 batch #: 90  of 300 sample #: 199 reconstruction error: 0.068307\n",
      "Epoch: 0 batch #: 91  of 300 sample #: 199 reconstruction error: 0.074221\n",
      "Epoch: 0 batch #: 92  of 300 sample #: 199 reconstruction error: 0.068950\n",
      "Epoch: 0 batch #: 93  of 300 sample #: 199 reconstruction error: 0.116813\n",
      "Epoch: 0 batch #: 94  of 300 sample #: 199 reconstruction error: 0.110604\n",
      "Epoch: 0 batch #: 95  of 300 sample #: 199 reconstruction error: 0.060428\n",
      "Epoch: 0 batch #: 96  of 300 sample #: 199 reconstruction error: 0.049844\n",
      "Epoch: 0 batch #: 97  of 300 sample #: 199 reconstruction error: 0.107616\n",
      "Epoch: 0 batch #: 98  of 300 sample #: 199 reconstruction error: 0.091065\n",
      "Epoch: 0 batch #: 99  of 300 sample #: 199 reconstruction error: 0.061998\n",
      "Epoch: 0 batch #: 100  of 300 sample #: 199 reconstruction error: 0.098409\n",
      "Epoch: 0 batch #: 101  of 300 sample #: 199 reconstruction error: 0.079694\n",
      "Epoch: 0 batch #: 102  of 300 sample #: 199 reconstruction error: 0.060908\n",
      "Epoch: 0 batch #: 103  of 300 sample #: 199 reconstruction error: 0.069436\n",
      "Epoch: 0 batch #: 104  of 300 sample #: 199 reconstruction error: 0.073559\n",
      "Epoch: 0 batch #: 105  of 300 sample #: 199 reconstruction error: 0.054339\n",
      "Epoch: 0 batch #: 106  of 300 sample #: 199 reconstruction error: 0.112319\n",
      "Epoch: 0 batch #: 107  of 300 sample #: 199 reconstruction error: 0.143870\n",
      "Epoch: 0 batch #: 108  of 300 sample #: 199 reconstruction error: 0.061764\n",
      "Epoch: 0 batch #: 109  of 300 sample #: 199 reconstruction error: 0.113206\n",
      "Epoch: 0 batch #: 110  of 300 sample #: 199 reconstruction error: 0.064444\n",
      "Epoch: 0 batch #: 111  of 300 sample #: 199 reconstruction error: 0.124511\n",
      "Epoch: 0 batch #: 112  of 300 sample #: 199 reconstruction error: 0.043142\n",
      "Epoch: 0 batch #: 113  of 300 sample #: 199 reconstruction error: 0.079551\n",
      "Epoch: 0 batch #: 114  of 300 sample #: 199 reconstruction error: 0.073004\n",
      "Epoch: 0 batch #: 115  of 300 sample #: 199 reconstruction error: 0.063692\n",
      "Epoch: 0 batch #: 116  of 300 sample #: 199 reconstruction error: 0.047304\n",
      "Epoch: 0 batch #: 117  of 300 sample #: 199 reconstruction error: 0.045854\n",
      "Epoch: 0 batch #: 118  of 300 sample #: 199 reconstruction error: 0.072975\n",
      "Epoch: 0 batch #: 119  of 300 sample #: 199 reconstruction error: 0.121672\n",
      "Epoch: 0 batch #: 120  of 300 sample #: 199 reconstruction error: 0.068063\n",
      "Epoch: 0 batch #: 121  of 300 sample #: 199 reconstruction error: 0.051666\n",
      "Epoch: 0 batch #: 122  of 300 sample #: 199 reconstruction error: 0.094480\n",
      "Epoch: 0 batch #: 123  of 300 sample #: 199 reconstruction error: 0.069925\n",
      "Epoch: 0 batch #: 124  of 300 sample #: 199 reconstruction error: 0.072629\n",
      "Epoch: 0 batch #: 125  of 300 sample #: 199 reconstruction error: 0.051369\n",
      "Epoch: 0 batch #: 126  of 300 sample #: 199 reconstruction error: 0.072692\n",
      "Epoch: 0 batch #: 127  of 300 sample #: 199 reconstruction error: 0.102845\n",
      "Epoch: 0 batch #: 128  of 300 sample #: 199 reconstruction error: 0.068472\n",
      "Epoch: 0 batch #: 129  of 300 sample #: 199 reconstruction error: 0.057208\n",
      "Epoch: 0 batch #: 130  of 300 sample #: 199 reconstruction error: 0.071577\n",
      "Epoch: 0 batch #: 131  of 300 sample #: 199 reconstruction error: 0.064708\n",
      "Epoch: 0 batch #: 132  of 300 sample #: 199 reconstruction error: 0.038908\n",
      "Epoch: 0 batch #: 133  of 300 sample #: 199 reconstruction error: 0.054579\n",
      "Epoch: 0 batch #: 134  of 300 sample #: 199 reconstruction error: 0.114495\n",
      "Epoch: 0 batch #: 135  of 300 sample #: 199 reconstruction error: 0.081978\n",
      "Epoch: 0 batch #: 136  of 300 sample #: 199 reconstruction error: 0.120632\n",
      "Epoch: 0 batch #: 137  of 300 sample #: 199 reconstruction error: 0.076999\n",
      "Epoch: 0 batch #: 138  of 300 sample #: 199 reconstruction error: 0.084072\n",
      "Epoch: 0 batch #: 139  of 300 sample #: 199 reconstruction error: 0.074120\n",
      "Epoch: 0 batch #: 140  of 300 sample #: 199 reconstruction error: 0.072189\n",
      "Epoch: 0 batch #: 141  of 300 sample #: 199 reconstruction error: 0.093895\n",
      "Epoch: 0 batch #: 142  of 300 sample #: 199 reconstruction error: 0.067914\n",
      "Epoch: 0 batch #: 143  of 300 sample #: 199 reconstruction error: 0.056271\n",
      "Epoch: 0 batch #: 144  of 300 sample #: 199 reconstruction error: 0.057439\n",
      "Epoch: 0 batch #: 145  of 300 sample #: 199 reconstruction error: 0.095447\n",
      "Epoch: 0 batch #: 146  of 300 sample #: 199 reconstruction error: 0.113789\n",
      "Epoch: 0 batch #: 147  of 300 sample #: 199 reconstruction error: 0.076338\n",
      "Epoch: 0 batch #: 148  of 300 sample #: 199 reconstruction error: 0.084328\n",
      "Epoch: 0 batch #: 149  of 300 sample #: 199 reconstruction error: 0.042327\n",
      "Epoch: 0 batch #: 150  of 300 sample #: 199 reconstruction error: 0.062867\n",
      "Epoch: 0 batch #: 151  of 300 sample #: 199 reconstruction error: 0.118841\n",
      "Epoch: 0 batch #: 152  of 300 sample #: 199 reconstruction error: 0.092993\n",
      "Epoch: 0 batch #: 153  of 300 sample #: 199 reconstruction error: 0.054945\n",
      "Epoch: 0 batch #: 154  of 300 sample #: 199 reconstruction error: 0.084221\n",
      "Epoch: 0 batch #: 155  of 300 sample #: 199 reconstruction error: 0.060872\n",
      "Epoch: 0 batch #: 156  of 300 sample #: 199 reconstruction error: 0.067318\n",
      "Epoch: 0 batch #: 157  of 300 sample #: 199 reconstruction error: 0.101912\n",
      "Epoch: 0 batch #: 158  of 300 sample #: 199 reconstruction error: 0.053508\n",
      "Epoch: 0 batch #: 159  of 300 sample #: 199 reconstruction error: 0.071121\n",
      "Epoch: 0 batch #: 160  of 300 sample #: 199 reconstruction error: 0.057603\n",
      "Epoch: 0 batch #: 161  of 300 sample #: 199 reconstruction error: 0.073581\n",
      "Epoch: 0 batch #: 162  of 300 sample #: 199 reconstruction error: 0.112078\n",
      "Epoch: 0 batch #: 163  of 300 sample #: 199 reconstruction error: 0.036961\n",
      "Epoch: 0 batch #: 164  of 300 sample #: 199 reconstruction error: 0.064890\n",
      "Epoch: 0 batch #: 165  of 300 sample #: 199 reconstruction error: 0.096656\n",
      "Epoch: 0 batch #: 166  of 300 sample #: 199 reconstruction error: 0.056044\n",
      "Epoch: 0 batch #: 167  of 300 sample #: 199 reconstruction error: 0.087160\n",
      "Epoch: 0 batch #: 168  of 300 sample #: 199 reconstruction error: 0.055059\n",
      "Epoch: 0 batch #: 169  of 300 sample #: 199 reconstruction error: 0.029178\n",
      "Epoch: 0 batch #: 170  of 300 sample #: 199 reconstruction error: 0.066462\n",
      "Epoch: 0 batch #: 171  of 300 sample #: 199 reconstruction error: 0.032762\n",
      "Epoch: 0 batch #: 172  of 300 sample #: 199 reconstruction error: 0.046825\n",
      "Epoch: 0 batch #: 173  of 300 sample #: 199 reconstruction error: 0.072944\n",
      "Epoch: 0 batch #: 174  of 300 sample #: 199 reconstruction error: 0.128641\n",
      "Epoch: 0 batch #: 175  of 300 sample #: 199 reconstruction error: 0.069107\n",
      "Epoch: 0 batch #: 176  of 300 sample #: 199 reconstruction error: 0.046301\n",
      "Epoch: 0 batch #: 177  of 300 sample #: 199 reconstruction error: 0.048202\n",
      "Epoch: 0 batch #: 178  of 300 sample #: 199 reconstruction error: 0.111728\n",
      "Epoch: 0 batch #: 179  of 300 sample #: 199 reconstruction error: 0.069707\n",
      "Epoch: 0 batch #: 180  of 300 sample #: 199 reconstruction error: 0.092585\n",
      "Epoch: 0 batch #: 181  of 300 sample #: 199 reconstruction error: 0.098449\n",
      "Epoch: 0 batch #: 182  of 300 sample #: 199 reconstruction error: 0.075431\n",
      "Epoch: 0 batch #: 183  of 300 sample #: 199 reconstruction error: 0.106108\n",
      "Epoch: 0 batch #: 184  of 300 sample #: 199 reconstruction error: 0.068230\n",
      "Epoch: 0 batch #: 185  of 300 sample #: 199 reconstruction error: 0.085258\n",
      "Epoch: 0 batch #: 186  of 300 sample #: 199 reconstruction error: 0.098587\n",
      "Epoch: 0 batch #: 187  of 300 sample #: 199 reconstruction error: 0.057418\n",
      "Epoch: 0 batch #: 188  of 300 sample #: 199 reconstruction error: 0.096314\n",
      "Epoch: 0 batch #: 189  of 300 sample #: 199 reconstruction error: 0.078067\n",
      "Epoch: 0 batch #: 190  of 300 sample #: 199 reconstruction error: 0.062193\n",
      "Epoch: 0 batch #: 191  of 300 sample #: 199 reconstruction error: 0.119058\n",
      "Epoch: 0 batch #: 192  of 300 sample #: 199 reconstruction error: 0.112936\n",
      "Epoch: 0 batch #: 193  of 300 sample #: 199 reconstruction error: 0.075052\n",
      "Epoch: 0 batch #: 194  of 300 sample #: 199 reconstruction error: 0.084761\n",
      "Epoch: 0 batch #: 195  of 300 sample #: 199 reconstruction error: 0.044788\n",
      "Epoch: 0 batch #: 196  of 300 sample #: 199 reconstruction error: 0.048389\n",
      "Epoch: 0 batch #: 197  of 300 sample #: 199 reconstruction error: 0.043155\n",
      "Epoch: 0 batch #: 198  of 300 sample #: 199 reconstruction error: 0.089369\n",
      "Epoch: 0 batch #: 199  of 300 sample #: 199 reconstruction error: 0.073986\n",
      "Epoch: 0 batch #: 200  of 300 sample #: 199 reconstruction error: 0.096314\n",
      "Epoch: 0 batch #: 201  of 300 sample #: 199 reconstruction error: 0.096595\n",
      "Epoch: 0 batch #: 202  of 300 sample #: 199 reconstruction error: 0.027868\n",
      "Epoch: 0 batch #: 203  of 300 sample #: 199 reconstruction error: 0.087755\n",
      "Epoch: 0 batch #: 204  of 300 sample #: 199 reconstruction error: 0.060503\n",
      "Epoch: 0 batch #: 205  of 300 sample #: 199 reconstruction error: 0.027828\n",
      "Epoch: 0 batch #: 206  of 300 sample #: 199 reconstruction error: 0.069705\n",
      "Epoch: 0 batch #: 207  of 300 sample #: 199 reconstruction error: 0.083994\n",
      "Epoch: 0 batch #: 208  of 300 sample #: 199 reconstruction error: 0.061388\n",
      "Epoch: 0 batch #: 209  of 300 sample #: 199 reconstruction error: 0.025179\n",
      "Epoch: 0 batch #: 210  of 300 sample #: 199 reconstruction error: 0.087372\n",
      "Epoch: 0 batch #: 211  of 300 sample #: 199 reconstruction error: 0.111522\n",
      "Epoch: 0 batch #: 212  of 300 sample #: 199 reconstruction error: 0.073978\n",
      "Epoch: 0 batch #: 213  of 300 sample #: 199 reconstruction error: 0.107776\n",
      "Epoch: 0 batch #: 214  of 300 sample #: 199 reconstruction error: 0.097587\n",
      "Epoch: 0 batch #: 215  of 300 sample #: 199 reconstruction error: 0.032908\n",
      "Epoch: 0 batch #: 216  of 300 sample #: 199 reconstruction error: 0.094775\n",
      "Epoch: 0 batch #: 217  of 300 sample #: 199 reconstruction error: 0.079310\n",
      "Epoch: 0 batch #: 218  of 300 sample #: 199 reconstruction error: 0.066216\n",
      "Epoch: 0 batch #: 219  of 300 sample #: 199 reconstruction error: 0.070136\n",
      "Epoch: 0 batch #: 220  of 300 sample #: 199 reconstruction error: 0.066198\n",
      "Epoch: 0 batch #: 221  of 300 sample #: 199 reconstruction error: 0.101083\n",
      "Epoch: 0 batch #: 222  of 300 sample #: 199 reconstruction error: 0.076222\n",
      "Epoch: 0 batch #: 223  of 300 sample #: 199 reconstruction error: 0.070442\n",
      "Epoch: 0 batch #: 224  of 300 sample #: 199 reconstruction error: 0.080483\n",
      "Epoch: 0 batch #: 225  of 300 sample #: 199 reconstruction error: 0.065906\n",
      "Epoch: 0 batch #: 226  of 300 sample #: 199 reconstruction error: 0.145209\n",
      "Epoch: 0 batch #: 227  of 300 sample #: 199 reconstruction error: 0.074360\n",
      "Epoch: 0 batch #: 228  of 300 sample #: 199 reconstruction error: 0.079996\n",
      "Epoch: 0 batch #: 229  of 300 sample #: 199 reconstruction error: 0.095773\n",
      "Epoch: 0 batch #: 230  of 300 sample #: 199 reconstruction error: 0.028086\n",
      "Epoch: 0 batch #: 231  of 300 sample #: 199 reconstruction error: 0.018957\n",
      "Epoch: 0 batch #: 232  of 300 sample #: 199 reconstruction error: 0.081884\n",
      "Epoch: 0 batch #: 233  of 300 sample #: 199 reconstruction error: 0.093559\n",
      "Epoch: 0 batch #: 234  of 300 sample #: 199 reconstruction error: 0.069539\n",
      "Epoch: 0 batch #: 235  of 300 sample #: 199 reconstruction error: 0.083956\n",
      "Epoch: 0 batch #: 236  of 300 sample #: 199 reconstruction error: 0.117128\n",
      "Epoch: 0 batch #: 237  of 300 sample #: 199 reconstruction error: 0.074888\n",
      "Epoch: 0 batch #: 238  of 300 sample #: 199 reconstruction error: 0.110664\n",
      "Epoch: 0 batch #: 239  of 300 sample #: 199 reconstruction error: 0.035738\n",
      "Epoch: 0 batch #: 240  of 300 sample #: 199 reconstruction error: 0.097271\n",
      "Epoch: 0 batch #: 241  of 300 sample #: 199 reconstruction error: 0.079409\n",
      "Epoch: 0 batch #: 242  of 300 sample #: 199 reconstruction error: 0.068354\n",
      "Epoch: 0 batch #: 243  of 300 sample #: 199 reconstruction error: 0.070205\n",
      "Epoch: 0 batch #: 244  of 300 sample #: 199 reconstruction error: 0.075006\n",
      "Epoch: 0 batch #: 245  of 300 sample #: 199 reconstruction error: 0.068035\n",
      "Epoch: 0 batch #: 246  of 300 sample #: 199 reconstruction error: 0.099724\n",
      "Epoch: 0 batch #: 247  of 300 sample #: 199 reconstruction error: 0.045440\n",
      "Epoch: 0 batch #: 248  of 300 sample #: 199 reconstruction error: 0.078661\n",
      "Epoch: 0 batch #: 249  of 300 sample #: 199 reconstruction error: 0.044821\n",
      "Epoch: 0 batch #: 250  of 300 sample #: 199 reconstruction error: 0.100186\n",
      "Epoch: 0 batch #: 251  of 300 sample #: 199 reconstruction error: 0.063667\n",
      "Epoch: 0 batch #: 252  of 300 sample #: 199 reconstruction error: 0.067146\n",
      "Epoch: 0 batch #: 253  of 300 sample #: 199 reconstruction error: 0.063473\n",
      "Epoch: 0 batch #: 254  of 300 sample #: 199 reconstruction error: 0.030478\n",
      "Epoch: 0 batch #: 255  of 300 sample #: 199 reconstruction error: 0.059979\n",
      "Epoch: 0 batch #: 256  of 300 sample #: 199 reconstruction error: 0.074934\n",
      "Epoch: 0 batch #: 257  of 300 sample #: 199 reconstruction error: 0.088903\n",
      "Epoch: 0 batch #: 258  of 300 sample #: 199 reconstruction error: 0.103695\n",
      "Epoch: 0 batch #: 259  of 300 sample #: 199 reconstruction error: 0.066185\n",
      "Epoch: 0 batch #: 260  of 300 sample #: 199 reconstruction error: 0.095272\n",
      "Epoch: 0 batch #: 261  of 300 sample #: 199 reconstruction error: 0.033972\n",
      "Epoch: 0 batch #: 262  of 300 sample #: 199 reconstruction error: 0.058585\n",
      "Epoch: 0 batch #: 263  of 300 sample #: 199 reconstruction error: 0.075636\n",
      "Epoch: 0 batch #: 264  of 300 sample #: 199 reconstruction error: 0.078356\n",
      "Epoch: 0 batch #: 265  of 300 sample #: 199 reconstruction error: 0.050381\n",
      "Epoch: 0 batch #: 266  of 300 sample #: 199 reconstruction error: 0.030687\n",
      "Epoch: 0 batch #: 267  of 300 sample #: 199 reconstruction error: 0.062989\n",
      "Epoch: 0 batch #: 268  of 300 sample #: 199 reconstruction error: 0.022979\n",
      "Epoch: 0 batch #: 269  of 300 sample #: 199 reconstruction error: 0.084256\n",
      "Epoch: 0 batch #: 270  of 300 sample #: 199 reconstruction error: 0.076724\n",
      "Epoch: 0 batch #: 271  of 300 sample #: 199 reconstruction error: 0.054737\n",
      "Epoch: 0 batch #: 272  of 300 sample #: 199 reconstruction error: 0.056359\n",
      "Epoch: 0 batch #: 273  of 300 sample #: 199 reconstruction error: 0.060745\n",
      "Epoch: 0 batch #: 274  of 300 sample #: 199 reconstruction error: 0.059984\n",
      "Epoch: 0 batch #: 275  of 300 sample #: 199 reconstruction error: 0.103102\n",
      "Epoch: 0 batch #: 276  of 300 sample #: 199 reconstruction error: 0.067299\n",
      "Epoch: 0 batch #: 277  of 300 sample #: 199 reconstruction error: 0.059959\n",
      "Epoch: 0 batch #: 278  of 300 sample #: 199 reconstruction error: 0.060815\n",
      "Epoch: 0 batch #: 279  of 300 sample #: 199 reconstruction error: 0.042347\n",
      "Epoch: 0 batch #: 280  of 300 sample #: 199 reconstruction error: 0.080790\n",
      "Epoch: 0 batch #: 281  of 300 sample #: 199 reconstruction error: 0.068417\n",
      "Epoch: 0 batch #: 282  of 300 sample #: 199 reconstruction error: 0.078915\n",
      "Epoch: 0 batch #: 283  of 300 sample #: 199 reconstruction error: 0.048362\n",
      "Epoch: 0 batch #: 284  of 300 sample #: 199 reconstruction error: 0.050562\n",
      "Epoch: 0 batch #: 285  of 300 sample #: 199 reconstruction error: 0.063615\n",
      "Epoch: 0 batch #: 286  of 300 sample #: 199 reconstruction error: 0.087716\n",
      "Epoch: 0 batch #: 287  of 300 sample #: 199 reconstruction error: 0.062601\n",
      "Epoch: 0 batch #: 288  of 300 sample #: 199 reconstruction error: 0.022825\n",
      "Epoch: 0 batch #: 289  of 300 sample #: 199 reconstruction error: 0.083166\n",
      "Epoch: 0 batch #: 290  of 300 sample #: 199 reconstruction error: 0.101665\n",
      "Epoch: 0 batch #: 291  of 300 sample #: 199 reconstruction error: 0.107158\n",
      "Epoch: 0 batch #: 292  of 300 sample #: 199 reconstruction error: 0.070252\n",
      "Epoch: 0 batch #: 293  of 300 sample #: 199 reconstruction error: 0.069135\n",
      "Epoch: 0 batch #: 294  of 300 sample #: 199 reconstruction error: 0.094581\n",
      "Epoch: 0 batch #: 295  of 300 sample #: 199 reconstruction error: 0.075697\n",
      "Epoch: 0 batch #: 296  of 300 sample #: 199 reconstruction error: 0.031280\n",
      "Epoch: 0 batch #: 297  of 300 sample #: 199 reconstruction error: 0.118227\n",
      "Epoch: 0 batch #: 298  of 300 sample #: 199 reconstruction error: 0.046845\n",
      "Epoch: 0 batch #: 299  of 300 sample #: 199 reconstruction error: 0.055202\n",
      "Epoch: 0 batch #: 300  of 300 sample #: 199 reconstruction error: 0.078578\n"
     ]
    }
   ],
   "source": [
    "#Parameters\n",
    "alpha = 0.01\n",
    "epochs = 1\n",
    "batchsize = 200\n",
    "weights = []\n",
    "errors = []\n",
    "batch_number = 0\n",
    "K = 1\n",
    "\n",
    "#creating datasets\n",
    "train_ds = \\\n",
    "    tf.data.Dataset.from_tensor_slices((trX, trY)).batch(batchsize)\n",
    "\n",
    "for epoch in range(epochs):\n",
    "    for batch_x, batch_y in train_ds:\n",
    "        batch_number += 1\n",
    "        for i_sample in range(batchsize):           \n",
    "            for k in range(K):\n",
    "                v0_state = batch_x[i_sample]\n",
    "                h0_state = hidden_layer(v0_state, W, hb)\n",
    "                v1_state = reconstructed_output(h0_state, W, vb)\n",
    "                h1_state = hidden_layer(v1_state, W, hb)\n",
    "\n",
    "                delta_W = tf.matmul(tf.transpose([v0_state]), h0_state) - tf.matmul(tf.transpose([v1_state]), h1_state)\n",
    "                W = W + alpha * delta_W\n",
    "\n",
    "                vb = vb + alpha * tf.reduce_mean(v0_state - v1_state, 0)\n",
    "                hb = hb + alpha * tf.reduce_mean(h0_state - h1_state, 0) \n",
    "\n",
    "                v0_state = v1_state\n",
    "\n",
    "            if i_sample == batchsize-1:\n",
    "                err = error(batch_x[i_sample], v1_state)\n",
    "                errors.append(err)\n",
    "                weights.append(W)\n",
    "                print ( 'Epoch: %d' % epoch, \n",
    "                       \"batch #: %i \" % batch_number, \"of %i\" % int(60e3/batchsize), \n",
    "                       \"sample #: %i\" % i_sample,\n",
    "                       'reconstruction error: %f' % err)\n",
    "\n"
   ]
  },
  {
   "cell_type": "markdown",
   "metadata": {},
   "source": [
    "Let's take a look at the errors at the end of each batch:\n"
   ]
  },
  {
   "cell_type": "code",
   "execution_count": 22,
   "metadata": {},
   "outputs": [
    {
     "data": {
      "image/png": "[encoded data removed]",
      "text/plain": [
       "<Figure size 432x288 with 1 Axes>"
      ]
     },
     "metadata": {
      "needs_background": "light"
     },
     "output_type": "display_data"
    }
   ],
   "source": [
    "plt.plot(errors)\n",
    "plt.xlabel(\"Batch Number\")\n",
    "plt.ylabel(\"Error\")\n",
    "plt.show()"
   ]
  },
  {
   "cell_type": "markdown",
   "metadata": {},
   "source": [
    "What is the final weight matrix $W$ after training?\n"
   ]
  },
  {
   "cell_type": "code",
   "execution_count": 23,
   "metadata": {},
   "outputs": [
    {
     "name": "stdout",
     "output_type": "stream",
     "text": [
      "[[-0.40999988 -0.22000003 -0.36999992 ... -0.25000003 -0.18\n",
      "  -0.25000003]\n",
      " [-0.43999985 -0.26000002 -0.35999992 ... -0.26000002 -0.20000002\n",
      "  -0.23000003]\n",
      " [-0.5299998  -0.27       -0.33999994 ... -0.27       -0.16\n",
      "  -0.24000004]\n",
      " ...\n",
      " [-0.46999982 -0.27       -0.34999993 ... -0.29       -0.17\n",
      "  -0.28      ]\n",
      " [-0.4799998  -0.21000002 -0.31999996 ... -0.21000002 -0.14999999\n",
      "  -0.16      ]\n",
      " [-0.45999983 -0.22000003 -0.35999992 ... -0.23000003 -0.17\n",
      "  -0.21000002]]\n"
     ]
    }
   ],
   "source": [
    "print(W.numpy()) # a weight matrix of shape (50,784)"
   ]
  },
  {
   "cell_type": "markdown",
   "metadata": {},
   "source": [
    "<a id=\"ref5\"></a>\n",
    "\n",
    "<h3>Learned features</h3> \n"
   ]
  },
  {
   "cell_type": "markdown",
   "metadata": {},
   "source": [
    "We can take each hidden unit and visualize the connections between that hidden unit and each element in the input vector. In our case, we have 50 hidden units. Lets visualize those.\n"
   ]
  },
  {
   "cell_type": "markdown",
   "metadata": {},
   "source": [
    "Let's plot the current weights:\n",
    "<b>tile_raster_images</b> helps in generating an easy to grasp image from a set of samples or weights. It transforms the <b>uw</b> (with one flattened image per row of size 784), into an array (of size $28\\times28$) in which images are reshaped and laid out like tiles on a floor.\n"
   ]
  },
  {
   "cell_type": "code",
   "execution_count": 24,
   "metadata": {},
   "outputs": [
    {
     "data": {
      "image/png": "[encoded data removed]",
      "text/plain": [
       "<Figure size 1296x1296 with 1 Axes>"
      ]
     },
     "metadata": {
      "needs_background": "light"
     },
     "output_type": "display_data"
    }
   ],
   "source": [
    "tile_raster_images(X=W.numpy().T, img_shape=(28, 28), tile_shape=(5, 10), tile_spacing=(1, 1))\n",
    "import matplotlib.pyplot as plt\n",
    "from PIL import Image\n",
    "%matplotlib inline\n",
    "image = Image.fromarray(tile_raster_images(X=W.numpy().T, img_shape=(28, 28) ,tile_shape=(5, 10), tile_spacing=(1, 1)))\n",
    "### Plot image\n",
    "plt.rcParams['figure.figsize'] = (18.0, 18.0)\n",
    "imgplot = plt.imshow(image)\n",
    "imgplot.set_cmap('gray')  "
   ]
  },
  {
   "cell_type": "markdown",
   "metadata": {},
   "source": [
    "Each tile in the above visualization corresponds to a vector of connections between a hidden unit and visible layer's units. \n"
   ]
  },
  {
   "cell_type": "markdown",
   "metadata": {},
   "source": [
    "Let's look at one of the learned weights corresponding to one of hidden units for example. In this particular square, the gray color represents weight = 0, and the whiter it is, the more positive the weights are (closer to 1). Conversely, the darker pixels are, the more negative the weights. The positive pixels will increase the probability of activation in hidden units (after multiplying by input/visible pixels), and negative pixels will decrease the probability of a unit hidden to be 1 (activated). So, why is this important?  So we can see that this specific square (hidden unit) can detect a feature (e.g. a \"/\" shape) and if it exists in the input.\n"
   ]
  },
  {
   "cell_type": "code",
   "execution_count": 25,
   "metadata": {},
   "outputs": [
    {
     "data": {
      "image/png": "[encoded data removed]",
      "text/plain": [
       "<Figure size 288x288 with 1 Axes>"
      ]
     },
     "metadata": {
      "needs_background": "light"
     },
     "output_type": "display_data"
    }
   ],
   "source": [
    "from PIL import Image\n",
    "image = Image.fromarray(tile_raster_images(X =W.numpy().T[10:11], img_shape=(28, 28),tile_shape=(1, 1), tile_spacing=(1, 1)))\n",
    "### Plot image\n",
    "plt.rcParams['figure.figsize'] = (4.0, 4.0)\n",
    "imgplot = plt.imshow(image)\n",
    "imgplot.set_cmap('gray')  "
   ]
  },
  {
   "cell_type": "markdown",
   "metadata": {},
   "source": [
    "Let's look at the reconstruction of an image now. Imagine that we have a destructed image of figure 3. Lets see if our trained network can fix it:\n",
    "\n",
    "First we plot the image:\n"
   ]
  },
  {
   "cell_type": "code",
   "execution_count": 26,
   "metadata": {},
   "outputs": [
    {
     "name": "stdout",
     "output_type": "stream",
     "text": [
      "--2020-12-14 08:24:30--  https://ibm.box.com/shared/static/vvm1b63uvuxq88vbw9znpwu5ol380mco.jpg\n",
      "Resolving ibm.box.com (ibm.box.com)... 107.152.29.197\n",
      "Connecting to ibm.box.com (ibm.box.com)|107.152.29.197|:443... connected.\n",
      "HTTP request sent, awaiting response... 301 Moved Permanently\n",
      "Location: /public/static/vvm1b63uvuxq88vbw9znpwu5ol380mco.jpg [following]\n",
      "--2020-12-14 08:24:30--  https://ibm.box.com/public/static/vvm1b63uvuxq88vbw9znpwu5ol380mco.jpg\n",
      "Reusing existing connection to ibm.box.com:443.\n",
      "HTTP request sent, awaiting response... 301 Moved Permanently\n",
      "Location: https://ibm.ent.box.com/public/static/vvm1b63uvuxq88vbw9znpwu5ol380mco.jpg [following]\n",
      "--2020-12-14 08:24:30--  https://ibm.ent.box.com/public/static/vvm1b63uvuxq88vbw9znpwu5ol380mco.jpg\n",
      "Resolving ibm.ent.box.com (ibm.ent.box.com)... 107.152.29.201\n",
      "Connecting to ibm.ent.box.com (ibm.ent.box.com)|107.152.29.201|:443... connected.\n",
      "HTTP request sent, awaiting response... 302 Found\n",
      "Location: https://public.boxcloud.com/d/1/b1!Uo36iFegqJY7CnCZDDpsdef2fQpGg9SxPFxP5G9qNrdcIXHGtO6OTu_he_gyhbG4D7V0htz2CurhSSRZBOQwuKRQffez5fVyTFyvDws9ou459oJz6stTTjpWGn3_Mj20sredq7zltaN76xuFqc8_tnfpKoTPEznA8TIFfduUGIlA_cj3GoQw-r4P6QNAYGbn9ndkB4Vgkbzo5cNVBYo_mUWYW38dI7VxXm6Ik9EnV7zk49JB_nxLtwwxhU7hucGoAhgBckxCjBuOA-HFUuWkBm_pV-AZxHGMxQTp3SL_M0saJ7CdQEEnkqiaBPVlLp_M2WIVGv74trAwmPC0Mramg2xVIkcgFy4WaXnh8PbJrS5buB8tXQ9ah90fCijskZvNjiYx4JjNXeFd7U7YoX3BhiKnsClaYifIUKrMh98JxDokNGNLDF9v821tkkufcXHal_AeEaPQbvJuJXCRKSovHWLAXAglu4jFv0TBO72aCvyOGhLgVzvM7FzbMpIDBqyVaxIZo5qB-OFboyjCKYal5pbmFrk--m7TsTYgfpX8HOqxKv0nUkXwdH8HpPvEmJiwuWnsUSl2UZh3U1F7EsF69dOPD58M_DGQ3EE0oHP0Oc4t6-CkKhpNct8cnQJ0Zg6Ex5PN1wKxAa5b9h2CIP8McOB8PbGLuMRe6JR0szykpaDU25XJDePPwfYlxfi2uzQa-WZoEEC1Pkbv29VSjmq9FFsEowQxpkX0bF_Ezid9XyKxZqFbU01C4OXVE1QXk9UTstovqAFPN0UygKrGonvkOhgmm-xm1zv9uo-jwbCCqjTPiaYQkrTHxunrtw0mRCvDU4mK8Fg1enlYewNSXtvyhL7cxsz-QTKxKPzE6bv7oh8OB0927FRwwR3MNOt9Dbjb7_NsANRl90fojQ203sdJnl9z3SZ584CD0iN6KYbUmSHS9Dw6eOVQGqMxy48ryJLnSVwKcv05xHnEich54v38r2zkPpnozGB0iwq6677LfRRl6hCUIO1M_UiHuSQBrY2Bga-rLdwMNgqyqcjb3DCiefJfaaHa_gx3fBxTQfsumA_mQSn1xfM66jqpCsGSbnna5bccX4U856iu6NVS_Jv-WPHi7iNXD1Rakoo9SbbZDzwnPdz-_EAoz8qB4QNrNjPUWyhhNejaIuHsirV7xpVibpU0IdBadY-hxk0qlyrPhxQummUktiUgsSfvgoMGYIMH9QetSiMTtjBUd8L4MxllJj8dozLWf4jCyT4V1Hy5sa4VEF9__8llcPs2UoZfe0cmUxrNQO45ZMRYKUSLPezGcddJBlhecv9-3btiRaDwDvXzyi3AJi_O7A8cyc8BYtKmVYIodxyz5vs5rGl4BqSNBbp7nFb6sbeDcxL9FZSBteaHa4X2rnNiFM2_q-HxvZtHtg9AbLyiETYRwfuY90jALSBqhNUroQ06akzv1mqViBn_ZFXle8Geh1ssLmdYPSw./download [following]\n",
      "--2020-12-14 08:24:31--  https://public.boxcloud.com/d/1/b1!Uo36iFegqJY7CnCZDDpsdef2fQpGg9SxPFxP5G9qNrdcIXHGtO6OTu_he_gyhbG4D7V0htz2CurhSSRZBOQwuKRQffez5fVyTFyvDws9ou459oJz6stTTjpWGn3_Mj20sredq7zltaN76xuFqc8_tnfpKoTPEznA8TIFfduUGIlA_cj3GoQw-r4P6QNAYGbn9ndkB4Vgkbzo5cNVBYo_mUWYW38dI7VxXm6Ik9EnV7zk49JB_nxLtwwxhU7hucGoAhgBckxCjBuOA-HFUuWkBm_pV-AZxHGMxQTp3SL_M0saJ7CdQEEnkqiaBPVlLp_M2WIVGv74trAwmPC0Mramg2xVIkcgFy4WaXnh8PbJrS5buB8tXQ9ah90fCijskZvNjiYx4JjNXeFd7U7YoX3BhiKnsClaYifIUKrMh98JxDokNGNLDF9v821tkkufcXHal_AeEaPQbvJuJXCRKSovHWLAXAglu4jFv0TBO72aCvyOGhLgVzvM7FzbMpIDBqyVaxIZo5qB-OFboyjCKYal5pbmFrk--m7TsTYgfpX8HOqxKv0nUkXwdH8HpPvEmJiwuWnsUSl2UZh3U1F7EsF69dOPD58M_DGQ3EE0oHP0Oc4t6-CkKhpNct8cnQJ0Zg6Ex5PN1wKxAa5b9h2CIP8McOB8PbGLuMRe6JR0szykpaDU25XJDePPwfYlxfi2uzQa-WZoEEC1Pkbv29VSjmq9FFsEowQxpkX0bF_Ezid9XyKxZqFbU01C4OXVE1QXk9UTstovqAFPN0UygKrGonvkOhgmm-xm1zv9uo-jwbCCqjTPiaYQkrTHxunrtw0mRCvDU4mK8Fg1enlYewNSXtvyhL7cxsz-QTKxKPzE6bv7oh8OB0927FRwwR3MNOt9Dbjb7_NsANRl90fojQ203sdJnl9z3SZ584CD0iN6KYbUmSHS9Dw6eOVQGqMxy48ryJLnSVwKcv05xHnEich54v38r2zkPpnozGB0iwq6677LfRRl6hCUIO1M_UiHuSQBrY2Bga-rLdwMNgqyqcjb3DCiefJfaaHa_gx3fBxTQfsumA_mQSn1xfM66jqpCsGSbnna5bccX4U856iu6NVS_Jv-WPHi7iNXD1Rakoo9SbbZDzwnPdz-_EAoz8qB4QNrNjPUWyhhNejaIuHsirV7xpVibpU0IdBadY-hxk0qlyrPhxQummUktiUgsSfvgoMGYIMH9QetSiMTtjBUd8L4MxllJj8dozLWf4jCyT4V1Hy5sa4VEF9__8llcPs2UoZfe0cmUxrNQO45ZMRYKUSLPezGcddJBlhecv9-3btiRaDwDvXzyi3AJi_O7A8cyc8BYtKmVYIodxyz5vs5rGl4BqSNBbp7nFb6sbeDcxL9FZSBteaHa4X2rnNiFM2_q-HxvZtHtg9AbLyiETYRwfuY90jALSBqhNUroQ06akzv1mqViBn_ZFXle8Geh1ssLmdYPSw./download\n",
      "Resolving public.boxcloud.com (public.boxcloud.com)... 107.152.27.200\n",
      "Connecting to public.boxcloud.com (public.boxcloud.com)|107.152.27.200|:443... connected.\n",
      "HTTP request sent, awaiting response... 200 OK\n",
      "Length: 24383 (24K) [image/jpeg]\n",
      "Saving to: ‘destructed3.jpg’\n",
      "\n",
      "destructed3.jpg     100%[===================>]  23.81K  --.-KB/s    in 0.02s   \n",
      "\n",
      "2020-12-14 08:24:31 (1.35 MB/s) - ‘destructed3.jpg’ saved [24383/24383]\n",
      "\n"
     ]
    },
    {
     "data": {
      "image/png": "[encoded data removed]",
      "text/plain": [
       "<PIL.JpegImagePlugin.JpegImageFile image mode=RGB size=181x181 at 0x7F6B943ECBA8>"
      ]
     },
     "execution_count": 26,
     "metadata": {},
     "output_type": "execute_result"
    }
   ],
   "source": [
    "!wget -O destructed3.jpg  https://ibm.box.com/shared/static/vvm1b63uvuxq88vbw9znpwu5ol380mco.jpg\n",
    "img = Image.open('destructed3.jpg')\n",
    "img"
   ]
  },
  {
   "cell_type": "markdown",
   "metadata": {},
   "source": [
    "Now let's pass this image through the neural net:\n"
   ]
  },
  {
   "cell_type": "code",
   "execution_count": 27,
   "metadata": {},
   "outputs": [],
   "source": [
    "# convert the image to a 1d numpy array\n",
    "sample_case = np.array(img.convert('I').resize((28,28))).ravel().reshape((1, -1))/255.0\n",
    "\n",
    "sample_case = tf.cast(sample_case, dtype=tf.float32)"
   ]
  },
  {
   "cell_type": "markdown",
   "metadata": {},
   "source": [
    "Feed the sample case into the network and reconstruct the output:\n"
   ]
  },
  {
   "cell_type": "code",
   "execution_count": 28,
   "metadata": {},
   "outputs": [
    {
     "name": "stdout",
     "output_type": "stream",
     "text": [
      "Probability nodes in hidden layer: tf.Tensor(\n",
      "[[9.9999976e-01 9.9999535e-01 4.6860799e-10 1.6286291e-13 1.0000000e+00\n",
      "  5.0995806e-07 2.5079144e-06 2.4625659e-04 9.9999797e-01 9.9601203e-01\n",
      "  9.7151947e-01 1.1971831e-01 5.4041743e-03 7.6988995e-01 9.1692884e-05\n",
      "  9.8943496e-01 1.3968325e-12 9.4277978e-01 9.8157835e-01 6.9127464e-07\n",
      "  3.1370485e-14 2.1377057e-02 9.9999917e-01 9.9998260e-01 2.0345952e-07\n",
      "  2.8327265e-01 1.0281523e-15 1.0000000e+00 4.4635523e-15 2.2530556e-04\n",
      "  1.3263282e-01 6.8036785e-11 4.9571863e-10 1.3024148e-06 9.9430120e-01\n",
      "  6.1178642e-14 3.6150218e-06 8.4960877e-05 6.8038099e-18 9.3880337e-10\n",
      "  9.9999666e-01 2.9881895e-03 1.6175117e-10 1.7539859e-03 1.6123712e-02\n",
      "  1.0000000e+00 3.3000792e-12 9.9349391e-01 1.4077867e-10 5.8277369e-01]], shape=(1, 50), dtype=float32)\n",
      "activated nodes in hidden layer: tf.Tensor(\n",
      "[[1. 1. 0. 0. 1. 0. 0. 0. 1. 1. 1. 0. 0. 1. 0. 1. 0. 1. 1. 0. 0. 0. 1. 1.\n",
      "  0. 0. 0. 1. 0. 0. 0. 0. 0. 0. 1. 0. 0. 0. 0. 0. 1. 0. 0. 0. 0. 1. 0. 1.\n",
      "  0. 1.]], shape=(1, 50), dtype=float32)\n",
      "tf.Tensor(\n",
      "[[2.53230333e-04 2.91138887e-04 3.93033028e-04 1.99288130e-04\n",
      "  1.50501728e-04 4.94599342e-04 2.97129154e-04 2.07275152e-04\n",
      "  3.06129456e-04 2.94178724e-04 3.12328339e-04 3.55631113e-04\n",
      "  2.64704227e-04 2.60591507e-04 2.50428915e-04 2.46316195e-04\n",
      "  3.41743231e-04 2.97129154e-04 2.94119120e-04 3.25053930e-04\n",
      "  1.59859657e-04 5.92023134e-04 2.66164541e-04 3.06069851e-04\n",
      "  3.00019979e-04 2.26825476e-04 2.50607729e-04 3.25053930e-04\n",
      "  2.60889530e-04 4.84853983e-04 2.48163939e-04 3.06069851e-04\n",
      "  3.36199999e-04 3.00765038e-04 3.47435474e-04 3.85522842e-04\n",
      "  2.93612480e-04 3.85671854e-04 3.21745872e-04 3.06338072e-04\n",
      "  3.67611647e-04 2.92658806e-04 3.41594219e-04 4.50462103e-04\n",
      "  5.13404608e-04 4.63455915e-04 5.48243523e-04 5.46038151e-04\n",
      "  2.57849693e-04 5.43028116e-04 1.88022852e-04 2.90393829e-04\n",
      "  1.87575817e-04 4.29958105e-04 1.87575817e-04 2.53230333e-04\n",
      "  5.04583120e-04 2.33709812e-04 2.93433666e-04 2.27451324e-04\n",
      "  1.73985958e-04 3.53217125e-04 3.43412161e-04 4.44173813e-04\n",
      "  1.98543072e-04 2.79515982e-04 9.81900885e-05 1.38819218e-04\n",
      "  9.23776824e-05 1.14345246e-04 1.01002617e-04 1.39057636e-04\n",
      "  1.83045864e-04 1.50650740e-04 1.07902131e-04 8.44368114e-05\n",
      "  1.61796808e-04 5.04612923e-04 7.64101744e-04 4.71979380e-04\n",
      "  4.15295362e-04 2.41786242e-04 3.93033028e-04 2.76952982e-04\n",
      "  3.85224819e-04 3.09228897e-04 2.86132097e-04 1.94579363e-04\n",
      "  3.07530165e-04 2.26944685e-04 4.76568937e-04 3.27318907e-04\n",
      "  1.68919563e-04 2.06291676e-04 7.04890044e-05 9.10226372e-05\n",
      "  8.18936969e-05 1.97440386e-04 2.36362219e-04 3.80039215e-04\n",
      "  3.39314342e-03 2.69287825e-03 1.73124671e-03 9.04649496e-04\n",
      "  3.96192074e-04 2.71320343e-04 5.89758158e-04 6.69717789e-04\n",
      "  5.26040792e-04 3.93122435e-04 2.09122896e-04 3.59237194e-04\n",
      "  3.09228897e-04 2.67177820e-04 1.85787678e-04 2.88933516e-04\n",
      "  3.04549932e-04 9.25451517e-04 9.11146402e-04 1.13722682e-03\n",
      "  6.56694174e-04 7.80582428e-04 1.18422508e-03 1.03035569e-03\n",
      "  3.25876474e-03 6.07731938e-03 4.78685200e-02 1.11873984e-01\n",
      "  1.83638304e-01 2.02458411e-01 8.79325271e-02 4.25871015e-02\n",
      "  9.74452496e-03 3.06013227e-03 4.57122922e-03 3.66306305e-03\n",
      "  1.72224641e-03 1.07887387e-03 4.77880239e-04 2.72333622e-04\n",
      "  3.41743231e-04 1.95264816e-04 2.83032656e-04 3.88443470e-04\n",
      "  8.50290060e-04 1.64484978e-03 3.46222520e-03 5.21397591e-03\n",
      "  1.08362436e-02 1.90948844e-02 5.30866385e-02 7.70626366e-02\n",
      "  2.81977445e-01 5.11685550e-01 6.29314542e-01 8.78636718e-01\n",
      "  9.39171672e-01 9.25179958e-01 7.95032859e-01 5.02936125e-01\n",
      "  2.04054058e-01 3.49576175e-02 2.12419033e-02 7.97516108e-03\n",
      "  1.96042657e-03 2.66921520e-03 1.12819672e-03 2.42143869e-04\n",
      "  3.25053930e-04 2.02357769e-04 4.12732363e-04 8.56161118e-04\n",
      "  3.05724144e-03 4.94912267e-03 9.74830985e-03 2.06181407e-02\n",
      "  6.89077377e-02 5.97634614e-02 2.27847874e-01 5.27591705e-01\n",
      "  8.10451865e-01 8.63365412e-01 9.55150008e-01 9.46372747e-01\n",
      "  9.48968589e-01 9.48456049e-01 8.96354079e-01 9.08556879e-01\n",
      "  6.81276321e-01 1.36446416e-01 2.94688344e-02 1.42657161e-02\n",
      "  6.89762831e-03 2.20209360e-03 1.42517686e-03 2.75254250e-04\n",
      "  2.69591808e-04 3.94076109e-04 4.21762466e-04 1.82363391e-03\n",
      "  2.93254852e-03 6.88672066e-03 1.39045715e-02 3.51802409e-02\n",
      "  8.76226425e-02 5.47562063e-01 5.90500057e-01 6.79513335e-01\n",
      "  8.24548841e-01 8.11696649e-01 8.39208722e-01 8.64633620e-01\n",
      "  8.70690823e-01 6.97155595e-01 6.21500671e-01 7.75069058e-01\n",
      "  6.72914088e-01 3.55872512e-01 4.15368676e-02 1.81507468e-02\n",
      "  3.81422043e-03 9.50753689e-04 1.01697445e-03 2.78621912e-04\n",
      "  2.54958868e-04 2.66760588e-04 5.18411398e-04 1.22013688e-03\n",
      "  2.88528204e-03 4.16535139e-03 1.58367753e-02 3.27698886e-02\n",
      "  1.36314780e-01 3.72340441e-01 5.12450755e-01 6.85538769e-01\n",
      "  5.65764666e-01 4.44236696e-01 3.76642525e-01 5.77385128e-01\n",
      "  2.58347094e-01 2.33181864e-01 4.76539612e-01 5.55545688e-01\n",
      "  5.34843087e-01 2.23642379e-01 5.24456799e-02 6.10825419e-03\n",
      "  9.36657190e-04 3.96519899e-04 9.86337662e-04 3.59505415e-04\n",
      "  3.55750322e-04 4.00841236e-04 2.59011984e-04 9.27209854e-04\n",
      "  2.14302540e-03 4.17959690e-03 1.17995441e-02 6.45728409e-02\n",
      "  4.83804941e-02 5.04294634e-02 9.33810771e-02 9.17609632e-02\n",
      "  5.61403632e-02 5.26330173e-02 1.14773840e-01 1.10052228e-01\n",
      "  1.26221031e-01 1.72642708e-01 4.03592676e-01 5.43231130e-01\n",
      "  4.42645818e-01 3.11816156e-01 7.46172071e-02 8.25309753e-03\n",
      "  1.40130520e-03 7.00443983e-04 7.41720200e-04 2.76327133e-04\n",
      "  3.14563513e-04 4.06026840e-04 4.19735909e-04 9.58770514e-04\n",
      "  2.14597583e-03 1.95023417e-03 4.89935279e-03 8.98715854e-03\n",
      "  1.03873610e-02 2.01373994e-02 1.17485523e-02 6.37581944e-03\n",
      "  6.72003627e-03 3.75949144e-02 1.32849008e-01 4.02426630e-01\n",
      "  2.90116489e-01 3.08270156e-01 5.71161449e-01 4.80818123e-01\n",
      "  4.63407934e-01 2.36178547e-01 2.83617675e-02 4.06458974e-03\n",
      "  5.72681427e-04 4.22984362e-04 4.27871943e-04 2.67833471e-04\n",
      "  4.62919474e-04 2.91913748e-04 4.05132771e-04 9.03815031e-04\n",
      "  1.24385953e-03 3.45000625e-03 3.19945812e-03 4.28733230e-03\n",
      "  2.39732862e-03 1.31911039e-03 1.36804581e-03 4.67637181e-03\n",
      "  9.88479257e-02 4.85062450e-01 6.65912151e-01 7.03079760e-01\n",
      "  5.20164490e-01 6.54815376e-01 5.78934312e-01 3.21938932e-01\n",
      "  1.62091404e-01 5.09216487e-02 6.73222542e-03 5.22822142e-04\n",
      "  2.96205282e-04 9.50843096e-04 6.58661127e-04 2.69144773e-04\n",
      "  3.32862139e-04 3.62575054e-04 7.24583864e-04 7.26103783e-04\n",
      "  1.32209063e-03 2.05373764e-03 2.12243199e-03 1.95068121e-03\n",
      "  9.77277756e-04 5.65201044e-04 1.34563446e-03 1.03101134e-02\n",
      "  4.56521034e-01 8.69248152e-01 9.44426060e-01 8.56624603e-01\n",
      "  7.35726595e-01 5.20097852e-01 4.87656713e-01 4.90143985e-01\n",
      "  9.08469260e-02 9.02277231e-03 1.30602717e-03 1.32590532e-04\n",
      "  1.58876181e-04 3.53604555e-04 4.27782536e-04 3.94791365e-04\n",
      "  3.41355801e-04 2.37494707e-04 4.29600477e-04 4.65333462e-04\n",
      "  9.70333815e-04 1.45393610e-03 1.30820274e-03 1.20872259e-03\n",
      "  6.45428896e-04 3.79860401e-04 2.92983651e-03 1.26234353e-01\n",
      "  7.80497432e-01 9.57955956e-01 9.73354638e-01 8.51473153e-01\n",
      "  6.82969570e-01 7.28932977e-01 6.93533242e-01 2.75481522e-01\n",
      "  4.22937870e-02 5.76066971e-03 3.95685434e-04 5.96872123e-05\n",
      "  5.87696377e-05 2.15232372e-04 5.93632460e-04 4.50551510e-04\n",
      "  2.36302614e-04 3.60459089e-04 5.63383102e-04 6.18755817e-04\n",
      "  1.13859773e-03 6.20573759e-04 5.79237938e-04 2.23129988e-04\n",
      "  5.57988882e-04 1.61662698e-03 1.38953626e-02 3.17531198e-01\n",
      "  8.75437677e-01 9.38038647e-01 9.54215169e-01 8.75968099e-01\n",
      "  8.11937094e-01 8.92033935e-01 6.54317975e-01 2.68153608e-01\n",
      "  2.80983150e-02 2.53903866e-03 1.82330608e-04 4.26620209e-05\n",
      "  2.58628206e-05 2.07901001e-04 3.40551138e-04 2.49952078e-04\n",
      "  2.44498253e-04 2.45004892e-04 4.54753637e-04 1.07496977e-03\n",
      "  1.97204947e-03 3.27944756e-04 2.27123499e-04 3.47852707e-04\n",
      "  3.13252211e-04 1.78381801e-03 1.78282857e-02 1.36975437e-01\n",
      "  5.07850885e-01 6.61287189e-01 6.01791322e-01 6.66058123e-01\n",
      "  8.18129063e-01 8.84662151e-01 7.37898350e-01 1.23185039e-01\n",
      "  6.59361482e-03 7.60644674e-04 1.64300203e-04 5.17451554e-05\n",
      "  4.70601190e-05 2.08795071e-04 5.15222549e-04 3.15010548e-04\n",
      "  2.22563744e-04 3.72469425e-04 6.50435686e-04 2.50586867e-03\n",
      "  3.39528918e-03 7.77363777e-04 6.92456961e-04 2.69889832e-04\n",
      "  1.01298094e-03 2.19926238e-03 1.42557025e-02 6.09050095e-02\n",
      "  1.29670352e-01 1.01070434e-01 7.64683485e-02 2.38472402e-01\n",
      "  8.09905529e-01 9.33609366e-01 6.69458151e-01 9.41041112e-02\n",
      "  5.48592210e-03 7.52657652e-04 2.88605690e-04 9.13815020e-05\n",
      "  1.08953442e-04 2.11715698e-04 4.84406948e-04 3.08245420e-04\n",
      "  2.45690346e-04 3.14444304e-04 1.05351210e-03 5.72416186e-03\n",
      "  4.51323390e-03 8.42571259e-04 1.75407529e-03 1.96880102e-03\n",
      "  1.01038814e-03 1.26644969e-03 9.01895761e-03 2.23291516e-02\n",
      "  3.06730866e-02 3.93739641e-02 5.22322357e-02 2.87622392e-01\n",
      "  7.32925236e-01 8.25345576e-01 6.02577627e-01 1.15153641e-01\n",
      "  1.40430927e-02 2.12413073e-03 8.39442015e-04 2.28852034e-04\n",
      "  2.42829323e-04 2.39729881e-04 4.59700823e-04 3.37570906e-04\n",
      "  2.79128551e-04 2.44557858e-04 1.95065141e-03 1.23672485e-02\n",
      "  1.15804374e-02 2.10307837e-02 1.52329504e-02 7.68157840e-03\n",
      "  2.71922350e-03 4.00817394e-03 2.61792243e-02 1.24806762e-02\n",
      "  1.90471709e-02 3.17149162e-02 7.44658113e-02 2.53349096e-01\n",
      "  6.57248795e-01 7.42378294e-01 5.17248809e-01 1.28170520e-01\n",
      "  2.69799232e-02 5.69197536e-03 1.22356415e-03 1.13111734e-03\n",
      "  4.98801470e-04 5.01334667e-04 9.06229019e-04 2.57402658e-04\n",
      "  4.55260277e-04 2.82824039e-04 3.94809246e-03 3.19110751e-02\n",
      "  8.95238221e-02 1.02800012e-01 7.67906904e-02 7.89981186e-02\n",
      "  9.67031717e-03 1.30730271e-02 4.34916615e-02 2.77647376e-02\n",
      "  2.30849385e-02 4.79682684e-02 8.94574225e-02 2.18554169e-01\n",
      "  3.90951872e-01 5.85028887e-01 4.07459974e-01 1.03194028e-01\n",
      "  1.03870034e-02 4.95284796e-03 3.04648280e-03 1.98200345e-03\n",
      "  8.34047794e-04 6.10470772e-04 6.92695379e-04 2.27421522e-04\n",
      "  2.74300575e-04 3.77744436e-04 1.04107559e-02 1.41857952e-01\n",
      "  2.19449162e-01 4.47143465e-01 4.28522587e-01 2.44153321e-01\n",
      "  1.00366116e-01 5.75527549e-02 2.65238881e-02 2.86215842e-02\n",
      "  5.30688465e-02 6.02028966e-02 6.96126819e-02 2.04514682e-01\n",
      "  3.89400840e-01 5.37209690e-01 1.71505064e-01 3.47973108e-02\n",
      "  2.88612247e-02 2.56976485e-03 2.04816461e-03 2.21148133e-03\n",
      "  1.58825517e-03 1.08656287e-03 5.66393137e-04 3.42935324e-04\n",
      "  2.04235315e-04 3.24994326e-04 7.53226876e-03 2.11651266e-01\n",
      "  4.74156946e-01 4.31390554e-01 7.01832175e-01 7.85977721e-01\n",
      "  3.82687092e-01 1.38791472e-01 5.64036369e-02 3.56913805e-02\n",
      "  1.45932168e-01 1.39600664e-01 3.33170354e-01 3.61793935e-01\n",
      "  5.36875963e-01 1.84729159e-01 2.29596794e-02 1.24901831e-02\n",
      "  4.93690372e-03 2.72059441e-03 1.98099017e-03 1.86780095e-03\n",
      "  1.67438388e-03 1.32155418e-03 3.67015600e-04 5.10782003e-04\n",
      "  3.36468220e-04 4.10348177e-04 3.17242742e-03 1.76577836e-01\n",
      "  4.82680202e-01 6.60235763e-01 9.04261589e-01 9.01629388e-01\n",
      "  8.71363759e-01 4.90259111e-01 4.83019829e-01 5.00964224e-01\n",
      "  6.77954018e-01 4.31282520e-01 4.77125883e-01 4.98820961e-01\n",
      "  3.00601900e-01 3.21192741e-02 1.29289925e-02 7.24038482e-03\n",
      "  3.56924534e-03 2.09939480e-03 1.10614300e-03 1.11651421e-03\n",
      "  1.34545565e-03 7.12215900e-04 3.80784273e-04 3.03834677e-04\n",
      "  2.97129154e-04 3.06069851e-04 1.00538135e-03 3.07085812e-02\n",
      "  3.01380932e-01 7.19755352e-01 7.90038049e-01 9.42401171e-01\n",
      "  9.49393570e-01 9.75524306e-01 9.75148082e-01 9.71211672e-01\n",
      "  9.02856588e-01 7.84737706e-01 2.86404401e-01 1.17730170e-01\n",
      "  2.92845964e-02 5.83806634e-03 3.51756811e-03 2.02107430e-03\n",
      "  2.11989880e-03 1.98584795e-03 1.23059750e-03 1.10271573e-03\n",
      "  1.20484829e-03 4.77552414e-04 2.41458416e-04 2.17914581e-04\n",
      "  3.00079584e-04 3.34918499e-04 3.13490629e-04 2.00501084e-03\n",
      "  3.37407291e-02 1.60914987e-01 5.63150525e-01 6.50151074e-01\n",
      "  8.55877876e-01 8.90878081e-01 8.58837247e-01 7.42238760e-01\n",
      "  5.57082951e-01 9.64474678e-02 4.02584970e-02 2.08838284e-02\n",
      "  7.04419613e-03 1.58959627e-03 1.35034323e-03 5.43743372e-04\n",
      "  1.10942125e-03 5.98222017e-04 5.04821539e-04 5.45233488e-04\n",
      "  3.51041555e-04 5.58376312e-04 3.08543444e-04 2.31415033e-04\n",
      "  4.38719988e-04 2.58326530e-04 3.70144844e-04 5.10036945e-04\n",
      "  7.75873661e-04 3.71712446e-03 5.95709682e-03 1.09774172e-02\n",
      "  1.38712823e-02 2.05706656e-02 2.70613134e-02 2.79686451e-02\n",
      "  1.75113082e-02 1.63397193e-03 1.49676204e-03 1.74030662e-03\n",
      "  1.25697255e-03 4.33832407e-04 4.20629978e-04 6.47068024e-04\n",
      "  4.29362059e-04 4.06026840e-04 4.11212444e-04 5.77896833e-04\n",
      "  3.41713428e-04 2.40147114e-04 2.27391720e-04 2.11477280e-04\n",
      "  3.48508358e-04 4.25726175e-04 3.85224819e-04 2.77638435e-04\n",
      "  4.07040119e-04 8.31544399e-04 1.41546130e-03 1.23232603e-03\n",
      "  8.75741243e-04 1.67846680e-03 1.25497580e-03 6.09874725e-04\n",
      "  3.29375267e-04 2.03996897e-04 4.15444374e-04 2.90960073e-04\n",
      "  1.67846680e-04 6.40290455e-05 1.13220529e-04 1.64568424e-04\n",
      "  4.61071730e-04 3.17901373e-04 3.13937664e-04 3.22103500e-04\n",
      "  3.65227461e-04 2.56568193e-04 3.70144844e-04 2.43306160e-04\n",
      "  3.93033028e-04 3.52144241e-04 3.21835279e-04 2.63482332e-04\n",
      "  2.43961811e-04 2.54958868e-04 5.88774681e-04 9.56803560e-04\n",
      "  6.44534826e-04 1.40190125e-03 1.05747581e-03 9.07391310e-04\n",
      "  7.70449638e-04 4.90397215e-04 2.32040882e-04 3.01688910e-04\n",
      "  7.43418932e-04 3.33160162e-04 3.18109989e-04 1.95324421e-04\n",
      "  3.98248434e-04 2.78353691e-04 3.62396240e-04 2.84463167e-04\n",
      "  3.48567963e-04 2.36064196e-04 3.52084637e-04 4.75257635e-04]], shape=(1, 784), dtype=float32)\n"
     ]
    }
   ],
   "source": [
    "hh0_p = tf.nn.sigmoid(tf.matmul(sample_case, W) + hb)\n",
    "hh0_s = tf.round(hh0_p)\n",
    "\n",
    "print(\"Probability nodes in hidden layer:\" ,hh0_p)\n",
    "print(\"activated nodes in hidden layer:\" ,hh0_s)\n",
    "\n",
    "# reconstruct\n",
    "vv1_p = tf.nn.sigmoid(tf.matmul(hh0_s, tf.transpose(W)) + vb)\n",
    "\n",
    "print(vv1_p)\n",
    "#rec_prob = sess.run(vv1_p, feed_dict={ hh0_s: hh0_s_val, W: prv_w, vb: prv_vb})"
   ]
  },
  {
   "cell_type": "markdown",
   "metadata": {},
   "source": [
    "Here we plot the reconstructed image:\n"
   ]
  },
  {
   "cell_type": "code",
   "execution_count": null,
   "metadata": {},
   "outputs": [],
   "source": [
    "img = Image.fromarray(tile_raster_images(X=vv1_p.numpy(), img_shape=(28, 28),tile_shape=(1, 1), tile_spacing=(1, 1)))\n",
    "plt.rcParams['figure.figsize'] = (4.0, 4.0)\n",
    "imgplot = plt.imshow(img)\n",
    "imgplot.set_cmap('gray') "
   ]
  },
  {
   "cell_type": "markdown",
   "metadata": {},
   "source": [
    "<hr>\n",
    "\n",
    "## Want to learn more?\n",
    "\n",
    "Running deep learning programs usually needs a high performance platform. **PowerAI** speeds up deep learning and AI. Built on IBM’s Power Systems, **PowerAI** is a scalable software platform that accelerates deep learning and AI with blazing performance for individual users or enterprises. The **PowerAI** platform supports popular machine learning libraries and dependencies including TensorFlow, Caffe, Torch, and Theano. You can use [PowerAI on IMB Cloud](https://cocl.us/ML0120EN_PAI).\n",
    "\n",
    "Also, you can use **Watson Studio** to run these notebooks faster with bigger datasets.**Watson Studio** is IBM’s leading cloud solution for data scientists, built by data scientists. With Jupyter notebooks, RStudio, Apache Spark and popular libraries pre-packaged in the cloud, **Watson Studio** enables data scientists to collaborate on their projects without having to install anything. Join the fast-growing community of **Watson Studio** users today with a free account at [Watson Studio](https://cocl.us/ML0120EN_DSX).This is the end of this lesson. Thank you for reading this notebook, and good luck on your studies.\n"
   ]
  },
  {
   "cell_type": "markdown",
   "metadata": {},
   "source": [
    "### Thanks for completing this lesson!\n",
    "\n",
    "Notebook created by: <a href = \"https://ca.linkedin.com/in/saeedaghabozorgi\">Saeed Aghabozorgi</a>\n",
    "\n",
    "Updated to TF 2.X by  <a href=\"https://ca.linkedin.com/in/nilmeier\"> Jerome Nilmeier</a><br />\n"
   ]
  },
  {
   "cell_type": "markdown",
   "metadata": {},
   "source": [
    "### References:\n",
    "\n",
    "[https://en.wikipedia.org/wiki/Restricted_Boltzmann_machine](https://en.wikipedia.org/wiki/Restricted_Boltzmann_machine?cm_mmc=Email_Newsletter-_-Developer_Ed%2BTech-_-WW_WW-_-SkillsNetwork-Courses-IBMDeveloperSkillsNetwork-DL0120EN-SkillsNetwork-20629446&cm_mmca1=000026UJ&cm_mmca2=10006555&cm_mmca3=M12345678&cvosrc=email.Newsletter.M12345678&cvo_campaign=000026UJ)  \n",
    "[http://deeplearning.net/tutorial/rbm.html](http://deeplearning.net/tutorial/rbm.html?cm_mmc=Email_Newsletter-_-Developer_Ed%2BTech-_-WW_WW-_-SkillsNetwork-Courses-IBMDeveloperSkillsNetwork-DL0120EN-SkillsNetwork-20629446&cm_mmca1=000026UJ&cm_mmca2=10006555&cm_mmca3=M12345678&cvosrc=email.Newsletter.M12345678&cvo_campaign=000026UJ&cm_mmc=Email_Newsletter-_-Developer_Ed%2BTech-_-WW_WW-_-SkillsNetwork-Courses-IBMDeveloperSkillsNetwork-DL0120EN-SkillsNetwork-20629446&cm_mmca1=000026UJ&cm_mmca2=10006555&cm_mmca3=M12345678&cvosrc=email.Newsletter.M12345678&cvo_campaign=000026UJ)  \n",
    "[http://www.cs.utoronto.ca/~hinton/absps/netflixICML.pdf](http://www.cs.utoronto.ca/~hinton/absps/netflixICML.pdf?cm_mmc=Email_Newsletter-_-Developer_Ed%2BTech-_-WW_WW-_-SkillsNetwork-Courses-IBMDeveloperSkillsNetwork-DL0120EN-SkillsNetwork-20629446&cm_mmca1=000026UJ&cm_mmca2=10006555&cm_mmca3=M12345678&cvosrc=email.Newsletter.M12345678&cvo_campaign=000026UJ&cm_mmc=Email_Newsletter-_-Developer_Ed%2BTech-_-WW_WW-_-SkillsNetwork-Courses-IBMDeveloperSkillsNetwork-DL0120EN-SkillsNetwork-20629446&cm_mmca1=000026UJ&cm_mmca2=10006555&cm_mmca3=M12345678&cvosrc=email.Newsletter.M12345678&cvo_campaign=000026UJ)<br>\n",
    "<http://imonad.com/rbm/restricted-boltzmann-machine/>  \n"
   ]
  },
  {
   "cell_type": "markdown",
   "metadata": {},
   "source": [
    "<hr>\n",
    "\n",
    "Copyright © 2018 [Cognitive Class](https://cocl.us/DX0108EN_CC). This notebook and its source code are released under the terms of the [MIT License](https://bigdatauniversity.com/mit-license?cm_mmc=Email_Newsletter-_-Developer_Ed%2BTech-_-WW_WW-_-SkillsNetwork-Courses-IBMDeveloperSkillsNetwork-DL0120EN-SkillsNetwork-20629446&cm_mmca1=000026UJ&cm_mmca2=10006555&cm_mmca3=M12345678&cvosrc=email.Newsletter.M12345678&cvo_campaign=000026UJ&cm_mmc=Email_Newsletter-_-Developer_Ed%2BTech-_-WW_WW-_-SkillsNetwork-Courses-IBMDeveloperSkillsNetwork-DL0120EN-SkillsNetwork-20629446&cm_mmca1=000026UJ&cm_mmca2=10006555&cm_mmca3=M12345678&cvosrc=email.Newsletter.M12345678&cvo_campaign=000026UJ).\n"
   ]
  }
 ],
 "metadata": {
  "kernelspec": {
   "display_name": "Python",
   "language": "python",
   "name": "conda-env-python-py"
  },
  "language_info": {
   "codemirror_mode": {
    "name": "ipython",
    "version": 3
   },
   "file_extension": ".py",
   "mimetype": "text/x-python",
   "name": "python",
   "nbconvert_exporter": "python",
   "pygments_lexer": "ipython3",
   "version": "3.6.11"
  },
  "widgets": {
   "state": {},
   "version": "1.1.2"
  }
 },
 "nbformat": 4,
 "nbformat_minor": 4
}
